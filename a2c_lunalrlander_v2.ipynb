{
 "cells": [
  {
   "cell_type": "markdown",
   "id": "6ace7ccc",
   "metadata": {},
   "source": [
    "<i>We certify that the code and data in this assignment were generated independently, using only the tools\n",
    "and resources defined in the course and that I did not receive any external help, coaching, or contributions\n",
    "during the production of this work.</i>"
   ]
  },
  {
   "cell_type": "code",
   "execution_count": 1,
   "id": "16f05bc4",
   "metadata": {},
   "outputs": [
    {
     "name": "stdout",
     "output_type": "stream",
     "text": [
      "Requirement already satisfied: gym in c:\\users\\bitba\\appdata\\local\\programs\\python\\python39\\lib\\site-packages (0.23.0)\n",
      "Requirement already satisfied: importlib-metadata>=4.10.0 in c:\\users\\bitba\\appdata\\local\\programs\\python\\python39\\lib\\site-packages (from gym) (4.11.1)\n",
      "Requirement already satisfied: cloudpickle>=1.2.0 in c:\\users\\bitba\\appdata\\local\\programs\\python\\python39\\lib\\site-packages (from gym) (2.0.0)\n",
      "Requirement already satisfied: gym-notices>=0.0.4 in c:\\users\\bitba\\appdata\\local\\programs\\python\\python39\\lib\\site-packages (from gym) (0.0.4)\n",
      "Requirement already satisfied: numpy>=1.18.0 in c:\\users\\bitba\\appdata\\local\\programs\\python\\python39\\lib\\site-packages (from gym) (1.22.3)\n",
      "Requirement already satisfied: zipp>=0.5 in c:\\users\\bitba\\appdata\\local\\programs\\python\\python39\\lib\\site-packages (from importlib-metadata>=4.10.0->gym) (3.7.0)\n"
     ]
    },
    {
     "name": "stderr",
     "output_type": "stream",
     "text": [
      "WARNING: You are using pip version 22.0.4; however, version 22.1.1 is available.\n",
      "You should consider upgrading via the 'C:\\Users\\bitba\\AppData\\Local\\Programs\\Python\\Python39\\python.exe -m pip install --upgrade pip' command.\n"
     ]
    },
    {
     "name": "stdout",
     "output_type": "stream",
     "text": [
      "Requirement already satisfied: pygame in c:\\users\\bitba\\appdata\\local\\programs\\python\\python39\\lib\\site-packages (2.1.2)\n"
     ]
    },
    {
     "name": "stderr",
     "output_type": "stream",
     "text": [
      "WARNING: You are using pip version 22.0.4; however, version 22.1.1 is available.\n",
      "You should consider upgrading via the 'C:\\Users\\bitba\\AppData\\Local\\Programs\\Python\\Python39\\python.exe -m pip install --upgrade pip' command.\n"
     ]
    },
    {
     "name": "stdout",
     "output_type": "stream",
     "text": [
      "Collecting Box2D\n",
      "  Using cached Box2D-2.3.2.tar.gz (427 kB)\n",
      "  Preparing metadata (setup.py): started\n",
      "  Preparing metadata (setup.py): finished with status 'done'\n",
      "Building wheels for collected packages: Box2D\n",
      "  Building wheel for Box2D (setup.py): started\n",
      "  Building wheel for Box2D (setup.py): finished with status 'error'\n",
      "  Running setup.py clean for Box2D\n",
      "Failed to build Box2D\n",
      "Installing collected packages: Box2D\n",
      "  Running setup.py install for Box2D: started\n",
      "  Running setup.py install for Box2D: finished with status 'error'\n"
     ]
    },
    {
     "name": "stderr",
     "output_type": "stream",
     "text": [
      "  error: subprocess-exited-with-error\n",
      "  \n",
      "  × python setup.py bdist_wheel did not run successfully.\n",
      "  │ exit code: 1\n",
      "  ╰─> [16 lines of output]\n",
      "      Using setuptools (version 56.0.0).\n",
      "      running bdist_wheel\n",
      "      running build\n",
      "      running build_py\n",
      "      creating build\n",
      "      creating build\\lib.win-amd64-3.9\n",
      "      creating build\\lib.win-amd64-3.9\\Box2D\n",
      "      copying library\\Box2D\\Box2D.py -> build\\lib.win-amd64-3.9\\Box2D\n",
      "      copying library\\Box2D\\__init__.py -> build\\lib.win-amd64-3.9\\Box2D\n",
      "      creating build\\lib.win-amd64-3.9\\Box2D\\b2\n",
      "      copying library\\Box2D\\b2\\__init__.py -> build\\lib.win-amd64-3.9\\Box2D\\b2\n",
      "      running build_ext\n",
      "      building 'Box2D._Box2D' extension\n",
      "      swigging Box2D\\Box2D.i to Box2D\\Box2D_wrap.cpp\n",
      "      swig.exe -python -c++ -IBox2D -small -O -includeall -ignoremissing -w201 -globals b2Globals -outdir library\\Box2D -keyword -w511 -D_SWIG_KWARGS -o Box2D\\Box2D_wrap.cpp Box2D\\Box2D.i\n",
      "      error: command 'swig.exe' failed: None\n",
      "      [end of output]\n",
      "  \n",
      "  note: This error originates from a subprocess, and is likely not a problem with pip.\n",
      "  ERROR: Failed building wheel for Box2D\n",
      "  error: subprocess-exited-with-error\n",
      "  \n",
      "  × Running setup.py install for Box2D did not run successfully.\n",
      "  │ exit code: 1\n",
      "  ╰─> [16 lines of output]\n",
      "      Using setuptools (version 56.0.0).\n",
      "      running install\n",
      "      running build\n",
      "      running build_py\n",
      "      creating build\n",
      "      creating build\\lib.win-amd64-3.9\n",
      "      creating build\\lib.win-amd64-3.9\\Box2D\n",
      "      copying library\\Box2D\\Box2D.py -> build\\lib.win-amd64-3.9\\Box2D\n",
      "      copying library\\Box2D\\__init__.py -> build\\lib.win-amd64-3.9\\Box2D\n",
      "      creating build\\lib.win-amd64-3.9\\Box2D\\b2\n",
      "      copying library\\Box2D\\b2\\__init__.py -> build\\lib.win-amd64-3.9\\Box2D\\b2\n",
      "      running build_ext\n",
      "      building 'Box2D._Box2D' extension\n",
      "      swigging Box2D\\Box2D.i to Box2D\\Box2D_wrap.cpp\n",
      "      swig.exe -python -c++ -IBox2D -small -O -includeall -ignoremissing -w201 -globals b2Globals -outdir library\\Box2D -keyword -w511 -D_SWIG_KWARGS -o Box2D\\Box2D_wrap.cpp Box2D\\Box2D.i\n",
      "      error: command 'swig.exe' failed: None\n",
      "      [end of output]\n",
      "  \n",
      "  note: This error originates from a subprocess, and is likely not a problem with pip.\n",
      "error: legacy-install-failure\n",
      "\n",
      "× Encountered error while trying to install package.\n",
      "╰─> Box2D\n",
      "\n",
      "note: This is an issue with the package mentioned above, not pip.\n",
      "hint: See above for output from the failure.\n",
      "WARNING: You are using pip version 22.0.4; however, version 22.1.1 is available.\n",
      "You should consider upgrading via the 'C:\\Users\\bitba\\AppData\\Local\\Programs\\Python\\Python39\\python.exe -m pip install --upgrade pip' command.\n"
     ]
    },
    {
     "name": "stdout",
     "output_type": "stream",
     "text": [
      "Requirement already satisfied: gym[all] in c:\\users\\bitba\\appdata\\local\\programs\\python\\python39\\lib\\site-packages (0.23.0)\n",
      "Requirement already satisfied: importlib-metadata>=4.10.0 in c:\\users\\bitba\\appdata\\local\\programs\\python\\python39\\lib\\site-packages (from gym[all]) (4.11.1)\n",
      "Requirement already satisfied: gym-notices>=0.0.4 in c:\\users\\bitba\\appdata\\local\\programs\\python\\python39\\lib\\site-packages (from gym[all]) (0.0.4)\n",
      "Requirement already satisfied: numpy>=1.18.0 in c:\\users\\bitba\\appdata\\local\\programs\\python\\python39\\lib\\site-packages (from gym[all]) (1.22.3)\n",
      "Requirement already satisfied: cloudpickle>=1.2.0 in c:\\users\\bitba\\appdata\\local\\programs\\python\\python39\\lib\\site-packages (from gym[all]) (2.0.0)\n",
      "Collecting lz4>=3.1.0\n",
      "  Using cached lz4-4.0.1-cp39-cp39-win_amd64.whl (98 kB)\n",
      "Requirement already satisfied: opencv-python>=3.0 in c:\\users\\bitba\\appdata\\local\\programs\\python\\python39\\lib\\site-packages (from gym[all]) (4.5.4.58)\n",
      "Collecting ale-py~=0.7.4\n",
      "  Using cached ale_py-0.7.5-cp39-cp39-win_amd64.whl (935 kB)\n",
      "Collecting box2d-py==2.3.5\n",
      "  Using cached box2d-py-2.3.5.tar.gz (374 kB)\n",
      "  Preparing metadata (setup.py): started\n",
      "  Preparing metadata (setup.py): finished with status 'done'\n",
      "Collecting pygame==2.1.0\n",
      "  Using cached pygame-2.1.0-cp39-cp39-win_amd64.whl (4.8 MB)\n",
      "Requirement already satisfied: scipy>=1.4.1 in c:\\users\\bitba\\appdata\\local\\programs\\python\\python39\\lib\\site-packages (from gym[all]) (1.7.1)\n",
      "Collecting mujoco-py<2.0,>=1.50\n",
      "  Using cached mujoco-py-1.50.1.68.tar.gz (120 kB)\n",
      "  Preparing metadata (setup.py): started\n",
      "  Preparing metadata (setup.py): finished with status 'done'\n",
      "Collecting importlib-resources\n",
      "  Using cached importlib_resources-5.7.1-py3-none-any.whl (28 kB)\n",
      "Requirement already satisfied: zipp>=0.5 in c:\\users\\bitba\\appdata\\local\\programs\\python\\python39\\lib\\site-packages (from importlib-metadata>=4.10.0->gym[all]) (3.7.0)\n",
      "Requirement already satisfied: glfw>=1.4.0 in c:\\users\\bitba\\appdata\\local\\programs\\python\\python39\\lib\\site-packages (from mujoco-py<2.0,>=1.50->gym[all]) (2.5.1)\n",
      "Requirement already satisfied: Cython>=0.27.2 in c:\\users\\bitba\\appdata\\local\\programs\\python\\python39\\lib\\site-packages (from mujoco-py<2.0,>=1.50->gym[all]) (0.29.28)\n",
      "Requirement already satisfied: imageio>=2.1.2 in c:\\users\\bitba\\appdata\\local\\programs\\python\\python39\\lib\\site-packages (from mujoco-py<2.0,>=1.50->gym[all]) (2.16.1)\n",
      "Requirement already satisfied: cffi>=1.10 in c:\\users\\bitba\\appdata\\local\\programs\\python\\python39\\lib\\site-packages (from mujoco-py<2.0,>=1.50->gym[all]) (1.15.0)\n",
      "Requirement already satisfied: lockfile>=0.12.2 in c:\\users\\bitba\\appdata\\local\\programs\\python\\python39\\lib\\site-packages (from mujoco-py<2.0,>=1.50->gym[all]) (0.12.2)\n",
      "Requirement already satisfied: pycparser in c:\\users\\bitba\\appdata\\local\\programs\\python\\python39\\lib\\site-packages (from cffi>=1.10->mujoco-py<2.0,>=1.50->gym[all]) (2.21)\n",
      "Requirement already satisfied: pillow>=8.3.2 in c:\\users\\bitba\\appdata\\local\\programs\\python\\python39\\lib\\site-packages (from imageio>=2.1.2->mujoco-py<2.0,>=1.50->gym[all]) (9.0.1)\n",
      "Building wheels for collected packages: box2d-py, mujoco-py\n",
      "  Building wheel for box2d-py (setup.py): started\n",
      "  Building wheel for box2d-py (setup.py): finished with status 'error'\n",
      "  Running setup.py clean for box2d-py\n",
      "  Building wheel for mujoco-py (setup.py): started\n",
      "  Building wheel for mujoco-py (setup.py): finished with status 'error'\n",
      "  Running setup.py clean for mujoco-py\n",
      "Failed to build box2d-py mujoco-py\n",
      "Installing collected packages: box2d-py, pygame, lz4, importlib-resources, mujoco-py, ale-py\n",
      "  Running setup.py install for box2d-py: started\n",
      "  Running setup.py install for box2d-py: finished with status 'error'\n"
     ]
    },
    {
     "name": "stderr",
     "output_type": "stream",
     "text": [
      "  error: subprocess-exited-with-error\n",
      "  \n",
      "  × python setup.py bdist_wheel did not run successfully.\n",
      "  │ exit code: 1\n",
      "  ╰─> [16 lines of output]\n",
      "      Using setuptools (version 56.0.0).\n",
      "      running bdist_wheel\n",
      "      running build\n",
      "      running build_py\n",
      "      creating build\n",
      "      creating build\\lib.win-amd64-3.9\n",
      "      creating build\\lib.win-amd64-3.9\\Box2D\n",
      "      copying library\\Box2D\\Box2D.py -> build\\lib.win-amd64-3.9\\Box2D\n",
      "      copying library\\Box2D\\__init__.py -> build\\lib.win-amd64-3.9\\Box2D\n",
      "      creating build\\lib.win-amd64-3.9\\Box2D\\b2\n",
      "      copying library\\Box2D\\b2\\__init__.py -> build\\lib.win-amd64-3.9\\Box2D\\b2\n",
      "      running build_ext\n",
      "      building 'Box2D._Box2D' extension\n",
      "      swigging Box2D\\Box2D.i to Box2D\\Box2D_wrap.cpp\n",
      "      swig.exe -python -c++ -IBox2D -small -O -includeall -ignoremissing -w201 -globals b2Globals -outdir library\\Box2D -keyword -w511 -D_SWIG_KWARGS -o Box2D\\Box2D_wrap.cpp Box2D\\Box2D.i\n",
      "      error: command 'swig.exe' failed: None\n",
      "      [end of output]\n",
      "  \n",
      "  note: This error originates from a subprocess, and is likely not a problem with pip.\n",
      "  ERROR: Failed building wheel for box2d-py\n",
      "  error: subprocess-exited-with-error\n",
      "  \n",
      "  × python setup.py bdist_wheel did not run successfully.\n",
      "  │ exit code: 1\n",
      "  ╰─> [55 lines of output]\n",
      "      running bdist_wheel\n",
      "      running build\n",
      "      \n",
      "      You appear to be missing MuJoCo.  We expected to find the file here: C:\\Users\\bitba\\.mujoco\\mjpro150\n",
      "      \n",
      "      This package only provides python bindings, the library must be installed separately.\n",
      "      \n",
      "      Please follow the instructions on the README to install MuJoCo\n",
      "      \n",
      "          https://github.com/openai/mujoco-py#install-mujoco\n",
      "      \n",
      "      Which can be downloaded from the website\n",
      "      \n",
      "          https://www.roboti.us/index.html\n",
      "      \n",
      "      Traceback (most recent call last):\n",
      "        File \"<string>\", line 2, in <module>\n",
      "        File \"<pip-setuptools-caller>\", line 34, in <module>\n",
      "        File \"C:\\Users\\bitba\\AppData\\Local\\Temp\\pip-install-td012zle\\mujoco-py_02d8093c4bd2424a807646a1db999989\\setup.py\", line 32, in <module>\n",
      "          setup(\n",
      "        File \"C:\\Users\\bitba\\AppData\\Local\\Programs\\Python\\Python39\\lib\\site-packages\\setuptools\\__init__.py\", line 153, in setup\n",
      "          return distutils.core.setup(**attrs)\n",
      "        File \"C:\\Users\\bitba\\AppData\\Local\\Programs\\Python\\Python39\\lib\\distutils\\core.py\", line 148, in setup\n",
      "          dist.run_commands()\n",
      "        File \"C:\\Users\\bitba\\AppData\\Local\\Programs\\Python\\Python39\\lib\\distutils\\dist.py\", line 966, in run_commands\n",
      "          self.run_command(cmd)\n",
      "        File \"C:\\Users\\bitba\\AppData\\Local\\Programs\\Python\\Python39\\lib\\distutils\\dist.py\", line 985, in run_command\n",
      "          cmd_obj.run()\n",
      "        File \"C:\\Users\\bitba\\AppData\\Local\\Programs\\Python\\Python39\\lib\\site-packages\\wheel\\bdist_wheel.py\", line 299, in run\n",
      "          self.run_command('build')\n",
      "        File \"C:\\Users\\bitba\\AppData\\Local\\Programs\\Python\\Python39\\lib\\distutils\\cmd.py\", line 313, in run_command\n",
      "          self.distribution.run_command(command)\n",
      "        File \"C:\\Users\\bitba\\AppData\\Local\\Programs\\Python\\Python39\\lib\\distutils\\dist.py\", line 985, in run_command\n",
      "          cmd_obj.run()\n",
      "        File \"C:\\Users\\bitba\\AppData\\Local\\Temp\\pip-install-td012zle\\mujoco-py_02d8093c4bd2424a807646a1db999989\\setup.py\", line 28, in run\n",
      "          import mujoco_py  # noqa: force build\n",
      "        File \"C:\\Users\\bitba\\AppData\\Local\\Temp\\pip-install-td012zle\\mujoco-py_02d8093c4bd2424a807646a1db999989\\mujoco_py\\__init__.py\", line 3, in <module>\n",
      "          from mujoco_py.builder import cymj, ignore_mujoco_warnings, functions, MujocoException\n",
      "        File \"C:\\Users\\bitba\\AppData\\Local\\Temp\\pip-install-td012zle\\mujoco-py_02d8093c4bd2424a807646a1db999989\\mujoco_py\\builder.py\", line 502, in <module>\n",
      "          mjpro_path, key_path = discover_mujoco()\n",
      "        File \"C:\\Users\\bitba\\AppData\\Local\\Temp\\pip-install-td012zle\\mujoco-py_02d8093c4bd2424a807646a1db999989\\mujoco_py\\utils.py\", line 93, in discover_mujoco\n",
      "          raise Exception(message)\n",
      "      Exception:\n",
      "      You appear to be missing MuJoCo.  We expected to find the file here: C:\\Users\\bitba\\.mujoco\\mjpro150\n",
      "      \n",
      "      This package only provides python bindings, the library must be installed separately.\n",
      "      \n",
      "      Please follow the instructions on the README to install MuJoCo\n",
      "      \n",
      "          https://github.com/openai/mujoco-py#install-mujoco\n",
      "      \n",
      "      Which can be downloaded from the website\n",
      "      \n",
      "          https://www.roboti.us/index.html\n",
      "      \n",
      "      [end of output]\n",
      "  \n",
      "  note: This error originates from a subprocess, and is likely not a problem with pip.\n",
      "  ERROR: Failed building wheel for mujoco-py\n",
      "  error: subprocess-exited-with-error\n",
      "  \n",
      "  × Running setup.py install for box2d-py did not run successfully.\n",
      "  │ exit code: 1\n",
      "  ╰─> [16 lines of output]\n",
      "      Using setuptools (version 56.0.0).\n",
      "      running install\n",
      "      running build\n",
      "      running build_py\n",
      "      creating build\n",
      "      creating build\\lib.win-amd64-3.9\n",
      "      creating build\\lib.win-amd64-3.9\\Box2D\n",
      "      copying library\\Box2D\\Box2D.py -> build\\lib.win-amd64-3.9\\Box2D\n",
      "      copying library\\Box2D\\__init__.py -> build\\lib.win-amd64-3.9\\Box2D\n",
      "      creating build\\lib.win-amd64-3.9\\Box2D\\b2\n",
      "      copying library\\Box2D\\b2\\__init__.py -> build\\lib.win-amd64-3.9\\Box2D\\b2\n",
      "      running build_ext\n",
      "      building 'Box2D._Box2D' extension\n",
      "      swigging Box2D\\Box2D.i to Box2D\\Box2D_wrap.cpp\n",
      "      swig.exe -python -c++ -IBox2D -small -O -includeall -ignoremissing -w201 -globals b2Globals -outdir library\\Box2D -keyword -w511 -D_SWIG_KWARGS -o Box2D\\Box2D_wrap.cpp Box2D\\Box2D.i\n",
      "      error: command 'swig.exe' failed: None\n",
      "      [end of output]\n",
      "  \n",
      "  note: This error originates from a subprocess, and is likely not a problem with pip.\n",
      "error: legacy-install-failure\n",
      "\n",
      "× Encountered error while trying to install package.\n",
      "╰─> box2d-py\n",
      "\n",
      "note: This is an issue with the package mentioned above, not pip.\n",
      "hint: See above for output from the failure.\n",
      "WARNING: You are using pip version 22.0.4; however, version 22.1.1 is available.\n",
      "You should consider upgrading via the 'C:\\Users\\bitba\\AppData\\Local\\Programs\\Python\\Python39\\python.exe -m pip install --upgrade pip' command.\n"
     ]
    },
    {
     "name": "stdout",
     "output_type": "stream",
     "text": [
      "Requirement already satisfied: gym[Box_2D] in c:\\users\\bitba\\appdata\\local\\programs\\python\\python39\\lib\\site-packages (0.23.0)\n",
      "Requirement already satisfied: cloudpickle>=1.2.0 in c:\\users\\bitba\\appdata\\local\\programs\\python\\python39\\lib\\site-packages (from gym[Box_2D]) (2.0.0)\n",
      "Requirement already satisfied: numpy>=1.18.0 in c:\\users\\bitba\\appdata\\local\\programs\\python\\python39\\lib\\site-packages (from gym[Box_2D]) (1.22.3)\n",
      "Requirement already satisfied: gym-notices>=0.0.4 in c:\\users\\bitba\\appdata\\local\\programs\\python\\python39\\lib\\site-packages (from gym[Box_2D]) (0.0.4)\n",
      "Requirement already satisfied: importlib-metadata>=4.10.0 in c:\\users\\bitba\\appdata\\local\\programs\\python\\python39\\lib\\site-packages (from gym[Box_2D]) (4.11.1)\n",
      "Requirement already satisfied: zipp>=0.5 in c:\\users\\bitba\\appdata\\local\\programs\\python\\python39\\lib\\site-packages (from importlib-metadata>=4.10.0->gym[Box_2D]) (3.7.0)\n"
     ]
    },
    {
     "name": "stderr",
     "output_type": "stream",
     "text": [
      "WARNING: gym 0.23.0 does not provide the extra 'box_2d'\n",
      "WARNING: You are using pip version 22.0.4; however, version 22.1.1 is available.\n",
      "You should consider upgrading via the 'C:\\Users\\bitba\\AppData\\Local\\Programs\\Python\\Python39\\python.exe -m pip install --upgrade pip' command.\n"
     ]
    },
    {
     "name": "stdout",
     "output_type": "stream",
     "text": [
      "Collecting box2d\n",
      "  Using cached Box2D-2.3.2.tar.gz (427 kB)\n",
      "  Preparing metadata (setup.py): started\n",
      "  Preparing metadata (setup.py): finished with status 'done'\n",
      "Collecting box2d-kengz\n",
      "  Using cached Box2D-kengz-2.3.3.tar.gz (425 kB)\n",
      "  Preparing metadata (setup.py): started\n",
      "  Preparing metadata (setup.py): finished with status 'done'\n",
      "Building wheels for collected packages: box2d, box2d-kengz\n",
      "  Building wheel for box2d (setup.py): started\n",
      "  Building wheel for box2d (setup.py): finished with status 'error'\n",
      "  Running setup.py clean for box2d\n",
      "  Building wheel for box2d-kengz (setup.py): started\n",
      "  Building wheel for box2d-kengz (setup.py): finished with status 'error'\n",
      "  Running setup.py clean for box2d-kengz\n",
      "Failed to build box2d box2d-kengz\n",
      "Installing collected packages: box2d-kengz, box2d\n",
      "  Running setup.py install for box2d-kengz: started\n",
      "  Running setup.py install for box2d-kengz: finished with status 'error'\n"
     ]
    },
    {
     "name": "stderr",
     "output_type": "stream",
     "text": [
      "  error: subprocess-exited-with-error\n",
      "  \n",
      "  × python setup.py bdist_wheel did not run successfully.\n",
      "  │ exit code: 1\n",
      "  ╰─> [16 lines of output]\n",
      "      Using setuptools (version 56.0.0).\n",
      "      running bdist_wheel\n",
      "      running build\n",
      "      running build_py\n",
      "      creating build\n",
      "      creating build\\lib.win-amd64-3.9\n",
      "      creating build\\lib.win-amd64-3.9\\Box2D\n",
      "      copying library\\Box2D\\Box2D.py -> build\\lib.win-amd64-3.9\\Box2D\n",
      "      copying library\\Box2D\\__init__.py -> build\\lib.win-amd64-3.9\\Box2D\n",
      "      creating build\\lib.win-amd64-3.9\\Box2D\\b2\n",
      "      copying library\\Box2D\\b2\\__init__.py -> build\\lib.win-amd64-3.9\\Box2D\\b2\n",
      "      running build_ext\n",
      "      building 'Box2D._Box2D' extension\n",
      "      swigging Box2D\\Box2D.i to Box2D\\Box2D_wrap.cpp\n",
      "      swig.exe -python -c++ -IBox2D -small -O -includeall -ignoremissing -w201 -globals b2Globals -outdir library\\Box2D -keyword -w511 -D_SWIG_KWARGS -o Box2D\\Box2D_wrap.cpp Box2D\\Box2D.i\n",
      "      error: command 'swig.exe' failed: None\n",
      "      [end of output]\n",
      "  \n",
      "  note: This error originates from a subprocess, and is likely not a problem with pip.\n",
      "  ERROR: Failed building wheel for box2d\n",
      "  error: subprocess-exited-with-error\n",
      "  \n",
      "  × python setup.py bdist_wheel did not run successfully.\n",
      "  │ exit code: 1\n",
      "  ╰─> [16 lines of output]\n",
      "      Using setuptools (version 56.0.0).\n",
      "      running bdist_wheel\n",
      "      running build\n",
      "      running build_py\n",
      "      creating build\n",
      "      creating build\\lib.win-amd64-3.9\n",
      "      creating build\\lib.win-amd64-3.9\\Box2D\n",
      "      copying library\\Box2D\\Box2D.py -> build\\lib.win-amd64-3.9\\Box2D\n",
      "      copying library\\Box2D\\__init__.py -> build\\lib.win-amd64-3.9\\Box2D\n",
      "      creating build\\lib.win-amd64-3.9\\Box2D\\b2\n",
      "      copying library\\Box2D\\b2\\__init__.py -> build\\lib.win-amd64-3.9\\Box2D\\b2\n",
      "      running build_ext\n",
      "      building 'Box2D._Box2D' extension\n",
      "      swigging Box2D\\Box2D.i to Box2D\\Box2D_wrap.cpp\n",
      "      swig.exe -python -c++ -IBox2D -small -O -includeall -ignoremissing -w201 -globals b2Globals -outdir library\\Box2D -keyword -w511 -D_SWIG_KWARGS -o Box2D\\Box2D_wrap.cpp Box2D\\Box2D.i\n",
      "      error: command 'swig.exe' failed: None\n",
      "      [end of output]\n",
      "  \n",
      "  note: This error originates from a subprocess, and is likely not a problem with pip.\n",
      "  ERROR: Failed building wheel for box2d-kengz\n",
      "  error: subprocess-exited-with-error\n",
      "  \n",
      "  × Running setup.py install for box2d-kengz did not run successfully.\n",
      "  │ exit code: 1\n",
      "  ╰─> [16 lines of output]\n",
      "      Using setuptools (version 56.0.0).\n",
      "      running install\n",
      "      running build\n",
      "      running build_py\n",
      "      creating build\n",
      "      creating build\\lib.win-amd64-3.9\n",
      "      creating build\\lib.win-amd64-3.9\\Box2D\n",
      "      copying library\\Box2D\\Box2D.py -> build\\lib.win-amd64-3.9\\Box2D\n",
      "      copying library\\Box2D\\__init__.py -> build\\lib.win-amd64-3.9\\Box2D\n",
      "      creating build\\lib.win-amd64-3.9\\Box2D\\b2\n",
      "      copying library\\Box2D\\b2\\__init__.py -> build\\lib.win-amd64-3.9\\Box2D\\b2\n",
      "      running build_ext\n",
      "      building 'Box2D._Box2D' extension\n",
      "      swigging Box2D\\Box2D.i to Box2D\\Box2D_wrap.cpp\n",
      "      swig.exe -python -c++ -IBox2D -small -O -includeall -ignoremissing -w201 -globals b2Globals -outdir library\\Box2D -keyword -w511 -D_SWIG_KWARGS -o Box2D\\Box2D_wrap.cpp Box2D\\Box2D.i\n",
      "      error: command 'swig.exe' failed: None\n",
      "      [end of output]\n",
      "  \n",
      "  note: This error originates from a subprocess, and is likely not a problem with pip.\n",
      "error: legacy-install-failure\n",
      "\n",
      "× Encountered error while trying to install package.\n",
      "╰─> box2d-kengz\n",
      "\n",
      "note: This is an issue with the package mentioned above, not pip.\n",
      "hint: See above for output from the failure.\n",
      "WARNING: You are using pip version 22.0.4; however, version 22.1.1 is available.\n",
      "You should consider upgrading via the 'C:\\Users\\bitba\\AppData\\Local\\Programs\\Python\\Python39\\python.exe -m pip install --upgrade pip' command.\n"
     ]
    }
   ],
   "source": [
    "!pip install gym\n",
    "!pip install pygame\n",
    "!pip install Box2D\n",
    "!pip install gym[all]\n",
    "!pip install gym[Box_2D]\n",
    "!pip3 install box2d box2d-kengz"
   ]
  },
  {
   "cell_type": "code",
   "execution_count": 2,
   "id": "ba77e7cd",
   "metadata": {},
   "outputs": [],
   "source": [
    "import gym, os\n",
    "from gym import spaces\n",
    "from itertools import count\n",
    "from collections import OrderedDict\n",
    "import numpy as np\n",
    "import torch\n",
    "import torch.nn as nn\n",
    "import torch.optim as optim\n",
    "import torch.nn.functional as F\n",
    "from torch.distributions import Categorical\n",
    "import matplotlib.pyplot as plt\n",
    "import math\n",
    "from gym import envs"
   ]
  },
  {
   "cell_type": "code",
   "execution_count": 3,
   "id": "2791f670",
   "metadata": {},
   "outputs": [
    {
     "data": {
      "text/plain": [
       "596327564392600"
      ]
     },
     "execution_count": 3,
     "metadata": {},
     "output_type": "execute_result"
    }
   ],
   "source": [
    "torch.seed()"
   ]
  },
  {
   "cell_type": "code",
   "execution_count": 4,
   "id": "8ce4927f",
   "metadata": {},
   "outputs": [],
   "source": [
    "#torch.manual_seed(171255685658100)"
   ]
  },
  {
   "cell_type": "code",
   "execution_count": 5,
   "id": "ddcc8416",
   "metadata": {},
   "outputs": [
    {
     "data": {
      "text/plain": [
       "device(type='cpu')"
      ]
     },
     "execution_count": 5,
     "metadata": {},
     "output_type": "execute_result"
    }
   ],
   "source": [
    "device = torch.device(\"cuda\" if torch.cuda.is_available() else \"cpu\")\n",
    "device"
   ]
  },
  {
   "cell_type": "code",
   "execution_count": 6,
   "id": "c7948deb",
   "metadata": {},
   "outputs": [
    {
     "ename": "AttributeError",
     "evalue": "module 'gym.envs.box2d' has no attribute 'LunarLander'",
     "output_type": "error",
     "traceback": [
      "\u001b[1;31m---------------------------------------------------------------------------\u001b[0m",
      "\u001b[1;31mAttributeError\u001b[0m                            Traceback (most recent call last)",
      "\u001b[1;32m~\\AppData\\Local\\Temp/ipykernel_7396/3888479509.py\u001b[0m in \u001b[0;36m<module>\u001b[1;34m\u001b[0m\n\u001b[1;32m----> 1\u001b[1;33m \u001b[0menv\u001b[0m \u001b[1;33m=\u001b[0m \u001b[0mgym\u001b[0m\u001b[1;33m.\u001b[0m\u001b[0mmake\u001b[0m\u001b[1;33m(\u001b[0m\u001b[1;34m'LunarLander-v2'\u001b[0m\u001b[1;33m)\u001b[0m\u001b[1;33m\u001b[0m\u001b[1;33m\u001b[0m\u001b[0m\n\u001b[0m\u001b[0;32m      2\u001b[0m \u001b[0mprint\u001b[0m\u001b[1;33m(\u001b[0m\u001b[0menv\u001b[0m\u001b[1;33m.\u001b[0m\u001b[0mobservation_space\u001b[0m\u001b[1;33m)\u001b[0m\u001b[1;33m\u001b[0m\u001b[1;33m\u001b[0m\u001b[0m\n\u001b[0;32m      3\u001b[0m \u001b[0mprint\u001b[0m\u001b[1;33m(\u001b[0m\u001b[0menv\u001b[0m\u001b[1;33m.\u001b[0m\u001b[0maction_space\u001b[0m\u001b[1;33m)\u001b[0m\u001b[1;33m\u001b[0m\u001b[1;33m\u001b[0m\u001b[0m\n",
      "\u001b[1;32mc:\\Users\\bitba\\AppData\\Local\\Programs\\Python\\Python39\\lib\\site-packages\\gym\\envs\\registration.py\u001b[0m in \u001b[0;36mmake\u001b[1;34m(id, **kwargs)\u001b[0m\n\u001b[0;32m    674\u001b[0m \u001b[1;31m# fmt: on\u001b[0m\u001b[1;33m\u001b[0m\u001b[1;33m\u001b[0m\u001b[1;33m\u001b[0m\u001b[0m\n\u001b[0;32m    675\u001b[0m \u001b[1;32mdef\u001b[0m \u001b[0mmake\u001b[0m\u001b[1;33m(\u001b[0m\u001b[0mid\u001b[0m\u001b[1;33m:\u001b[0m \u001b[0mstr\u001b[0m\u001b[1;33m,\u001b[0m \u001b[1;33m**\u001b[0m\u001b[0mkwargs\u001b[0m\u001b[1;33m)\u001b[0m \u001b[1;33m->\u001b[0m \u001b[1;34m\"Env\"\u001b[0m\u001b[1;33m:\u001b[0m\u001b[1;33m\u001b[0m\u001b[1;33m\u001b[0m\u001b[0m\n\u001b[1;32m--> 676\u001b[1;33m     \u001b[1;32mreturn\u001b[0m \u001b[0mregistry\u001b[0m\u001b[1;33m.\u001b[0m\u001b[0mmake\u001b[0m\u001b[1;33m(\u001b[0m\u001b[0mid\u001b[0m\u001b[1;33m,\u001b[0m \u001b[1;33m**\u001b[0m\u001b[0mkwargs\u001b[0m\u001b[1;33m)\u001b[0m\u001b[1;33m\u001b[0m\u001b[1;33m\u001b[0m\u001b[0m\n\u001b[0m\u001b[0;32m    677\u001b[0m \u001b[1;33m\u001b[0m\u001b[0m\n\u001b[0;32m    678\u001b[0m \u001b[1;33m\u001b[0m\u001b[0m\n",
      "\u001b[1;32mc:\\Users\\bitba\\AppData\\Local\\Programs\\Python\\Python39\\lib\\site-packages\\gym\\envs\\registration.py\u001b[0m in \u001b[0;36mmake\u001b[1;34m(self, path, **kwargs)\u001b[0m\n\u001b[0;32m    518\u001b[0m         \u001b[0mspec\u001b[0m \u001b[1;33m=\u001b[0m \u001b[0mself\u001b[0m\u001b[1;33m.\u001b[0m\u001b[0mspec\u001b[0m\u001b[1;33m(\u001b[0m\u001b[0mpath\u001b[0m\u001b[1;33m)\u001b[0m\u001b[1;33m\u001b[0m\u001b[1;33m\u001b[0m\u001b[0m\n\u001b[0;32m    519\u001b[0m         \u001b[1;31m# Construct the environment\u001b[0m\u001b[1;33m\u001b[0m\u001b[1;33m\u001b[0m\u001b[1;33m\u001b[0m\u001b[0m\n\u001b[1;32m--> 520\u001b[1;33m         \u001b[1;32mreturn\u001b[0m \u001b[0mspec\u001b[0m\u001b[1;33m.\u001b[0m\u001b[0mmake\u001b[0m\u001b[1;33m(\u001b[0m\u001b[1;33m**\u001b[0m\u001b[0mkwargs\u001b[0m\u001b[1;33m)\u001b[0m\u001b[1;33m\u001b[0m\u001b[1;33m\u001b[0m\u001b[0m\n\u001b[0m\u001b[0;32m    521\u001b[0m \u001b[1;33m\u001b[0m\u001b[0m\n\u001b[0;32m    522\u001b[0m     \u001b[1;32mdef\u001b[0m \u001b[0mall\u001b[0m\u001b[1;33m(\u001b[0m\u001b[0mself\u001b[0m\u001b[1;33m)\u001b[0m\u001b[1;33m:\u001b[0m\u001b[1;33m\u001b[0m\u001b[1;33m\u001b[0m\u001b[0m\n",
      "\u001b[1;32mc:\\Users\\bitba\\AppData\\Local\\Programs\\Python\\Python39\\lib\\site-packages\\gym\\envs\\registration.py\u001b[0m in \u001b[0;36mmake\u001b[1;34m(self, **kwargs)\u001b[0m\n\u001b[0;32m    137\u001b[0m             \u001b[0menv\u001b[0m \u001b[1;33m=\u001b[0m \u001b[0mself\u001b[0m\u001b[1;33m.\u001b[0m\u001b[0mentry_point\u001b[0m\u001b[1;33m(\u001b[0m\u001b[1;33m**\u001b[0m\u001b[0m_kwargs\u001b[0m\u001b[1;33m)\u001b[0m\u001b[1;33m\u001b[0m\u001b[1;33m\u001b[0m\u001b[0m\n\u001b[0;32m    138\u001b[0m         \u001b[1;32melse\u001b[0m\u001b[1;33m:\u001b[0m\u001b[1;33m\u001b[0m\u001b[1;33m\u001b[0m\u001b[0m\n\u001b[1;32m--> 139\u001b[1;33m             \u001b[0mcls\u001b[0m \u001b[1;33m=\u001b[0m \u001b[0mload\u001b[0m\u001b[1;33m(\u001b[0m\u001b[0mself\u001b[0m\u001b[1;33m.\u001b[0m\u001b[0mentry_point\u001b[0m\u001b[1;33m)\u001b[0m\u001b[1;33m\u001b[0m\u001b[1;33m\u001b[0m\u001b[0m\n\u001b[0m\u001b[0;32m    140\u001b[0m             \u001b[0menv\u001b[0m \u001b[1;33m=\u001b[0m \u001b[0mcls\u001b[0m\u001b[1;33m(\u001b[0m\u001b[1;33m**\u001b[0m\u001b[0m_kwargs\u001b[0m\u001b[1;33m)\u001b[0m\u001b[1;33m\u001b[0m\u001b[1;33m\u001b[0m\u001b[0m\n\u001b[0;32m    141\u001b[0m \u001b[1;33m\u001b[0m\u001b[0m\n",
      "\u001b[1;32mc:\\Users\\bitba\\AppData\\Local\\Programs\\Python\\Python39\\lib\\site-packages\\gym\\envs\\registration.py\u001b[0m in \u001b[0;36mload\u001b[1;34m(name)\u001b[0m\n\u001b[0;32m     54\u001b[0m     \u001b[0mmod_name\u001b[0m\u001b[1;33m,\u001b[0m \u001b[0mattr_name\u001b[0m \u001b[1;33m=\u001b[0m \u001b[0mname\u001b[0m\u001b[1;33m.\u001b[0m\u001b[0msplit\u001b[0m\u001b[1;33m(\u001b[0m\u001b[1;34m\":\"\u001b[0m\u001b[1;33m)\u001b[0m\u001b[1;33m\u001b[0m\u001b[1;33m\u001b[0m\u001b[0m\n\u001b[0;32m     55\u001b[0m     \u001b[0mmod\u001b[0m \u001b[1;33m=\u001b[0m \u001b[0mimportlib\u001b[0m\u001b[1;33m.\u001b[0m\u001b[0mimport_module\u001b[0m\u001b[1;33m(\u001b[0m\u001b[0mmod_name\u001b[0m\u001b[1;33m)\u001b[0m\u001b[1;33m\u001b[0m\u001b[1;33m\u001b[0m\u001b[0m\n\u001b[1;32m---> 56\u001b[1;33m     \u001b[0mfn\u001b[0m \u001b[1;33m=\u001b[0m \u001b[0mgetattr\u001b[0m\u001b[1;33m(\u001b[0m\u001b[0mmod\u001b[0m\u001b[1;33m,\u001b[0m \u001b[0mattr_name\u001b[0m\u001b[1;33m)\u001b[0m\u001b[1;33m\u001b[0m\u001b[1;33m\u001b[0m\u001b[0m\n\u001b[0m\u001b[0;32m     57\u001b[0m     \u001b[1;32mreturn\u001b[0m \u001b[0mfn\u001b[0m\u001b[1;33m\u001b[0m\u001b[1;33m\u001b[0m\u001b[0m\n\u001b[0;32m     58\u001b[0m \u001b[1;33m\u001b[0m\u001b[0m\n",
      "\u001b[1;31mAttributeError\u001b[0m: module 'gym.envs.box2d' has no attribute 'LunarLander'"
     ]
    }
   ],
   "source": [
    "env = gym.make('LunarLander-v2')\n",
    "print(env.observation_space)\n",
    "print(env.action_space)"
   ]
  },
  {
   "cell_type": "code",
   "execution_count": null,
   "id": "52991363",
   "metadata": {},
   "outputs": [
    {
     "data": {
      "text/plain": [
       "8"
      ]
     },
     "execution_count": 158,
     "metadata": {},
     "output_type": "execute_result"
    }
   ],
   "source": [
    "env.observation_space.shape[0]"
   ]
  },
  {
   "cell_type": "code",
   "execution_count": null,
   "id": "c3f90dbd",
   "metadata": {},
   "outputs": [],
   "source": [
    "class Actor(nn.Module):\n",
    "\n",
    "    def __init__(self):\n",
    "        super(Actor, self).__init__()\n",
    "        # input - 2\n",
    "        # output - 3 (action probabilities)\n",
    "        self.fc1 = nn.Linear(8, 512)\n",
    "        self.fc2 = nn.Linear(512, 256)\n",
    "        self.fc3 = nn.Linear(256, 128)\n",
    "        #self.fc4 = nn.Linear(128, 128)\n",
    "        self.fc5 = nn.Linear(128,4)\n",
    "       \n",
    "\n",
    "    def forward(self, x):\n",
    "        x = F.relu(self.fc1(x))\n",
    "        x = F.relu(self.fc2(x))\n",
    "        x = F.relu(self.fc3(x))\n",
    "        #x = F.relu(self.fc4(x))\n",
    "        x = F.softmax(self.fc5(x), dim = -1)\n",
    "        \n",
    "        return x"
   ]
  },
  {
   "cell_type": "code",
   "execution_count": null,
   "id": "3600df0c",
   "metadata": {},
   "outputs": [],
   "source": [
    "class Critic(nn.Module):\n",
    "\n",
    "    def __init__(self):\n",
    "        super(Critic, self).__init__()\n",
    "        # input - 2\n",
    "        # output - 3 (action probabilities)\n",
    "        self.fc1 = nn.Linear(8, 512)\n",
    "        self.fc2 = nn.Linear(512, 256)\n",
    "        self.fc3 = nn.Linear(256, 128)\n",
    "        #self.fc4 = nn.Linear(128, 128)\n",
    "        self.fc5 = nn.Linear(128,1)\n",
    "        \n",
    "    def forward(self, x):\n",
    "        x = F.relu(self.fc1(x))\n",
    "        x = F.relu(self.fc2(x))\n",
    "        x = F.relu(self.fc3(x))\n",
    "        #x = F.relu(self.fc4(x))\n",
    "        x = F.relu(self.fc5(x))\n",
    "        \n",
    "        return x"
   ]
  },
  {
   "cell_type": "code",
   "execution_count": null,
   "id": "969f9bef",
   "metadata": {},
   "outputs": [],
   "source": [
    "actor = Actor().to(device)\n",
    "critic = Critic().to(device)"
   ]
  },
  {
   "cell_type": "code",
   "execution_count": null,
   "id": "25a3565c",
   "metadata": {
    "scrolled": false
   },
   "outputs": [
    {
     "name": "stdout",
     "output_type": "stream",
     "text": [
      "Episode:  0  Last avg reward:  3.179480045799346\n",
      "Episode:  10  Last avg reward:  139.03474979700798\n",
      "Episode:  20  Last avg reward:  150.995315578241\n",
      "Episode:  30  Last avg reward:  117.09399562949379\n",
      "Episode:  40  Last avg reward:  125.95239067096603\n",
      "Episode:  50  Last avg reward:  156.4795786856766\n",
      "Episode:  60  Last avg reward:  172.97363231454045\n",
      "Episode:  70  Last avg reward:  90.86012822123385\n",
      "Episode:  80  Last avg reward:  134.6320907183418\n",
      "Episode:  90  Last avg reward:  137.78401081258235\n",
      "Episode:  100  Last avg reward:  164.75813279369783\n",
      "Episode:  110  Last avg reward:  133.4336258558435\n",
      "Episode:  120  Last avg reward:  103.78229075795691\n",
      "Episode:  130  Last avg reward:  171.3146258819583\n",
      "Episode:  140  Last avg reward:  146.02653277727967\n",
      "Episode:  150  Last avg reward:  181.84979700726382\n",
      "Episode:  160  Last avg reward:  164.96617599965788\n",
      "Episode:  170  Last avg reward:  83.17470990172728\n",
      "Episode:  180  Last avg reward:  85.65495781517342\n",
      "Episode:  190  Last avg reward:  44.22906089179264\n",
      "Episode:  200  Last avg reward:  -74.63292461918854\n",
      "Episode:  210  Last avg reward:  31.875796390567793\n",
      "Episode:  220  Last avg reward:  23.082436913994854\n",
      "Episode:  230  Last avg reward:  75.85656039308893\n",
      "Episode:  240  Last avg reward:  -10.162796420884293\n",
      "Episode:  250  Last avg reward:  -19.413409338310025\n",
      "Episode:  260  Last avg reward:  -36.90655214243047\n",
      "Episode:  270  Last avg reward:  -58.69598917325554\n",
      "Episode:  280  Last avg reward:  -119.7564139316897\n",
      "Episode:  290  Last avg reward:  -42.115544850347725\n",
      "Episode:  300  Last avg reward:  -23.511415879006925\n",
      "Episode:  310  Last avg reward:  12.47011097351925\n",
      "Episode:  320  Last avg reward:  -56.59137343144207\n",
      "Episode:  330  Last avg reward:  35.87942702056826\n",
      "Episode:  340  Last avg reward:  -34.07358036104613\n",
      "Episode:  350  Last avg reward:  14.502960704978028\n",
      "Episode:  360  Last avg reward:  87.66505323820664\n",
      "Episode:  370  Last avg reward:  -32.521824118228665\n",
      "Episode:  380  Last avg reward:  -63.86550730846881\n",
      "Episode:  390  Last avg reward:  -102.76555378253303\n",
      "Episode:  400  Last avg reward:  -78.66149280256873\n",
      "Episode:  410  Last avg reward:  -16.144841259674013\n",
      "Episode:  420  Last avg reward:  23.76544955783074\n",
      "Episode:  430  Last avg reward:  55.61423526704615\n",
      "Episode:  440  Last avg reward:  129.50411414273162\n",
      "Episode:  450  Last avg reward:  125.87660157637659\n",
      "Episode:  460  Last avg reward:  107.73143476201035\n",
      "Episode:  470  Last avg reward:  101.82592703274001\n",
      "Episode:  480  Last avg reward:  84.34006402181585\n",
      "Episode:  490  Last avg reward:  -10.830146411560099\n",
      "Episode:  500  Last avg reward:  -12.789680330971324\n",
      "Episode:  510  Last avg reward:  -5.615694634052291\n",
      "Episode:  520  Last avg reward:  -3.2833750373922883\n",
      "Episode:  530  Last avg reward:  1.301764218026411\n",
      "Episode:  540  Last avg reward:  27.637413409336283\n",
      "Episode:  550  Last avg reward:  28.538175914079837\n",
      "Episode:  560  Last avg reward:  -10.749562930611651\n",
      "Episode:  570  Last avg reward:  -22.609962525297977\n",
      "Episode:  580  Last avg reward:  -0.11900014980827364\n",
      "Episode:  590  Last avg reward:  105.72411865538793\n",
      "Episode:  600  Last avg reward:  160.24166100544127\n",
      "Episode:  610  Last avg reward:  149.1521904569185\n",
      "Episode:  620  Last avg reward:  129.08787417232224\n",
      "Episode:  630  Last avg reward:  179.09849986954686\n",
      "Episode:  640  Last avg reward:  182.21108932000658\n",
      "Training Completed !!\n"
     ]
    }
   ],
   "source": [
    "\n",
    "max_episodes= 5000+1\n",
    "env.reset()\n",
    "list_r=[]\n",
    "\n",
    "log_probs = []\n",
    "values = []\n",
    "rewards = []\n",
    "masks = []\n",
    "\n",
    "\n",
    "gamma = 0.99\n",
    "\n",
    "lr_a = 0.001\n",
    "lr_c = 0.001\n",
    "\n",
    "optimizer_a = torch.optim.Adam(actor.parameters(), lr= lr_a)\n",
    "optimizer_c = torch.optim.Adam(critic.parameters(), lr= lr_c)\n",
    "\n",
    "#critic_loss = torch.nn.MSELoss()\n",
    "#actor_loss = torch.nn.CrossEntropyLoss()\n",
    "\n",
    "\n",
    "for i in range(max_episodes):\n",
    "    done=False\n",
    "    state= env.reset()\n",
    "    r=0\n",
    "    u = 0 \n",
    "    d = 1 \n",
    "    log_probs = []\n",
    "    values = []\n",
    "    rewards = []\n",
    "    masks = []\n",
    "    episode_entropy = 0\n",
    "   \n",
    "    loss_a_list = []\n",
    "    actor_losses= 0\n",
    "    q_val = 0\n",
    "    \n",
    "    while not done:\n",
    "        \n",
    "        value = critic(torch.Tensor(state).to(device))\n",
    "        act_prob = actor(torch.Tensor(state).to(device))\n",
    "\n",
    "        #detaching to numbers for calculation\n",
    "        value = value.cpu().detach().numpy()[0]\n",
    "        prob = act_prob.cpu().detach().numpy() + 0.000001 #to avoid runtime error\n",
    "        #env.render()\n",
    "        \n",
    "      #sample an action\n",
    "        action = torch.multinomial(act_prob,1 ).cpu().detach().numpy()[0]\n",
    "\n",
    "        log_prob = torch.log(act_prob.squeeze(0)[action])\n",
    "\n",
    "        entropy = -np.sum(np.mean(prob) * np.log(prob))\n",
    "\n",
    "      #pass action in env\n",
    "        next_state,reward,done, info = env.step(action)\n",
    "        #reward = 100*((math.sin(3*next_state[0]) * 0.0025 + 0.5 * next_state[1] * next_state[1]) - (math.sin(3*state[0]) * 0.0025 + 0.5 * state[1] * state[1]))\n",
    "        r+=reward\n",
    "\n",
    "\n",
    "        rewards.append(reward)\n",
    "        values.append(value)\n",
    "        log_probs.append(log_prob)\n",
    "        episode_entropy += entropy\n",
    "        state = next_state\n",
    "        \n",
    "\n",
    "        qval = critic(torch.Tensor(next_state).to(device))\n",
    "        qval = qval.detach().cpu().numpy()[0]\n",
    "\n",
    "    qvals = np.zeros_like(values)\n",
    "    for t in reversed(range(len(rewards))):\n",
    "        qval = rewards[t] + gamma * qval\n",
    "        qvals[t] = qval\n",
    "\n",
    "    values = torch.FloatTensor(values).to(device)\n",
    "    qvals = torch.FloatTensor(qvals).to(device)\n",
    "    log_probs = torch.stack(log_probs).to(device)\n",
    "\n",
    "    advantage = qvals - values\n",
    "\n",
    "    actor_loss = (-log_probs * advantage).mean() + 0.001 * episode_entropy\n",
    "    critic_loss = 0.5 * advantage.pow(2).mean()  + 0.001 * episode_entropy\n",
    "    critic_loss.requires_grad =True\n",
    "\n",
    "    optimizer_a.zero_grad()\n",
    "    optimizer_c.zero_grad()\n",
    "\n",
    "    actor_loss.backward()\n",
    "    critic_loss.backward()\n",
    "\n",
    "    optimizer_a.step()\n",
    "    optimizer_c.step()   \n",
    "    \n",
    "\n",
    "    list_r.append(r)\n",
    "    if i%10 == 0:\n",
    "      print(\"Episode: \",i,\" Last avg reward: \",sum(list_r[-10:])/10)\n",
    "   \n",
    "    if sum(list_r[-10:])/10 >= 225:\n",
    "        print(\"Training Completed !!\")\n",
    "        break"
   ]
  },
  {
   "cell_type": "code",
   "execution_count": null,
   "id": "3cf78080",
   "metadata": {},
   "outputs": [
    {
     "data": {
      "text/plain": [
       "Text(0.5, 1.0, 'Rewards')"
      ]
     },
     "execution_count": 183,
     "metadata": {},
     "output_type": "execute_result"
    },
    {
     "data": {
      "image/png": "[encoded data removed]",
      "text/plain": [
       "<Figure size 432x288 with 1 Axes>"
      ]
     },
     "metadata": {
      "needs_background": "light"
     },
     "output_type": "display_data"
    }
   ],
   "source": [
    "#print rewards\n",
    "plt.plot(list_r)\n",
    "plt.xlabel(\"Episodes\")\n",
    "plt.ylabel(\"Rewards\")\n",
    "plt.title(\"Rewards\")"
   ]
  },
  {
   "cell_type": "code",
   "execution_count": null,
   "id": "2e2bff40",
   "metadata": {},
   "outputs": [],
   "source": [
    "#Dont run this code, this might change the evaluation results\n",
    "#torch.save(actor.state_dict(), 'actor_LL.pt')\n",
    "#torch.save(critic.state_dict(), 'critic_LL.pt')"
   ]
  },
  {
   "cell_type": "markdown",
   "id": "a019a872",
   "metadata": {},
   "source": [
    "**Evaluation of the Model**"
   ]
  },
  {
   "cell_type": "code",
   "execution_count": null,
   "id": "dc5a0c9f",
   "metadata": {},
   "outputs": [
    {
     "data": {
      "text/plain": [
       "<All keys matched successfully>"
      ]
     },
     "execution_count": 201,
     "metadata": {},
     "output_type": "execute_result"
    }
   ],
   "source": [
    "actor = Actor().to(device)\n",
    "actor.load_state_dict(torch.load('actor_LL.pt'))\n",
    "critic = Critic().to(device)\n",
    "critic.load_state_dict(torch.load('critic_LL.pt'))"
   ]
  },
  {
   "cell_type": "code",
   "execution_count": null,
   "id": "3c120ceb",
   "metadata": {},
   "outputs": [
    {
     "name": "stdout",
     "output_type": "stream",
     "text": [
      "Episode:  0  Last avg reward:  283.39256433609955\n",
      "Episode:  1  Last avg reward:  228.57451987783168\n",
      "Episode:  2  Last avg reward:  32.89761867540563\n",
      "Episode:  3  Last avg reward:  75.33537278510107\n",
      "Episode:  4  Last avg reward:  137.5232340206214\n",
      "Episode:  5  Last avg reward:  202.85549851511544\n",
      "Episode:  6  Last avg reward:  274.0572159693893\n",
      "Episode:  7  Last avg reward:  70.18882093357112\n",
      "Episode:  8  Last avg reward:  240.12503509671544\n",
      "Episode:  9  Last avg reward:  91.65534469674289\n"
     ]
    }
   ],
   "source": [
    "list_re=[]\n",
    "actor.eval()\n",
    "\n",
    "for i in range(10):\n",
    "    state = env.reset()\n",
    "    done = False\n",
    "    r = 0\n",
    "    while not done:\n",
    "        \n",
    "        env.render()\n",
    "\n",
    "        act_prob = actor(torch.Tensor(state).to(device))        \n",
    "        action = torch.multinomial(act_prob,1 ).cpu().detach().numpy()[0]\n",
    "        next_state,reward,done, info = env.step(action)\n",
    "        r+=reward\n",
    "        \n",
    "        state = next_state\n",
    "    list_re.append(r)  \n",
    "    print(\"Episode: \",i,\" Last avg reward: \",list_re[-1:][0])"
   ]
  },
  {
   "cell_type": "code",
   "execution_count": null,
   "id": "41fa7193",
   "metadata": {},
   "outputs": [
    {
     "name": "stdout",
     "output_type": "stream",
     "text": [
      "Average Reward during Evaluation:  163.6605224906594\n"
     ]
    },
    {
     "data": {
      "image/png": "[encoded data removed]",
      "text/plain": [
       "<Figure size 432x288 with 1 Axes>"
      ]
     },
     "metadata": {
      "needs_background": "light"
     },
     "output_type": "display_data"
    }
   ],
   "source": [
    "plt.plot(list_re)\n",
    "plt.xlabel(\"Episodes\")\n",
    "plt.ylabel(\"Rewards\")\n",
    "plt.title(\" Evaluation Rewards\")\n",
    "print(\"Average Reward during Evaluation: \", np.mean(list_re))"
   ]
  },
  {
   "cell_type": "code",
   "execution_count": null,
   "id": "206f4921",
   "metadata": {},
   "outputs": [],
   "source": [
    "env.close()"
   ]
  },
  {
   "cell_type": "markdown",
   "id": "0826e426",
   "metadata": {},
   "source": [
    "**Reference:**\n",
    "\n",
    "- https://towardsdatascience.com/understanding-actor-critic-methods-931b97b6df3f"
   ]
  },
  {
   "cell_type": "code",
   "execution_count": null,
   "id": "11e701ed",
   "metadata": {},
   "outputs": [],
   "source": []
  }
 ],
 "metadata": {
  "interpreter": {
   "hash": "23dbfd74957891d165059e99eec926bd190c592231f8e084d44d01c13e273430"
  },
  "kernelspec": {
   "display_name": "Python 3.9.5 64-bit",
   "language": "python",
   "name": "python3"
  },
  "language_info": {
   "codemirror_mode": {
    "name": "ipython",
    "version": 3
   },
   "file_extension": ".py",
   "mimetype": "text/x-python",
   "name": "python",
   "nbconvert_exporter": "python",
   "pygments_lexer": "ipython3",
   "version": "3.9.5"
  }
 },
 "nbformat": 4,
 "nbformat_minor": 5
}
