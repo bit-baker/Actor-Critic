{
 "cells": [
  {
   "cell_type": "markdown",
   "metadata": {
    "id": "eRtmGhv7lPdZ"
   },
   "source": [
    "**\"We certify that the code and data in this assignment were generated independently, using\n",
    "only the tools and resources defined in the course and that I/we did not receive any external\n",
    "help, coaching or contributions during the production of this work.\"**"
   ]
  },
  {
   "cell_type": "code",
   "execution_count": 1,
   "metadata": {
    "id": "WZOW122NdmJ0"
   },
   "outputs": [],
   "source": [
    "import numpy as np\n",
    "import matplotlib.pyplot as plt\n",
    "import gym\n",
    "from gym import spaces"
   ]
  },
  {
   "cell_type": "code",
   "execution_count": 2,
   "metadata": {
    "id": "xC_1z20jdH2e"
   },
   "outputs": [],
   "source": [
    "class GridEnvironment(gym.Env):\n",
    "  metadata = { 'render.modes': []}\n",
    "\n",
    "  def __init__(self):\n",
    "    self.observation_space = spaces.Discrete(16)\n",
    "    self.action_space = spaces.Discrete(4)\n",
    "    self.max_timesteps = 20\n",
    "\n",
    "  def reset(self):\n",
    "    self.timestep = 0\n",
    "    self.state = np.zeros((4, 4))\n",
    "    #x,y = np.random.randint(4),np.random.randint(4)\n",
    "    self.agent_pos = [0,0]#[x, y] #starting position of the agent(random starting position)\n",
    "    self.orc_pos = [3,0] #position of Oracle\n",
    "    self.morp_pos = [0,2] #position of Morpheus\n",
    "    self.esc_pos = [3, 3] #goal position\n",
    "    self.smi_pos = [2,3] #position of Agent Smith\n",
    "\n",
    "    #Setting different colours to differentiate various positions\n",
    "    self.state[tuple(self.agent_pos)] = 2\n",
    "    self.state[tuple(self.morp_pos)] = 3\n",
    "    self.state[tuple(self.orc_pos)] = 4\n",
    "    self.state[tuple(self.esc_pos)] = 6\n",
    "    self.state[tuple(self.smi_pos)] = 5\n",
    "\n",
    "    #reset visit count to reward states\n",
    "    self.m_flag,self.s_flag,self.o_flag = 0,0,0\n",
    "\n",
    "    observation = self.state.flatten()\n",
    "    pos = self.agent_pos\n",
    "    return  tuple(pos)\n",
    "\n",
    "  def step(self, action):\n",
    "    if action == 0:#down\n",
    "      self.agent_pos[0] += 1\n",
    "    if action == 1:#up\n",
    "      self.agent_pos[0] -= 1\n",
    "    if action == 2:#right\n",
    "      self.agent_pos[1] += 1\n",
    "    if action == 3:#left\n",
    "      self.agent_pos[1] -= 1\n",
    "    \n",
    "    self.agent_pos = np.clip(self.agent_pos, 0, 3)\n",
    "    self.state = np.zeros((4,4))\n",
    "\n",
    "    self.state[tuple(self.agent_pos)] = 2\n",
    "    self.state[tuple(self.morp_pos)] = 3\n",
    "    self.state[tuple(self.orc_pos)] = 4\n",
    "    self.state[tuple(self.esc_pos)] = 6\n",
    "    self.state[tuple(self.smi_pos)] = 5\n",
    "\n",
    "    observation = self.state.flatten()\n",
    "    #Info contains the details of a state\n",
    "    info = \"\"\n",
    "    reward = -0.25\n",
    "    terminal = False\n",
    "    if (self.agent_pos == (0,0)).all():\n",
    "      reward = 0\n",
    "      \n",
    "      \n",
    "\n",
    "    if (self.agent_pos == self.esc_pos).all():\n",
    "      reward = 10\n",
    "      terminal = True\n",
    "      info = \"Congrats you have escaped the Matrix\"\n",
    "    \n",
    "    \n",
    "    if (self.agent_pos == self.morp_pos).all() and self.m_flag == 0:\n",
    "      reward = 5\n",
    "      info = \"Meet Morpheus\"\n",
    "      self.m_flag = 1\n",
    "\n",
    "   \n",
    "    if (self.agent_pos == self.orc_pos).all() and self.o_flag == 0:\n",
    "      reward = 2\n",
    "      info = \"Meet Oracle\"\n",
    "      self.o_flag = 1\n",
    "\n",
    "  \n",
    "    if (self.agent_pos == self.smi_pos).all() and self.s_flag == 0:\n",
    "      reward = -10\n",
    "      info = \"Oh no!, you have encountered with Agent Smith\"\n",
    "      self.s_flag = 1\n",
    "\n",
    "    self.timestep += 1\n",
    "    limit = True if self.timestep >= self.max_timesteps else False\n",
    "\n",
    "    if terminal or limit:\n",
    "      done =True\n",
    "    else:\n",
    "      done = False\n",
    "    \n",
    "    pos = self.agent_pos\n",
    "    return tuple(pos), reward, done, info\n",
    "\n",
    "  def render(self):\n",
    "    plt.text(-0.3,3.1,\"Oracle\")\n",
    "    plt.text(2.8,3.1,\"Exit\")\n",
    "    plt.text(2.7,2.2,\"Agent\\nSmith\")\n",
    "    plt.text(1.5,0,\"Morpheus\")\n",
    "    \n",
    "    plt.imshow(self.state,cmap=\"Greens\")"
   ]
  },
  {
   "cell_type": "code",
   "execution_count": 3,
   "metadata": {
    "colab": {
     "base_uri": "https://localhost:8080/",
     "height": 269
    },
    "id": "Ikrxhy_LdizD",
    "outputId": "3281bc45-0efb-4089-d112-e42fe105075c"
   },
   "outputs": [
    {
     "data": {
      "image/png": "[encoded data removed]",
      "text/plain": [
       "<Figure size 432x288 with 1 Axes>"
      ]
     },
     "metadata": {
      "needs_background": "light"
     },
     "output_type": "display_data"
    }
   ],
   "source": [
    "env = GridEnvironment()\n",
    "obs = env.reset()\n",
    "env.render()"
   ]
  },
  {
   "cell_type": "code",
   "execution_count": 4,
   "metadata": {
    "id": "Va29VPgpd5O0"
   },
   "outputs": [],
   "source": [
    "import gym, os\n",
    "from itertools import count\n",
    "from collections import OrderedDict\n",
    "import numpy as np\n",
    "import torch\n",
    "import torch.nn as nn\n",
    "import torch.optim as optim\n",
    "import torch.nn.functional as F\n",
    "from torch.distributions import Categorical\n",
    "import matplotlib.pyplot as plt\n",
    "import math"
   ]
  },
  {
   "cell_type": "code",
   "execution_count": 5,
   "metadata": {
    "colab": {
     "base_uri": "https://localhost:8080/"
    },
    "id": "P2OTyxjUOXSy",
    "outputId": "7f77a7d3-0e06-4a39-d47c-199d6310a103"
   },
   "outputs": [
    {
     "data": {
      "text/plain": [
       "<torch._C.Generator at 0x7fccd2a11fb0>"
      ]
     },
     "execution_count": 5,
     "metadata": {},
     "output_type": "execute_result"
    }
   ],
   "source": [
    "torch.manual_seed(2002882284479475884)"
   ]
  },
  {
   "cell_type": "code",
   "execution_count": 6,
   "metadata": {
    "id": "QIqHXuoJdtbu"
   },
   "outputs": [],
   "source": [
    "\n",
    "class Actor(nn.Module):\n",
    "    \n",
    "    def __init__(self):\n",
    "        super(Actor, self).__init__()\n",
    "        # input - 2\n",
    "        # output - 3 (action probabilities)\n",
    "        self.fc1 = nn.Linear(2, 20)\n",
    "        self.fc5 = nn.Linear(20,4)\n",
    "       \n",
    "\n",
    "    def forward(self, x):\n",
    "        x = F.relu(self.fc1(x))\n",
    "        x = F.softmax(self.fc5(x), dim = -1)\n",
    "        \n",
    "        return x"
   ]
  },
  {
   "cell_type": "code",
   "execution_count": 8,
   "metadata": {
    "id": "74-_lfZgd1o8"
   },
   "outputs": [],
   "source": [
    "class Critic(nn.Module):\n",
    "  \n",
    "    def __init__(self):\n",
    "        super(Critic, self).__init__()\n",
    "        # input - 2\n",
    "        # output - 3 (action probabilities)\n",
    "        self.fc1 = nn.Linear(2, 20)\n",
    "        self.fc5 = nn.Linear(20,1)\n",
    "        \n",
    "    def forward(self, x):\n",
    "        x = F.relu(self.fc1(x))\n",
    "        x = F.relu(self.fc5(x))\n",
    "        \n",
    "        return x"
   ]
  },
  {
   "cell_type": "code",
   "execution_count": 9,
   "metadata": {
    "colab": {
     "base_uri": "https://localhost:8080/"
    },
    "id": "JTGOzJQoeYk1",
    "outputId": "a222624b-689c-4fea-ebe5-e8a924e3d650"
   },
   "outputs": [
    {
     "data": {
      "text/plain": [
       "device(type='cpu')"
      ]
     },
     "execution_count": 9,
     "metadata": {},
     "output_type": "execute_result"
    }
   ],
   "source": [
    "device = torch.device(\"cuda\" if torch.cuda.is_available() else \"cpu\")\n",
    "device"
   ]
  },
  {
   "cell_type": "code",
   "execution_count": 14,
   "metadata": {
    "colab": {
     "base_uri": "https://localhost:8080/"
    },
    "id": "8V94VoMxd-uY",
    "outputId": "910e77d5-bb8a-477b-be66-b7a6a210e392"
   },
   "outputs": [
    {
     "name": "stdout",
     "output_type": "stream",
     "text": [
      "Episode:  0  Last avg reward:  0.275\n",
      "Episode:  10  Last avg reward:  -3.175\n",
      "Episode:  20  Last avg reward:  0.85\n",
      "Episode:  30  Last avg reward:  -1.1\n",
      "Episode:  40  Last avg reward:  -3.0\n",
      "Episode:  50  Last avg reward:  -3.025\n",
      "Episode:  60  Last avg reward:  -1.25\n",
      "Episode:  70  Last avg reward:  -2.225\n",
      "Episode:  80  Last avg reward:  -1.325\n",
      "Episode:  90  Last avg reward:  0.55\n",
      "Episode:  100  Last avg reward:  -0.925\n",
      "Episode:  110  Last avg reward:  -2.45\n",
      "Episode:  120  Last avg reward:  -1.25\n",
      "Episode:  130  Last avg reward:  -0.75\n",
      "Episode:  140  Last avg reward:  -2.45\n",
      "Episode:  150  Last avg reward:  2.825\n",
      "Episode:  160  Last avg reward:  0.15\n",
      "Episode:  170  Last avg reward:  2.25\n",
      "Episode:  180  Last avg reward:  3.15\n",
      "Episode:  190  Last avg reward:  6.625\n",
      "Episode:  200  Last avg reward:  -0.1\n",
      "Episode:  210  Last avg reward:  4.1\n",
      "Episode:  220  Last avg reward:  6.875\n",
      "Episode:  230  Last avg reward:  8.275\n",
      "Episode:  240  Last avg reward:  7.45\n",
      "Episode:  250  Last avg reward:  8.125\n",
      "Episode:  260  Last avg reward:  6.25\n",
      "Episode:  270  Last avg reward:  4.325\n",
      "Episode:  280  Last avg reward:  6.1\n",
      "Episode:  290  Last avg reward:  7.575\n",
      "Episode:  300  Last avg reward:  5.2\n",
      "Episode:  310  Last avg reward:  9.35\n",
      "Episode:  320  Last avg reward:  7.625\n",
      "Episode:  330  Last avg reward:  7.35\n",
      "Episode:  340  Last avg reward:  5.6\n",
      "Episode:  350  Last avg reward:  7.725\n",
      "Episode:  360  Last avg reward:  6.05\n",
      "Episode:  370  Last avg reward:  7.325\n",
      "Episode:  380  Last avg reward:  5.1\n",
      "Episode:  390  Last avg reward:  6.075\n",
      "Episode:  400  Last avg reward:  7.85\n",
      "Episode:  410  Last avg reward:  7.55\n",
      "Episode:  420  Last avg reward:  8.6\n",
      "Episode:  430  Last avg reward:  5.0\n",
      "Episode:  440  Last avg reward:  5.15\n",
      "Episode:  450  Last avg reward:  8.025\n",
      "Episode:  460  Last avg reward:  6.125\n",
      "Episode:  470  Last avg reward:  9.475\n",
      "Episode:  480  Last avg reward:  9.85\n",
      "Episode:  490  Last avg reward:  4.15\n",
      "Episode:  500  Last avg reward:  2.25\n",
      "Episode:  510  Last avg reward:  8.675\n",
      "Episode:  520  Last avg reward:  9.025\n",
      "Episode:  530  Last avg reward:  7.45\n",
      "Episode:  540  Last avg reward:  9.525\n",
      "Episode:  550  Last avg reward:  7.4\n",
      "Episode:  560  Last avg reward:  9.2\n",
      "Episode:  570  Last avg reward:  5.3\n",
      "Episode:  580  Last avg reward:  9.625\n",
      "Episode:  590  Last avg reward:  10.0\n",
      "Episode:  600  Last avg reward:  10.275\n",
      "Episode:  610  Last avg reward:  8.125\n",
      "Episode:  620  Last avg reward:  7.9\n",
      "Episode:  630  Last avg reward:  8.75\n",
      "Episode:  640  Last avg reward:  8.125\n",
      "Episode:  650  Last avg reward:  6.4\n",
      "Episode:  660  Last avg reward:  10.125\n",
      "Episode:  670  Last avg reward:  9.425\n",
      "Episode:  680  Last avg reward:  8.35\n",
      "Episode:  690  Last avg reward:  9.55\n",
      "Episode:  700  Last avg reward:  9.05\n",
      "Episode:  710  Last avg reward:  9.375\n",
      "Episode:  720  Last avg reward:  9.3\n",
      "Episode:  730  Last avg reward:  9.725\n",
      "Episode:  740  Last avg reward:  9.775\n",
      "Episode:  750  Last avg reward:  7.9\n",
      "Episode:  760  Last avg reward:  8.4\n",
      "Episode:  770  Last avg reward:  9.55\n",
      "Episode:  780  Last avg reward:  9.9\n",
      "Episode:  790  Last avg reward:  8.75\n",
      "Episode:  800  Last avg reward:  5.525\n",
      "Episode:  810  Last avg reward:  7.95\n",
      "Episode:  820  Last avg reward:  9.625\n",
      "Episode:  830  Last avg reward:  7.675\n",
      "Episode:  840  Last avg reward:  7.975\n",
      "Episode:  850  Last avg reward:  7.45\n",
      "Episode:  860  Last avg reward:  9.825\n",
      "Episode:  870  Last avg reward:  8.425\n",
      "Episode:  880  Last avg reward:  7.475\n",
      "Episode:  890  Last avg reward:  7.7\n",
      "Episode:  900  Last avg reward:  9.55\n",
      "Episode:  910  Last avg reward:  9.575\n",
      "Episode:  920  Last avg reward:  10.475\n",
      "Episode:  930  Last avg reward:  10.05\n",
      "Episode:  940  Last avg reward:  8.125\n",
      "Episode:  950  Last avg reward:  8.0\n",
      "Episode:  960  Last avg reward:  6.775\n",
      "Episode:  970  Last avg reward:  7.45\n",
      "Episode:  980  Last avg reward:  8.45\n",
      "Episode:  990  Last avg reward:  8.925\n",
      "Episode:  1000  Last avg reward:  9.35\n",
      "Episode:  1010  Last avg reward:  7.775\n",
      "Episode:  1020  Last avg reward:  9.4\n",
      "Episode:  1030  Last avg reward:  9.175\n",
      "Episode:  1040  Last avg reward:  9.4\n",
      "Episode:  1050  Last avg reward:  9.85\n",
      "Episode:  1060  Last avg reward:  9.85\n",
      "Episode:  1070  Last avg reward:  10.25\n",
      "Episode:  1080  Last avg reward:  10.675\n",
      "Episode:  1090  Last avg reward:  10.0\n",
      "Episode:  1100  Last avg reward:  10.575\n",
      "Episode:  1110  Last avg reward:  5.275\n",
      "Episode:  1120  Last avg reward:  7.875\n",
      "Episode:  1130  Last avg reward:  10.1\n",
      "Episode:  1140  Last avg reward:  8.675\n",
      "Episode:  1150  Last avg reward:  9.85\n",
      "Episode:  1160  Last avg reward:  9.85\n",
      "Episode:  1170  Last avg reward:  10.075\n",
      "Episode:  1180  Last avg reward:  10.0\n",
      "Episode:  1190  Last avg reward:  10.225\n",
      "Episode:  1200  Last avg reward:  10.1\n",
      "Episode:  1210  Last avg reward:  9.775\n",
      "Episode:  1220  Last avg reward:  9.825\n",
      "Episode:  1230  Last avg reward:  5.525\n",
      "Episode:  1240  Last avg reward:  9.2\n",
      "Episode:  1250  Last avg reward:  8.225\n",
      "Episode:  1260  Last avg reward:  8.0\n",
      "Episode:  1270  Last avg reward:  9.65\n",
      "Episode:  1280  Last avg reward:  8.675\n",
      "Episode:  1290  Last avg reward:  9.375\n",
      "Episode:  1300  Last avg reward:  9.8\n",
      "Episode:  1310  Last avg reward:  9.575\n",
      "Episode:  1320  Last avg reward:  9.625\n",
      "Episode:  1330  Last avg reward:  6.275\n",
      "Episode:  1340  Last avg reward:  10.2\n",
      "Episode:  1350  Last avg reward:  10.075\n",
      "Episode:  1360  Last avg reward:  8.425\n",
      "Episode:  1370  Last avg reward:  10.075\n",
      "Episode:  1380  Last avg reward:  10.45\n",
      "Episode:  1390  Last avg reward:  10.525\n",
      "Episode:  1400  Last avg reward:  10.75\n",
      "Episode:  1410  Last avg reward:  8.65\n",
      "Episode:  1420  Last avg reward:  7.475\n",
      "Episode:  1430  Last avg reward:  9.8\n",
      "Episode:  1440  Last avg reward:  10.6\n",
      "Episode:  1450  Last avg reward:  10.525\n",
      "Episode:  1460  Last avg reward:  10.725\n",
      "Episode:  1470  Last avg reward:  8.9\n",
      "Episode:  1480  Last avg reward:  10.325\n",
      "Episode:  1490  Last avg reward:  9.875\n",
      "Episode:  1500  Last avg reward:  10.55\n",
      "Episode:  1510  Last avg reward:  9.525\n",
      "Episode:  1520  Last avg reward:  10.35\n",
      "Episode:  1530  Last avg reward:  10.675\n",
      "Episode:  1540  Last avg reward:  7.25\n",
      "Episode:  1550  Last avg reward:  9.8\n",
      "Episode:  1560  Last avg reward:  10.725\n",
      "Episode:  1570  Last avg reward:  10.725\n",
      "Episode:  1580  Last avg reward:  10.75\n",
      "Episode:  1590  Last avg reward:  9.8\n",
      "Episode:  1600  Last avg reward:  10.7\n",
      "Episode:  1610  Last avg reward:  10.5\n",
      "Episode:  1620  Last avg reward:  10.975\n",
      "Episode:  1630  Last avg reward:  10.725\n",
      "Episode:  1640  Last avg reward:  10.45\n",
      "Episode:  1650  Last avg reward:  10.6\n",
      "Episode:  1660  Last avg reward:  10.05\n",
      "Episode:  1670  Last avg reward:  10.75\n",
      "Episode:  1680  Last avg reward:  10.55\n",
      "Episode:  1690  Last avg reward:  10.75\n",
      "Episode:  1700  Last avg reward:  10.325\n",
      "Episode:  1710  Last avg reward:  8.425\n",
      "Episode:  1720  Last avg reward:  8.0\n",
      "Episode:  1730  Last avg reward:  8.425\n",
      "Episode:  1740  Last avg reward:  10.1\n",
      "Episode:  1750  Last avg reward:  9.4\n",
      "Episode:  1760  Last avg reward:  10.575\n",
      "Episode:  1770  Last avg reward:  10.55\n",
      "Episode:  1780  Last avg reward:  9.875\n",
      "Episode:  1790  Last avg reward:  9.775\n",
      "Episode:  1800  Last avg reward:  10.25\n",
      "Episode:  1810  Last avg reward:  11.0\n",
      "Episode:  1820  Last avg reward:  9.875\n",
      "Episode:  1830  Last avg reward:  9.875\n",
      "Episode:  1840  Last avg reward:  10.85\n",
      "Episode:  1850  Last avg reward:  10.55\n",
      "Episode:  1860  Last avg reward:  10.9\n",
      "Episode:  1870  Last avg reward:  10.3\n",
      "Episode:  1880  Last avg reward:  10.775\n",
      "Episode:  1890  Last avg reward:  10.7\n",
      "Episode:  1900  Last avg reward:  10.925\n",
      "Episode:  1910  Last avg reward:  10.725\n",
      "Episode:  1920  Last avg reward:  10.525\n",
      "Episode:  1930  Last avg reward:  10.775\n",
      "Episode:  1940  Last avg reward:  10.325\n",
      "Episode:  1950  Last avg reward:  10.1\n",
      "Episode:  1960  Last avg reward:  8.45\n",
      "Episode:  1970  Last avg reward:  9.65\n",
      "Episode:  1980  Last avg reward:  9.65\n",
      "Episode:  1990  Last avg reward:  10.75\n",
      "Episode:  2000  Last avg reward:  10.375\n"
     ]
    }
   ],
   "source": [
    "actor = Actor().to(device)\n",
    "critic = Critic().to(device)\n",
    "#target_critic = Critic().to(device)\n",
    "\n",
    "max_episodes= 2000+1\n",
    "env.reset()\n",
    "list_r=[]\n",
    "\n",
    "log_probs = []\n",
    "values = []\n",
    "rewards = []\n",
    "masks = []\n",
    "\n",
    "update = 15\n",
    "gamma = 0.9\n",
    "\n",
    "lr_a = 0.001\n",
    "lr_c = 0.001\n",
    "\n",
    "optimizer_a = torch.optim.SGD(actor.parameters(), lr= lr_a, momentum=0.9)\n",
    "optimizer_c = torch.optim.SGD(critic.parameters(), lr= lr_c,momentum=0.9)\n",
    "\n",
    "#critic_loss = torch.nn.MSELoss()\n",
    "#actor_loss = torch.nn.CrossEntropyLoss()\n",
    "\n",
    "\n",
    "for i in range(max_episodes):\n",
    "    done=False\n",
    "    state= env.reset()\n",
    "    r=0\n",
    "    u = 0 \n",
    "    d = 1 \n",
    "    log_probs = []\n",
    "    values = []\n",
    "    rewards = []\n",
    "    masks = []\n",
    "    episode_entropy = 0\n",
    "   \n",
    "    loss_a_list = []\n",
    "    actor_losses= 0\n",
    "    q_val = 0\n",
    "    while not done:\n",
    "      \n",
    "      value = critic(torch.Tensor(state))\n",
    "      act_prob = actor(torch.Tensor(state))\n",
    "\n",
    "        #detaching to numbers for calculation\n",
    "      value = value.detach().numpy()[0]\n",
    "      prob = act_prob.detach().numpy() \n",
    "        \n",
    "      #sample an action\n",
    "      action = torch.multinomial(act_prob,1 ).detach().numpy()[0]\n",
    "\n",
    "      log_prob = torch.log(act_prob.squeeze(0)[action])\n",
    "\n",
    "      entropy = -np.sum(np.mean(prob) * np.log(prob))\n",
    "\n",
    "      #pass action in env\n",
    "      next_state,reward,done, info = env.step(action)\n",
    "      r+=reward\n",
    "\n",
    "\n",
    "      rewards.append(reward)\n",
    "      values.append(value)\n",
    "      log_probs.append(log_prob)\n",
    "      episode_entropy += entropy\n",
    "      state = next_state\n",
    "\n",
    "      qval = critic(torch.Tensor(state))\n",
    "      qval = qval.detach().numpy()[0]\n",
    "\n",
    "    qvals = np.zeros_like(values)\n",
    "    for t in reversed(range(len(rewards))):\n",
    "      qval = rewards[t] + gamma * qval\n",
    "      qvals[t] = qval\n",
    "\n",
    "    values = torch.FloatTensor(values)\n",
    "    qvals = torch.FloatTensor(qvals)\n",
    "    log_probs = torch.stack(log_probs)\n",
    "\n",
    "    advantage = qvals - values\n",
    "\n",
    "    actor_loss = (-log_probs * advantage).mean() + 0.001 * episode_entropy\n",
    "    critic_loss = 0.5 * advantage.pow(2).mean()  + 0.001 * episode_entropy\n",
    "    critic_loss.requires_grad =True\n",
    "\n",
    "    optimizer_a.zero_grad()\n",
    "    optimizer_c.zero_grad()\n",
    "\n",
    "    actor_loss.backward()\n",
    "    critic_loss.backward()\n",
    "\n",
    "    optimizer_a.step()\n",
    "    optimizer_c.step()   \n",
    "    \n",
    "\n",
    "    list_r.append(r)\n",
    "    if i%10 == 0:\n",
    "      print(\"Episode: \",i,\" Last avg reward: \",sum(list_r[-10:])/10)\n"
   ]
  },
  {
   "cell_type": "code",
   "execution_count": 15,
   "metadata": {
    "colab": {
     "base_uri": "https://localhost:8080/"
    },
    "id": "yMMjugd2N7CY",
    "outputId": "d46ad4a2-82e3-46de-9898-7528e8ae47d3"
   },
   "outputs": [
    {
     "data": {
      "text/plain": [
       "13879523845109458094"
      ]
     },
     "execution_count": 15,
     "metadata": {},
     "output_type": "execute_result"
    }
   ],
   "source": [
    "torch.seed()\n",
    "#2002882284479475884\n",
    "#13879523845109458094"
   ]
  },
  {
   "cell_type": "code",
   "execution_count": 16,
   "metadata": {
    "id": "Z684ho8LOz33"
   },
   "outputs": [],
   "source": [
    "#torch.save(actor.state_dict(), 'actor.pt')\n",
    "#torch.save(critic.state_dict(), 'critic.pt')"
   ]
  },
  {
   "cell_type": "code",
   "execution_count": 17,
   "metadata": {
    "colab": {
     "base_uri": "https://localhost:8080/",
     "height": 313
    },
    "id": "CnIgECt4m7Jh",
    "outputId": "e0f140af-603f-43e9-d826-05240d81846e"
   },
   "outputs": [
    {
     "data": {
      "text/plain": [
       "10.1325"
      ]
     },
     "execution_count": 17,
     "metadata": {},
     "output_type": "execute_result"
    },
    {
     "data": {
      "image/png": "[encoded data removed]",
      "text/plain": [
       "<Figure size 432x288 with 1 Axes>"
      ]
     },
     "metadata": {
      "needs_background": "light"
     },
     "output_type": "display_data"
    }
   ],
   "source": [
    "plt.plot(list_r)\n",
    "plt.xlabel(\"Episodes\")\n",
    "plt.ylabel(\"Rewards\")\n",
    "plt.title(\"Rewards\")\n",
    "sum(list_r[-100:])/100"
   ]
  },
  {
   "cell_type": "code",
   "execution_count": 19,
   "metadata": {
    "colab": {
     "base_uri": "https://localhost:8080/"
    },
    "id": "zxTxPuM3O7vg",
    "outputId": "30e485f6-c40b-4d52-ee51-fcc51b1b34cf"
   },
   "outputs": [
    {
     "data": {
      "text/plain": [
       "<All keys matched successfully>"
      ]
     },
     "execution_count": 19,
     "metadata": {},
     "output_type": "execute_result"
    }
   ],
   "source": [
    "actor.load_state_dict(torch.load('actor_GW.pt'))"
   ]
  },
  {
   "cell_type": "code",
   "execution_count": 20,
   "metadata": {
    "colab": {
     "base_uri": "https://localhost:8080/",
     "height": 473
    },
    "id": "RlMf5riKem_B",
    "outputId": "cfa5194d-3c34-467f-9d05-dba29b7c7080"
   },
   "outputs": [
    {
     "data": {
      "text/html": [
       "<style>\n",
       "       table#id4, #id4 > tbody > tr > th, #id4 > tbody > tr > td {\n",
       "         border: 1px solid lightgray;\n",
       "         border-collapse:collapse;\n",
       "         \n",
       "        }</style>"
      ],
      "text/plain": [
       "<IPython.core.display.HTML object>"
      ]
     },
     "metadata": {},
     "output_type": "display_data"
    },
    {
     "data": {
      "text/html": [
       "<table id=id4><tr><td id=id4-0-0></td></tr></table>"
      ],
      "text/plain": [
       "<IPython.core.display.HTML object>"
      ]
     },
     "metadata": {},
     "output_type": "display_data"
    },
    {
     "data": {
      "application/javascript": "window[\"53422956-cb1d-11ec-8d7a-0242ac1c0002\"] = google.colab.output.getActiveOutputArea();\n//# sourceURL=js_035b2a2075",
      "text/plain": [
       "<IPython.core.display.Javascript object>"
      ]
     },
     "metadata": {},
     "output_type": "display_data"
    },
    {
     "data": {
      "application/javascript": "window[\"5342a94e-cb1d-11ec-8d7a-0242ac1c0002\"] = document.querySelector(\"#id4-0-0\");\n//# sourceURL=js_a3e36397a9",
      "text/plain": [
       "<IPython.core.display.Javascript object>"
      ]
     },
     "metadata": {},
     "output_type": "display_data"
    },
    {
     "data": {
      "application/javascript": "window[\"534324d2-cb1d-11ec-8d7a-0242ac1c0002\"] = google.colab.output.setActiveOutputArea(window[\"5342a94e-cb1d-11ec-8d7a-0242ac1c0002\"]);\n//# sourceURL=js_7399d3d4eb",
      "text/plain": [
       "<IPython.core.display.Javascript object>"
      ]
     },
     "metadata": {},
     "output_type": "display_data"
    },
    {
     "data": {
      "application/javascript": "window[\"535e895c-cb1d-11ec-8d7a-0242ac1c0002\"] = google.colab.output.setActiveOutputArea(window[\"53422956-cb1d-11ec-8d7a-0242ac1c0002\"]);\n//# sourceURL=js_def134e352",
      "text/plain": [
       "<IPython.core.display.Javascript object>"
      ]
     },
     "metadata": {},
     "output_type": "display_data"
    },
    {
     "data": {
      "application/javascript": "window[\"53717602-cb1d-11ec-8d7a-0242ac1c0002\"] = google.colab.output.getActiveOutputArea();\n//# sourceURL=js_2af1eb2407",
      "text/plain": [
       "<IPython.core.display.Javascript object>"
      ]
     },
     "metadata": {},
     "output_type": "display_data"
    },
    {
     "data": {
      "application/javascript": "window[\"5371f1a4-cb1d-11ec-8d7a-0242ac1c0002\"] = document.querySelector(\"#id4-0-0\");\n//# sourceURL=js_7e1c961f4b",
      "text/plain": [
       "<IPython.core.display.Javascript object>"
      ]
     },
     "metadata": {},
     "output_type": "display_data"
    },
    {
     "data": {
      "application/javascript": "window[\"53725c5c-cb1d-11ec-8d7a-0242ac1c0002\"] = google.colab.output.setActiveOutputArea(window[\"5371f1a4-cb1d-11ec-8d7a-0242ac1c0002\"]);\n//# sourceURL=js_c5e14f17c8",
      "text/plain": [
       "<IPython.core.display.Javascript object>"
      ]
     },
     "metadata": {},
     "output_type": "display_data"
    },
    {
     "data": {
      "application/javascript": "window[\"538f998e-cb1d-11ec-8d7a-0242ac1c0002\"] = google.colab.output.setActiveOutputArea(window[\"53717602-cb1d-11ec-8d7a-0242ac1c0002\"]);\n//# sourceURL=js_a8294efc9d",
      "text/plain": [
       "<IPython.core.display.Javascript object>"
      ]
     },
     "metadata": {},
     "output_type": "display_data"
    },
    {
     "data": {
      "application/javascript": "window[\"53a11b46-cb1d-11ec-8d7a-0242ac1c0002\"] = google.colab.output.getActiveOutputArea();\n//# sourceURL=js_d797c96bbd",
      "text/plain": [
       "<IPython.core.display.Javascript object>"
      ]
     },
     "metadata": {},
     "output_type": "display_data"
    },
    {
     "data": {
      "application/javascript": "window[\"53a174ec-cb1d-11ec-8d7a-0242ac1c0002\"] = document.querySelector(\"#id4-0-0\");\n//# sourceURL=js_b871c24b76",
      "text/plain": [
       "<IPython.core.display.Javascript object>"
      ]
     },
     "metadata": {},
     "output_type": "display_data"
    },
    {
     "data": {
      "application/javascript": "window[\"53a1ff3e-cb1d-11ec-8d7a-0242ac1c0002\"] = google.colab.output.setActiveOutputArea(window[\"53a174ec-cb1d-11ec-8d7a-0242ac1c0002\"]);\n//# sourceURL=js_0d96b6f071",
      "text/plain": [
       "<IPython.core.display.Javascript object>"
      ]
     },
     "metadata": {},
     "output_type": "display_data"
    },
    {
     "data": {
      "application/javascript": "window[\"53c0e94e-cb1d-11ec-8d7a-0242ac1c0002\"] = google.colab.output.setActiveOutputArea(window[\"53a11b46-cb1d-11ec-8d7a-0242ac1c0002\"]);\n//# sourceURL=js_1804753ca5",
      "text/plain": [
       "<IPython.core.display.Javascript object>"
      ]
     },
     "metadata": {},
     "output_type": "display_data"
    },
    {
     "data": {
      "application/javascript": "window[\"53d2f2b0-cb1d-11ec-8d7a-0242ac1c0002\"] = google.colab.output.getActiveOutputArea();\n//# sourceURL=js_ae599ef3c9",
      "text/plain": [
       "<IPython.core.display.Javascript object>"
      ]
     },
     "metadata": {},
     "output_type": "display_data"
    },
    {
     "data": {
      "application/javascript": "window[\"53d38888-cb1d-11ec-8d7a-0242ac1c0002\"] = document.querySelector(\"#id4-0-0\");\n//# sourceURL=js_fb64fa8e4d",
      "text/plain": [
       "<IPython.core.display.Javascript object>"
      ]
     },
     "metadata": {},
     "output_type": "display_data"
    },
    {
     "data": {
      "application/javascript": "window[\"53d3f034-cb1d-11ec-8d7a-0242ac1c0002\"] = google.colab.output.setActiveOutputArea(window[\"53d38888-cb1d-11ec-8d7a-0242ac1c0002\"]);\n//# sourceURL=js_7842233232",
      "text/plain": [
       "<IPython.core.display.Javascript object>"
      ]
     },
     "metadata": {},
     "output_type": "display_data"
    },
    {
     "data": {
      "application/javascript": "window[\"53f16380-cb1d-11ec-8d7a-0242ac1c0002\"] = google.colab.output.setActiveOutputArea(window[\"53d2f2b0-cb1d-11ec-8d7a-0242ac1c0002\"]);\n//# sourceURL=js_044ad9b09c",
      "text/plain": [
       "<IPython.core.display.Javascript object>"
      ]
     },
     "metadata": {},
     "output_type": "display_data"
    },
    {
     "data": {
      "application/javascript": "window[\"54030734-cb1d-11ec-8d7a-0242ac1c0002\"] = google.colab.output.getActiveOutputArea();\n//# sourceURL=js_d2de10f4d1",
      "text/plain": [
       "<IPython.core.display.Javascript object>"
      ]
     },
     "metadata": {},
     "output_type": "display_data"
    },
    {
     "data": {
      "application/javascript": "window[\"54037548-cb1d-11ec-8d7a-0242ac1c0002\"] = document.querySelector(\"#id4-0-0\");\n//# sourceURL=js_456bfb04c5",
      "text/plain": [
       "<IPython.core.display.Javascript object>"
      ]
     },
     "metadata": {},
     "output_type": "display_data"
    },
    {
     "data": {
      "application/javascript": "window[\"5403fe96-cb1d-11ec-8d7a-0242ac1c0002\"] = google.colab.output.setActiveOutputArea(window[\"54037548-cb1d-11ec-8d7a-0242ac1c0002\"]);\n//# sourceURL=js_af84819f83",
      "text/plain": [
       "<IPython.core.display.Javascript object>"
      ]
     },
     "metadata": {},
     "output_type": "display_data"
    },
    {
     "data": {
      "application/javascript": "window[\"542215ca-cb1d-11ec-8d7a-0242ac1c0002\"] = google.colab.output.setActiveOutputArea(window[\"54030734-cb1d-11ec-8d7a-0242ac1c0002\"]);\n//# sourceURL=js_0685fa3702",
      "text/plain": [
       "<IPython.core.display.Javascript object>"
      ]
     },
     "metadata": {},
     "output_type": "display_data"
    },
    {
     "data": {
      "application/javascript": "window[\"54359e60-cb1d-11ec-8d7a-0242ac1c0002\"] = google.colab.output.getActiveOutputArea();\n//# sourceURL=js_13d5cf2d70",
      "text/plain": [
       "<IPython.core.display.Javascript object>"
      ]
     },
     "metadata": {},
     "output_type": "display_data"
    },
    {
     "data": {
      "application/javascript": "window[\"5435f5c2-cb1d-11ec-8d7a-0242ac1c0002\"] = document.querySelector(\"#id4-0-0\");\n//# sourceURL=js_c66de56eb4",
      "text/plain": [
       "<IPython.core.display.Javascript object>"
      ]
     },
     "metadata": {},
     "output_type": "display_data"
    },
    {
     "data": {
      "application/javascript": "window[\"543714ca-cb1d-11ec-8d7a-0242ac1c0002\"] = google.colab.output.setActiveOutputArea(window[\"5435f5c2-cb1d-11ec-8d7a-0242ac1c0002\"]);\n//# sourceURL=js_6190b89cd5",
      "text/plain": [
       "<IPython.core.display.Javascript object>"
      ]
     },
     "metadata": {},
     "output_type": "display_data"
    },
    {
     "data": {
      "application/javascript": "window[\"546c5ef0-cb1d-11ec-8d7a-0242ac1c0002\"] = google.colab.output.setActiveOutputArea(window[\"54359e60-cb1d-11ec-8d7a-0242ac1c0002\"]);\n//# sourceURL=js_a6562cf4df",
      "text/plain": [
       "<IPython.core.display.Javascript object>"
      ]
     },
     "metadata": {},
     "output_type": "display_data"
    },
    {
     "name": "stdout",
     "output_type": "stream",
     "text": [
      "reach\n"
     ]
    },
    {
     "data": {
      "application/javascript": "window[\"54800cca-cb1d-11ec-8d7a-0242ac1c0002\"] = google.colab.output.getActiveOutputArea();\n//# sourceURL=js_ef45a6bf89",
      "text/plain": [
       "<IPython.core.display.Javascript object>"
      ]
     },
     "metadata": {},
     "output_type": "display_data"
    },
    {
     "data": {
      "application/javascript": "window[\"54807ea8-cb1d-11ec-8d7a-0242ac1c0002\"] = document.querySelector(\"#id4-0-0\");\n//# sourceURL=js_6ef2dc9dee",
      "text/plain": [
       "<IPython.core.display.Javascript object>"
      ]
     },
     "metadata": {},
     "output_type": "display_data"
    },
    {
     "data": {
      "application/javascript": "window[\"5480e852-cb1d-11ec-8d7a-0242ac1c0002\"] = google.colab.output.setActiveOutputArea(window[\"54807ea8-cb1d-11ec-8d7a-0242ac1c0002\"]);\n//# sourceURL=js_fe0868e733",
      "text/plain": [
       "<IPython.core.display.Javascript object>"
      ]
     },
     "metadata": {},
     "output_type": "display_data"
    },
    {
     "data": {
      "application/javascript": "window[\"54a11384-cb1d-11ec-8d7a-0242ac1c0002\"] = google.colab.output.setActiveOutputArea(window[\"54800cca-cb1d-11ec-8d7a-0242ac1c0002\"]);\n//# sourceURL=js_3262ff6cce",
      "text/plain": [
       "<IPython.core.display.Javascript object>"
      ]
     },
     "metadata": {},
     "output_type": "display_data"
    },
    {
     "data": {
      "application/javascript": "window[\"54b29e7e-cb1d-11ec-8d7a-0242ac1c0002\"] = google.colab.output.getActiveOutputArea();\n//# sourceURL=js_9426d1e21b",
      "text/plain": [
       "<IPython.core.display.Javascript object>"
      ]
     },
     "metadata": {},
     "output_type": "display_data"
    },
    {
     "data": {
      "application/javascript": "window[\"54b330d2-cb1d-11ec-8d7a-0242ac1c0002\"] = document.querySelector(\"#id4-0-0\");\n//# sourceURL=js_14d6477b4d",
      "text/plain": [
       "<IPython.core.display.Javascript object>"
      ]
     },
     "metadata": {},
     "output_type": "display_data"
    },
    {
     "data": {
      "application/javascript": "window[\"54b3a5da-cb1d-11ec-8d7a-0242ac1c0002\"] = google.colab.output.setActiveOutputArea(window[\"54b330d2-cb1d-11ec-8d7a-0242ac1c0002\"]);\n//# sourceURL=js_1c2a1df49c",
      "text/plain": [
       "<IPython.core.display.Javascript object>"
      ]
     },
     "metadata": {},
     "output_type": "display_data"
    },
    {
     "data": {
      "application/javascript": "window[\"54d26ace-cb1d-11ec-8d7a-0242ac1c0002\"] = google.colab.output.setActiveOutputArea(window[\"54b29e7e-cb1d-11ec-8d7a-0242ac1c0002\"]);\n//# sourceURL=js_52203a39c2",
      "text/plain": [
       "<IPython.core.display.Javascript object>"
      ]
     },
     "metadata": {},
     "output_type": "display_data"
    },
    {
     "data": {
      "application/javascript": "window[\"54e46dbe-cb1d-11ec-8d7a-0242ac1c0002\"] = google.colab.output.getActiveOutputArea();\n//# sourceURL=js_953e5bf55c",
      "text/plain": [
       "<IPython.core.display.Javascript object>"
      ]
     },
     "metadata": {},
     "output_type": "display_data"
    },
    {
     "data": {
      "application/javascript": "window[\"54e4f950-cb1d-11ec-8d7a-0242ac1c0002\"] = document.querySelector(\"#id4-0-0\");\n//# sourceURL=js_5263279fff",
      "text/plain": [
       "<IPython.core.display.Javascript object>"
      ]
     },
     "metadata": {},
     "output_type": "display_data"
    },
    {
     "data": {
      "application/javascript": "window[\"54e5a5a8-cb1d-11ec-8d7a-0242ac1c0002\"] = google.colab.output.setActiveOutputArea(window[\"54e4f950-cb1d-11ec-8d7a-0242ac1c0002\"]);\n//# sourceURL=js_b1dff877f8",
      "text/plain": [
       "<IPython.core.display.Javascript object>"
      ]
     },
     "metadata": {},
     "output_type": "display_data"
    },
    {
     "data": {
      "application/javascript": "window[\"5508b462-cb1d-11ec-8d7a-0242ac1c0002\"] = google.colab.output.setActiveOutputArea(window[\"54e46dbe-cb1d-11ec-8d7a-0242ac1c0002\"]);\n//# sourceURL=js_a98a9bc48f",
      "text/plain": [
       "<IPython.core.display.Javascript object>"
      ]
     },
     "metadata": {},
     "output_type": "display_data"
    },
    {
     "data": {
      "application/javascript": "window[\"551b4a82-cb1d-11ec-8d7a-0242ac1c0002\"] = google.colab.output.getActiveOutputArea();\n//# sourceURL=js_398b0b15af",
      "text/plain": [
       "<IPython.core.display.Javascript object>"
      ]
     },
     "metadata": {},
     "output_type": "display_data"
    },
    {
     "data": {
      "application/javascript": "window[\"551bec76-cb1d-11ec-8d7a-0242ac1c0002\"] = document.querySelector(\"#id4-0-0\");\n//# sourceURL=js_c5585180ba",
      "text/plain": [
       "<IPython.core.display.Javascript object>"
      ]
     },
     "metadata": {},
     "output_type": "display_data"
    },
    {
     "data": {
      "application/javascript": "window[\"551c595e-cb1d-11ec-8d7a-0242ac1c0002\"] = google.colab.output.setActiveOutputArea(window[\"551bec76-cb1d-11ec-8d7a-0242ac1c0002\"]);\n//# sourceURL=js_65e6c0cd6c",
      "text/plain": [
       "<IPython.core.display.Javascript object>"
      ]
     },
     "metadata": {},
     "output_type": "display_data"
    },
    {
     "data": {
      "application/javascript": "window[\"55401902-cb1d-11ec-8d7a-0242ac1c0002\"] = google.colab.output.setActiveOutputArea(window[\"551b4a82-cb1d-11ec-8d7a-0242ac1c0002\"]);\n//# sourceURL=js_464703cbbe",
      "text/plain": [
       "<IPython.core.display.Javascript object>"
      ]
     },
     "metadata": {},
     "output_type": "display_data"
    },
    {
     "data": {
      "application/javascript": "window[\"55576120-cb1d-11ec-8d7a-0242ac1c0002\"] = google.colab.output.getActiveOutputArea();\n//# sourceURL=js_8fd78c1c33",
      "text/plain": [
       "<IPython.core.display.Javascript object>"
      ]
     },
     "metadata": {},
     "output_type": "display_data"
    },
    {
     "data": {
      "application/javascript": "window[\"5557daa6-cb1d-11ec-8d7a-0242ac1c0002\"] = document.querySelector(\"#id4-0-0\");\n//# sourceURL=js_f1e64b2b4d",
      "text/plain": [
       "<IPython.core.display.Javascript object>"
      ]
     },
     "metadata": {},
     "output_type": "display_data"
    },
    {
     "data": {
      "application/javascript": "window[\"555835c8-cb1d-11ec-8d7a-0242ac1c0002\"] = google.colab.output.setActiveOutputArea(window[\"5557daa6-cb1d-11ec-8d7a-0242ac1c0002\"]);\n//# sourceURL=js_9ef4d4863c",
      "text/plain": [
       "<IPython.core.display.Javascript object>"
      ]
     },
     "metadata": {},
     "output_type": "display_data"
    },
    {
     "data": {
      "application/javascript": "window[\"5580df78-cb1d-11ec-8d7a-0242ac1c0002\"] = google.colab.output.setActiveOutputArea(window[\"55576120-cb1d-11ec-8d7a-0242ac1c0002\"]);\n//# sourceURL=js_176002dfc7",
      "text/plain": [
       "<IPython.core.display.Javascript object>"
      ]
     },
     "metadata": {},
     "output_type": "display_data"
    },
    {
     "data": {
      "application/javascript": "window[\"55962dc4-cb1d-11ec-8d7a-0242ac1c0002\"] = google.colab.output.getActiveOutputArea();\n//# sourceURL=js_8f429214df",
      "text/plain": [
       "<IPython.core.display.Javascript object>"
      ]
     },
     "metadata": {},
     "output_type": "display_data"
    },
    {
     "data": {
      "application/javascript": "window[\"5596d9a4-cb1d-11ec-8d7a-0242ac1c0002\"] = document.querySelector(\"#id4-0-0\");\n//# sourceURL=js_20d8c704f1",
      "text/plain": [
       "<IPython.core.display.Javascript object>"
      ]
     },
     "metadata": {},
     "output_type": "display_data"
    },
    {
     "data": {
      "application/javascript": "window[\"5597e812-cb1d-11ec-8d7a-0242ac1c0002\"] = google.colab.output.setActiveOutputArea(window[\"5596d9a4-cb1d-11ec-8d7a-0242ac1c0002\"]);\n//# sourceURL=js_2c1219e026",
      "text/plain": [
       "<IPython.core.display.Javascript object>"
      ]
     },
     "metadata": {},
     "output_type": "display_data"
    },
    {
     "data": {
      "application/javascript": "window[\"55bec00e-cb1d-11ec-8d7a-0242ac1c0002\"] = google.colab.output.setActiveOutputArea(window[\"55962dc4-cb1d-11ec-8d7a-0242ac1c0002\"]);\n//# sourceURL=js_53ac4afb8f",
      "text/plain": [
       "<IPython.core.display.Javascript object>"
      ]
     },
     "metadata": {},
     "output_type": "display_data"
    },
    {
     "data": {
      "application/javascript": "window[\"55d4390c-cb1d-11ec-8d7a-0242ac1c0002\"] = google.colab.output.getActiveOutputArea();\n//# sourceURL=js_94509085bb",
      "text/plain": [
       "<IPython.core.display.Javascript object>"
      ]
     },
     "metadata": {},
     "output_type": "display_data"
    },
    {
     "data": {
      "application/javascript": "window[\"55d4d59c-cb1d-11ec-8d7a-0242ac1c0002\"] = document.querySelector(\"#id4-0-0\");\n//# sourceURL=js_9bbbd9aae0",
      "text/plain": [
       "<IPython.core.display.Javascript object>"
      ]
     },
     "metadata": {},
     "output_type": "display_data"
    },
    {
     "data": {
      "application/javascript": "window[\"55d574e8-cb1d-11ec-8d7a-0242ac1c0002\"] = google.colab.output.setActiveOutputArea(window[\"55d4d59c-cb1d-11ec-8d7a-0242ac1c0002\"]);\n//# sourceURL=js_41267435e1",
      "text/plain": [
       "<IPython.core.display.Javascript object>"
      ]
     },
     "metadata": {},
     "output_type": "display_data"
    },
    {
     "data": {
      "application/javascript": "window[\"55f4d4c8-cb1d-11ec-8d7a-0242ac1c0002\"] = google.colab.output.setActiveOutputArea(window[\"55d4390c-cb1d-11ec-8d7a-0242ac1c0002\"]);\n//# sourceURL=js_18855871d5",
      "text/plain": [
       "<IPython.core.display.Javascript object>"
      ]
     },
     "metadata": {},
     "output_type": "display_data"
    },
    {
     "name": "stdout",
     "output_type": "stream",
     "text": [
      "reach\n"
     ]
    },
    {
     "data": {
      "application/javascript": "window[\"560ab4e6-cb1d-11ec-8d7a-0242ac1c0002\"] = google.colab.output.getActiveOutputArea();\n//# sourceURL=js_518b7b7a6b",
      "text/plain": [
       "<IPython.core.display.Javascript object>"
      ]
     },
     "metadata": {},
     "output_type": "display_data"
    },
    {
     "data": {
      "application/javascript": "window[\"560b2c96-cb1d-11ec-8d7a-0242ac1c0002\"] = document.querySelector(\"#id4-0-0\");\n//# sourceURL=js_f8a1cab29a",
      "text/plain": [
       "<IPython.core.display.Javascript object>"
      ]
     },
     "metadata": {},
     "output_type": "display_data"
    },
    {
     "data": {
      "application/javascript": "window[\"560bf0fe-cb1d-11ec-8d7a-0242ac1c0002\"] = google.colab.output.setActiveOutputArea(window[\"560b2c96-cb1d-11ec-8d7a-0242ac1c0002\"]);\n//# sourceURL=js_ca471d2fe0",
      "text/plain": [
       "<IPython.core.display.Javascript object>"
      ]
     },
     "metadata": {},
     "output_type": "display_data"
    },
    {
     "data": {
      "application/javascript": "window[\"56294c62-cb1d-11ec-8d7a-0242ac1c0002\"] = google.colab.output.setActiveOutputArea(window[\"560ab4e6-cb1d-11ec-8d7a-0242ac1c0002\"]);\n//# sourceURL=js_6645446b2e",
      "text/plain": [
       "<IPython.core.display.Javascript object>"
      ]
     },
     "metadata": {},
     "output_type": "display_data"
    },
    {
     "data": {
      "application/javascript": "window[\"563af868-cb1d-11ec-8d7a-0242ac1c0002\"] = google.colab.output.getActiveOutputArea();\n//# sourceURL=js_de0db80a87",
      "text/plain": [
       "<IPython.core.display.Javascript object>"
      ]
     },
     "metadata": {},
     "output_type": "display_data"
    },
    {
     "data": {
      "application/javascript": "window[\"563b9e58-cb1d-11ec-8d7a-0242ac1c0002\"] = document.querySelector(\"#id4-0-0\");\n//# sourceURL=js_c3863f9a69",
      "text/plain": [
       "<IPython.core.display.Javascript object>"
      ]
     },
     "metadata": {},
     "output_type": "display_data"
    },
    {
     "data": {
      "application/javascript": "window[\"563c7094-cb1d-11ec-8d7a-0242ac1c0002\"] = google.colab.output.setActiveOutputArea(window[\"563b9e58-cb1d-11ec-8d7a-0242ac1c0002\"]);\n//# sourceURL=js_bd61b2056f",
      "text/plain": [
       "<IPython.core.display.Javascript object>"
      ]
     },
     "metadata": {},
     "output_type": "display_data"
    },
    {
     "data": {
      "application/javascript": "window[\"565b4e60-cb1d-11ec-8d7a-0242ac1c0002\"] = google.colab.output.setActiveOutputArea(window[\"563af868-cb1d-11ec-8d7a-0242ac1c0002\"]);\n//# sourceURL=js_12461b27d8",
      "text/plain": [
       "<IPython.core.display.Javascript object>"
      ]
     },
     "metadata": {},
     "output_type": "display_data"
    },
    {
     "data": {
      "application/javascript": "window[\"566cef3a-cb1d-11ec-8d7a-0242ac1c0002\"] = google.colab.output.getActiveOutputArea();\n//# sourceURL=js_c8c617399c",
      "text/plain": [
       "<IPython.core.display.Javascript object>"
      ]
     },
     "metadata": {},
     "output_type": "display_data"
    },
    {
     "data": {
      "application/javascript": "window[\"566d51dc-cb1d-11ec-8d7a-0242ac1c0002\"] = document.querySelector(\"#id4-0-0\");\n//# sourceURL=js_a3a6430d9c",
      "text/plain": [
       "<IPython.core.display.Javascript object>"
      ]
     },
     "metadata": {},
     "output_type": "display_data"
    },
    {
     "data": {
      "application/javascript": "window[\"566db7e4-cb1d-11ec-8d7a-0242ac1c0002\"] = google.colab.output.setActiveOutputArea(window[\"566d51dc-cb1d-11ec-8d7a-0242ac1c0002\"]);\n//# sourceURL=js_1a99aeb5e6",
      "text/plain": [
       "<IPython.core.display.Javascript object>"
      ]
     },
     "metadata": {},
     "output_type": "display_data"
    },
    {
     "data": {
      "application/javascript": "window[\"568e83fc-cb1d-11ec-8d7a-0242ac1c0002\"] = google.colab.output.setActiveOutputArea(window[\"566cef3a-cb1d-11ec-8d7a-0242ac1c0002\"]);\n//# sourceURL=js_22ff70d621",
      "text/plain": [
       "<IPython.core.display.Javascript object>"
      ]
     },
     "metadata": {},
     "output_type": "display_data"
    },
    {
     "data": {
      "application/javascript": "window[\"56a23a1e-cb1d-11ec-8d7a-0242ac1c0002\"] = google.colab.output.getActiveOutputArea();\n//# sourceURL=js_a8ae4a369f",
      "text/plain": [
       "<IPython.core.display.Javascript object>"
      ]
     },
     "metadata": {},
     "output_type": "display_data"
    },
    {
     "data": {
      "application/javascript": "window[\"56a33edc-cb1d-11ec-8d7a-0242ac1c0002\"] = document.querySelector(\"#id4-0-0\");\n//# sourceURL=js_39fa873510",
      "text/plain": [
       "<IPython.core.display.Javascript object>"
      ]
     },
     "metadata": {},
     "output_type": "display_data"
    },
    {
     "data": {
      "application/javascript": "window[\"56a40ad8-cb1d-11ec-8d7a-0242ac1c0002\"] = google.colab.output.setActiveOutputArea(window[\"56a33edc-cb1d-11ec-8d7a-0242ac1c0002\"]);\n//# sourceURL=js_542426a280",
      "text/plain": [
       "<IPython.core.display.Javascript object>"
      ]
     },
     "metadata": {},
     "output_type": "display_data"
    },
    {
     "data": {
      "application/javascript": "window[\"56c2f9c0-cb1d-11ec-8d7a-0242ac1c0002\"] = google.colab.output.setActiveOutputArea(window[\"56a23a1e-cb1d-11ec-8d7a-0242ac1c0002\"]);\n//# sourceURL=js_62572f4691",
      "text/plain": [
       "<IPython.core.display.Javascript object>"
      ]
     },
     "metadata": {},
     "output_type": "display_data"
    },
    {
     "data": {
      "application/javascript": "window[\"56d4d488-cb1d-11ec-8d7a-0242ac1c0002\"] = google.colab.output.getActiveOutputArea();\n//# sourceURL=js_5a0c31fda7",
      "text/plain": [
       "<IPython.core.display.Javascript object>"
      ]
     },
     "metadata": {},
     "output_type": "display_data"
    },
    {
     "data": {
      "application/javascript": "window[\"56d52514-cb1d-11ec-8d7a-0242ac1c0002\"] = document.querySelector(\"#id4-0-0\");\n//# sourceURL=js_b17b770c81",
      "text/plain": [
       "<IPython.core.display.Javascript object>"
      ]
     },
     "metadata": {},
     "output_type": "display_data"
    },
    {
     "data": {
      "application/javascript": "window[\"56d58ed2-cb1d-11ec-8d7a-0242ac1c0002\"] = google.colab.output.setActiveOutputArea(window[\"56d52514-cb1d-11ec-8d7a-0242ac1c0002\"]);\n//# sourceURL=js_b9c34efd56",
      "text/plain": [
       "<IPython.core.display.Javascript object>"
      ]
     },
     "metadata": {},
     "output_type": "display_data"
    },
    {
     "data": {
      "application/javascript": "window[\"56f6f3ba-cb1d-11ec-8d7a-0242ac1c0002\"] = google.colab.output.setActiveOutputArea(window[\"56d4d488-cb1d-11ec-8d7a-0242ac1c0002\"]);\n//# sourceURL=js_538de7ff55",
      "text/plain": [
       "<IPython.core.display.Javascript object>"
      ]
     },
     "metadata": {},
     "output_type": "display_data"
    },
    {
     "data": {
      "application/javascript": "window[\"57084d5e-cb1d-11ec-8d7a-0242ac1c0002\"] = google.colab.output.getActiveOutputArea();\n//# sourceURL=js_f558b3bddc",
      "text/plain": [
       "<IPython.core.display.Javascript object>"
      ]
     },
     "metadata": {},
     "output_type": "display_data"
    },
    {
     "data": {
      "application/javascript": "window[\"5708b2bc-cb1d-11ec-8d7a-0242ac1c0002\"] = document.querySelector(\"#id4-0-0\");\n//# sourceURL=js_bab56a7396",
      "text/plain": [
       "<IPython.core.display.Javascript object>"
      ]
     },
     "metadata": {},
     "output_type": "display_data"
    },
    {
     "data": {
      "application/javascript": "window[\"5709191e-cb1d-11ec-8d7a-0242ac1c0002\"] = google.colab.output.setActiveOutputArea(window[\"5708b2bc-cb1d-11ec-8d7a-0242ac1c0002\"]);\n//# sourceURL=js_c1ea593726",
      "text/plain": [
       "<IPython.core.display.Javascript object>"
      ]
     },
     "metadata": {},
     "output_type": "display_data"
    },
    {
     "data": {
      "application/javascript": "window[\"573774d0-cb1d-11ec-8d7a-0242ac1c0002\"] = google.colab.output.setActiveOutputArea(window[\"57084d5e-cb1d-11ec-8d7a-0242ac1c0002\"]);\n//# sourceURL=js_52b11a5bb0",
      "text/plain": [
       "<IPython.core.display.Javascript object>"
      ]
     },
     "metadata": {},
     "output_type": "display_data"
    },
    {
     "data": {
      "application/javascript": "window[\"5748ebf2-cb1d-11ec-8d7a-0242ac1c0002\"] = google.colab.output.getActiveOutputArea();\n//# sourceURL=js_a71900583a",
      "text/plain": [
       "<IPython.core.display.Javascript object>"
      ]
     },
     "metadata": {},
     "output_type": "display_data"
    },
    {
     "data": {
      "application/javascript": "window[\"57499282-cb1d-11ec-8d7a-0242ac1c0002\"] = document.querySelector(\"#id4-0-0\");\n//# sourceURL=js_cf3ec1b149",
      "text/plain": [
       "<IPython.core.display.Javascript object>"
      ]
     },
     "metadata": {},
     "output_type": "display_data"
    },
    {
     "data": {
      "application/javascript": "window[\"574a5122-cb1d-11ec-8d7a-0242ac1c0002\"] = google.colab.output.setActiveOutputArea(window[\"57499282-cb1d-11ec-8d7a-0242ac1c0002\"]);\n//# sourceURL=js_1474dece8a",
      "text/plain": [
       "<IPython.core.display.Javascript object>"
      ]
     },
     "metadata": {},
     "output_type": "display_data"
    },
    {
     "data": {
      "application/javascript": "window[\"5766b420-cb1d-11ec-8d7a-0242ac1c0002\"] = google.colab.output.setActiveOutputArea(window[\"5748ebf2-cb1d-11ec-8d7a-0242ac1c0002\"]);\n//# sourceURL=js_f08e954925",
      "text/plain": [
       "<IPython.core.display.Javascript object>"
      ]
     },
     "metadata": {},
     "output_type": "display_data"
    },
    {
     "name": "stdout",
     "output_type": "stream",
     "text": [
      "reach\n"
     ]
    },
    {
     "data": {
      "application/javascript": "window[\"5779f72e-cb1d-11ec-8d7a-0242ac1c0002\"] = google.colab.output.getActiveOutputArea();\n//# sourceURL=js_574592a47c",
      "text/plain": [
       "<IPython.core.display.Javascript object>"
      ]
     },
     "metadata": {},
     "output_type": "display_data"
    },
    {
     "data": {
      "application/javascript": "window[\"577a6cea-cb1d-11ec-8d7a-0242ac1c0002\"] = document.querySelector(\"#id4-0-0\");\n//# sourceURL=js_a676310e48",
      "text/plain": [
       "<IPython.core.display.Javascript object>"
      ]
     },
     "metadata": {},
     "output_type": "display_data"
    },
    {
     "data": {
      "application/javascript": "window[\"577ae224-cb1d-11ec-8d7a-0242ac1c0002\"] = google.colab.output.setActiveOutputArea(window[\"577a6cea-cb1d-11ec-8d7a-0242ac1c0002\"]);\n//# sourceURL=js_bdda1a94d7",
      "text/plain": [
       "<IPython.core.display.Javascript object>"
      ]
     },
     "metadata": {},
     "output_type": "display_data"
    },
    {
     "data": {
      "application/javascript": "window[\"579d0e3a-cb1d-11ec-8d7a-0242ac1c0002\"] = google.colab.output.setActiveOutputArea(window[\"5779f72e-cb1d-11ec-8d7a-0242ac1c0002\"]);\n//# sourceURL=js_09c69ba94a",
      "text/plain": [
       "<IPython.core.display.Javascript object>"
      ]
     },
     "metadata": {},
     "output_type": "display_data"
    },
    {
     "data": {
      "application/javascript": "window[\"57b05f62-cb1d-11ec-8d7a-0242ac1c0002\"] = google.colab.output.getActiveOutputArea();\n//# sourceURL=js_e6f46e9bcb",
      "text/plain": [
       "<IPython.core.display.Javascript object>"
      ]
     },
     "metadata": {},
     "output_type": "display_data"
    },
    {
     "data": {
      "application/javascript": "window[\"57b11092-cb1d-11ec-8d7a-0242ac1c0002\"] = document.querySelector(\"#id4-0-0\");\n//# sourceURL=js_aa72a3c2ea",
      "text/plain": [
       "<IPython.core.display.Javascript object>"
      ]
     },
     "metadata": {},
     "output_type": "display_data"
    },
    {
     "data": {
      "application/javascript": "window[\"57b19116-cb1d-11ec-8d7a-0242ac1c0002\"] = google.colab.output.setActiveOutputArea(window[\"57b11092-cb1d-11ec-8d7a-0242ac1c0002\"]);\n//# sourceURL=js_9340ca9fea",
      "text/plain": [
       "<IPython.core.display.Javascript object>"
      ]
     },
     "metadata": {},
     "output_type": "display_data"
    },
    {
     "data": {
      "application/javascript": "window[\"57cf23e8-cb1d-11ec-8d7a-0242ac1c0002\"] = google.colab.output.setActiveOutputArea(window[\"57b05f62-cb1d-11ec-8d7a-0242ac1c0002\"]);\n//# sourceURL=js_4375ca07a5",
      "text/plain": [
       "<IPython.core.display.Javascript object>"
      ]
     },
     "metadata": {},
     "output_type": "display_data"
    },
    {
     "data": {
      "application/javascript": "window[\"57e0a7e4-cb1d-11ec-8d7a-0242ac1c0002\"] = google.colab.output.getActiveOutputArea();\n//# sourceURL=js_e310239103",
      "text/plain": [
       "<IPython.core.display.Javascript object>"
      ]
     },
     "metadata": {},
     "output_type": "display_data"
    },
    {
     "data": {
      "application/javascript": "window[\"57e0f596-cb1d-11ec-8d7a-0242ac1c0002\"] = document.querySelector(\"#id4-0-0\");\n//# sourceURL=js_55b283ab07",
      "text/plain": [
       "<IPython.core.display.Javascript object>"
      ]
     },
     "metadata": {},
     "output_type": "display_data"
    },
    {
     "data": {
      "application/javascript": "window[\"57e16580-cb1d-11ec-8d7a-0242ac1c0002\"] = google.colab.output.setActiveOutputArea(window[\"57e0f596-cb1d-11ec-8d7a-0242ac1c0002\"]);\n//# sourceURL=js_2f097f7161",
      "text/plain": [
       "<IPython.core.display.Javascript object>"
      ]
     },
     "metadata": {},
     "output_type": "display_data"
    },
    {
     "data": {
      "application/javascript": "window[\"57ffdaec-cb1d-11ec-8d7a-0242ac1c0002\"] = google.colab.output.setActiveOutputArea(window[\"57e0a7e4-cb1d-11ec-8d7a-0242ac1c0002\"]);\n//# sourceURL=js_7d373a88c3",
      "text/plain": [
       "<IPython.core.display.Javascript object>"
      ]
     },
     "metadata": {},
     "output_type": "display_data"
    },
    {
     "data": {
      "application/javascript": "window[\"581167ee-cb1d-11ec-8d7a-0242ac1c0002\"] = google.colab.output.getActiveOutputArea();\n//# sourceURL=js_99fd8e6b00",
      "text/plain": [
       "<IPython.core.display.Javascript object>"
      ]
     },
     "metadata": {},
     "output_type": "display_data"
    },
    {
     "data": {
      "application/javascript": "window[\"5811f812-cb1d-11ec-8d7a-0242ac1c0002\"] = document.querySelector(\"#id4-0-0\");\n//# sourceURL=js_761e9aa7df",
      "text/plain": [
       "<IPython.core.display.Javascript object>"
      ]
     },
     "metadata": {},
     "output_type": "display_data"
    },
    {
     "data": {
      "application/javascript": "window[\"58127e36-cb1d-11ec-8d7a-0242ac1c0002\"] = google.colab.output.setActiveOutputArea(window[\"5811f812-cb1d-11ec-8d7a-0242ac1c0002\"]);\n//# sourceURL=js_d1206ba839",
      "text/plain": [
       "<IPython.core.display.Javascript object>"
      ]
     },
     "metadata": {},
     "output_type": "display_data"
    },
    {
     "data": {
      "application/javascript": "window[\"58319f6e-cb1d-11ec-8d7a-0242ac1c0002\"] = google.colab.output.setActiveOutputArea(window[\"581167ee-cb1d-11ec-8d7a-0242ac1c0002\"]);\n//# sourceURL=js_a7d35d9e1a",
      "text/plain": [
       "<IPython.core.display.Javascript object>"
      ]
     },
     "metadata": {},
     "output_type": "display_data"
    },
    {
     "data": {
      "application/javascript": "window[\"5843fe48-cb1d-11ec-8d7a-0242ac1c0002\"] = google.colab.output.getActiveOutputArea();\n//# sourceURL=js_5b21527b86",
      "text/plain": [
       "<IPython.core.display.Javascript object>"
      ]
     },
     "metadata": {},
     "output_type": "display_data"
    },
    {
     "data": {
      "application/javascript": "window[\"5844b540-cb1d-11ec-8d7a-0242ac1c0002\"] = document.querySelector(\"#id4-0-0\");\n//# sourceURL=js_5ba3272a8e",
      "text/plain": [
       "<IPython.core.display.Javascript object>"
      ]
     },
     "metadata": {},
     "output_type": "display_data"
    },
    {
     "data": {
      "application/javascript": "window[\"58453d44-cb1d-11ec-8d7a-0242ac1c0002\"] = google.colab.output.setActiveOutputArea(window[\"5844b540-cb1d-11ec-8d7a-0242ac1c0002\"]);\n//# sourceURL=js_6a30153b7e",
      "text/plain": [
       "<IPython.core.display.Javascript object>"
      ]
     },
     "metadata": {},
     "output_type": "display_data"
    },
    {
     "data": {
      "application/javascript": "window[\"586884ca-cb1d-11ec-8d7a-0242ac1c0002\"] = google.colab.output.setActiveOutputArea(window[\"5843fe48-cb1d-11ec-8d7a-0242ac1c0002\"]);\n//# sourceURL=js_6cedd8450c",
      "text/plain": [
       "<IPython.core.display.Javascript object>"
      ]
     },
     "metadata": {},
     "output_type": "display_data"
    },
    {
     "data": {
      "application/javascript": "window[\"587a5736-cb1d-11ec-8d7a-0242ac1c0002\"] = google.colab.output.getActiveOutputArea();\n//# sourceURL=js_cac04d501e",
      "text/plain": [
       "<IPython.core.display.Javascript object>"
      ]
     },
     "metadata": {},
     "output_type": "display_data"
    },
    {
     "data": {
      "application/javascript": "window[\"587b5582-cb1d-11ec-8d7a-0242ac1c0002\"] = document.querySelector(\"#id4-0-0\");\n//# sourceURL=js_7181159160",
      "text/plain": [
       "<IPython.core.display.Javascript object>"
      ]
     },
     "metadata": {},
     "output_type": "display_data"
    },
    {
     "data": {
      "application/javascript": "window[\"587bc7c4-cb1d-11ec-8d7a-0242ac1c0002\"] = google.colab.output.setActiveOutputArea(window[\"587b5582-cb1d-11ec-8d7a-0242ac1c0002\"]);\n//# sourceURL=js_18c35e9cae",
      "text/plain": [
       "<IPython.core.display.Javascript object>"
      ]
     },
     "metadata": {},
     "output_type": "display_data"
    },
    {
     "data": {
      "application/javascript": "window[\"589c62ae-cb1d-11ec-8d7a-0242ac1c0002\"] = google.colab.output.setActiveOutputArea(window[\"587a5736-cb1d-11ec-8d7a-0242ac1c0002\"]);\n//# sourceURL=js_1c2da3debc",
      "text/plain": [
       "<IPython.core.display.Javascript object>"
      ]
     },
     "metadata": {},
     "output_type": "display_data"
    },
    {
     "data": {
      "application/javascript": "window[\"58b1f8a8-cb1d-11ec-8d7a-0242ac1c0002\"] = google.colab.output.getActiveOutputArea();\n//# sourceURL=js_999f05d180",
      "text/plain": [
       "<IPython.core.display.Javascript object>"
      ]
     },
     "metadata": {},
     "output_type": "display_data"
    },
    {
     "data": {
      "application/javascript": "window[\"58b30252-cb1d-11ec-8d7a-0242ac1c0002\"] = document.querySelector(\"#id4-0-0\");\n//# sourceURL=js_c97c4dc2c9",
      "text/plain": [
       "<IPython.core.display.Javascript object>"
      ]
     },
     "metadata": {},
     "output_type": "display_data"
    },
    {
     "data": {
      "application/javascript": "window[\"58b4306e-cb1d-11ec-8d7a-0242ac1c0002\"] = google.colab.output.setActiveOutputArea(window[\"58b30252-cb1d-11ec-8d7a-0242ac1c0002\"]);\n//# sourceURL=js_0a321b1c17",
      "text/plain": [
       "<IPython.core.display.Javascript object>"
      ]
     },
     "metadata": {},
     "output_type": "display_data"
    },
    {
     "data": {
      "application/javascript": "window[\"58db3b8c-cb1d-11ec-8d7a-0242ac1c0002\"] = google.colab.output.setActiveOutputArea(window[\"58b1f8a8-cb1d-11ec-8d7a-0242ac1c0002\"]);\n//# sourceURL=js_07a5c82114",
      "text/plain": [
       "<IPython.core.display.Javascript object>"
      ]
     },
     "metadata": {},
     "output_type": "display_data"
    },
    {
     "name": "stdout",
     "output_type": "stream",
     "text": [
      "reach\n"
     ]
    },
    {
     "data": {
      "application/javascript": "window[\"58ef1792-cb1d-11ec-8d7a-0242ac1c0002\"] = google.colab.output.getActiveOutputArea();\n//# sourceURL=js_176156cf9f",
      "text/plain": [
       "<IPython.core.display.Javascript object>"
      ]
     },
     "metadata": {},
     "output_type": "display_data"
    },
    {
     "data": {
      "application/javascript": "window[\"58ef7a98-cb1d-11ec-8d7a-0242ac1c0002\"] = document.querySelector(\"#id4-0-0\");\n//# sourceURL=js_807ff1da41",
      "text/plain": [
       "<IPython.core.display.Javascript object>"
      ]
     },
     "metadata": {},
     "output_type": "display_data"
    },
    {
     "data": {
      "application/javascript": "window[\"58efdc7c-cb1d-11ec-8d7a-0242ac1c0002\"] = google.colab.output.setActiveOutputArea(window[\"58ef7a98-cb1d-11ec-8d7a-0242ac1c0002\"]);\n//# sourceURL=js_5a27eb7a06",
      "text/plain": [
       "<IPython.core.display.Javascript object>"
      ]
     },
     "metadata": {},
     "output_type": "display_data"
    },
    {
     "data": {
      "application/javascript": "window[\"590f22bc-cb1d-11ec-8d7a-0242ac1c0002\"] = google.colab.output.setActiveOutputArea(window[\"58ef1792-cb1d-11ec-8d7a-0242ac1c0002\"]);\n//# sourceURL=js_51c6d40725",
      "text/plain": [
       "<IPython.core.display.Javascript object>"
      ]
     },
     "metadata": {},
     "output_type": "display_data"
    },
    {
     "data": {
      "application/javascript": "window[\"59209ccc-cb1d-11ec-8d7a-0242ac1c0002\"] = google.colab.output.getActiveOutputArea();\n//# sourceURL=js_64131f135a",
      "text/plain": [
       "<IPython.core.display.Javascript object>"
      ]
     },
     "metadata": {},
     "output_type": "display_data"
    },
    {
     "data": {
      "application/javascript": "window[\"5920ef6a-cb1d-11ec-8d7a-0242ac1c0002\"] = document.querySelector(\"#id4-0-0\");\n//# sourceURL=js_3a3c57f9c5",
      "text/plain": [
       "<IPython.core.display.Javascript object>"
      ]
     },
     "metadata": {},
     "output_type": "display_data"
    },
    {
     "data": {
      "application/javascript": "window[\"59214eb0-cb1d-11ec-8d7a-0242ac1c0002\"] = google.colab.output.setActiveOutputArea(window[\"5920ef6a-cb1d-11ec-8d7a-0242ac1c0002\"]);\n//# sourceURL=js_60b6cceeaf",
      "text/plain": [
       "<IPython.core.display.Javascript object>"
      ]
     },
     "metadata": {},
     "output_type": "display_data"
    },
    {
     "data": {
      "application/javascript": "window[\"593c3306-cb1d-11ec-8d7a-0242ac1c0002\"] = google.colab.output.setActiveOutputArea(window[\"59209ccc-cb1d-11ec-8d7a-0242ac1c0002\"]);\n//# sourceURL=js_c6eba32165",
      "text/plain": [
       "<IPython.core.display.Javascript object>"
      ]
     },
     "metadata": {},
     "output_type": "display_data"
    },
    {
     "data": {
      "application/javascript": "window[\"594e23ea-cb1d-11ec-8d7a-0242ac1c0002\"] = google.colab.output.getActiveOutputArea();\n//# sourceURL=js_dd12b8900b",
      "text/plain": [
       "<IPython.core.display.Javascript object>"
      ]
     },
     "metadata": {},
     "output_type": "display_data"
    },
    {
     "data": {
      "application/javascript": "window[\"594e9f00-cb1d-11ec-8d7a-0242ac1c0002\"] = document.querySelector(\"#id4-0-0\");\n//# sourceURL=js_863200a3d7",
      "text/plain": [
       "<IPython.core.display.Javascript object>"
      ]
     },
     "metadata": {},
     "output_type": "display_data"
    },
    {
     "data": {
      "application/javascript": "window[\"594f175a-cb1d-11ec-8d7a-0242ac1c0002\"] = google.colab.output.setActiveOutputArea(window[\"594e9f00-cb1d-11ec-8d7a-0242ac1c0002\"]);\n//# sourceURL=js_a3fae047e8",
      "text/plain": [
       "<IPython.core.display.Javascript object>"
      ]
     },
     "metadata": {},
     "output_type": "display_data"
    },
    {
     "data": {
      "application/javascript": "window[\"596ce050-cb1d-11ec-8d7a-0242ac1c0002\"] = google.colab.output.setActiveOutputArea(window[\"594e23ea-cb1d-11ec-8d7a-0242ac1c0002\"]);\n//# sourceURL=js_abd926a60d",
      "text/plain": [
       "<IPython.core.display.Javascript object>"
      ]
     },
     "metadata": {},
     "output_type": "display_data"
    },
    {
     "data": {
      "application/javascript": "window[\"597ea506-cb1d-11ec-8d7a-0242ac1c0002\"] = google.colab.output.getActiveOutputArea();\n//# sourceURL=js_cba805b98e",
      "text/plain": [
       "<IPython.core.display.Javascript object>"
      ]
     },
     "metadata": {},
     "output_type": "display_data"
    },
    {
     "data": {
      "application/javascript": "window[\"597f178e-cb1d-11ec-8d7a-0242ac1c0002\"] = document.querySelector(\"#id4-0-0\");\n//# sourceURL=js_1d9524c444",
      "text/plain": [
       "<IPython.core.display.Javascript object>"
      ]
     },
     "metadata": {},
     "output_type": "display_data"
    },
    {
     "data": {
      "application/javascript": "window[\"597f8c78-cb1d-11ec-8d7a-0242ac1c0002\"] = google.colab.output.setActiveOutputArea(window[\"597f178e-cb1d-11ec-8d7a-0242ac1c0002\"]);\n//# sourceURL=js_3fb3d88766",
      "text/plain": [
       "<IPython.core.display.Javascript object>"
      ]
     },
     "metadata": {},
     "output_type": "display_data"
    },
    {
     "data": {
      "application/javascript": "window[\"59a4c556-cb1d-11ec-8d7a-0242ac1c0002\"] = google.colab.output.setActiveOutputArea(window[\"597ea506-cb1d-11ec-8d7a-0242ac1c0002\"]);\n//# sourceURL=js_8b4aca258e",
      "text/plain": [
       "<IPython.core.display.Javascript object>"
      ]
     },
     "metadata": {},
     "output_type": "display_data"
    },
    {
     "data": {
      "application/javascript": "window[\"59b922d0-cb1d-11ec-8d7a-0242ac1c0002\"] = google.colab.output.getActiveOutputArea();\n//# sourceURL=js_2ea96d6f9c",
      "text/plain": [
       "<IPython.core.display.Javascript object>"
      ]
     },
     "metadata": {},
     "output_type": "display_data"
    },
    {
     "data": {
      "application/javascript": "window[\"59b9ca00-cb1d-11ec-8d7a-0242ac1c0002\"] = document.querySelector(\"#id4-0-0\");\n//# sourceURL=js_a3f6d3d0f5",
      "text/plain": [
       "<IPython.core.display.Javascript object>"
      ]
     },
     "metadata": {},
     "output_type": "display_data"
    },
    {
     "data": {
      "application/javascript": "window[\"59bb1c48-cb1d-11ec-8d7a-0242ac1c0002\"] = google.colab.output.setActiveOutputArea(window[\"59b9ca00-cb1d-11ec-8d7a-0242ac1c0002\"]);\n//# sourceURL=js_2688914e1c",
      "text/plain": [
       "<IPython.core.display.Javascript object>"
      ]
     },
     "metadata": {},
     "output_type": "display_data"
    },
    {
     "data": {
      "application/javascript": "window[\"59f36be8-cb1d-11ec-8d7a-0242ac1c0002\"] = google.colab.output.setActiveOutputArea(window[\"59b922d0-cb1d-11ec-8d7a-0242ac1c0002\"]);\n//# sourceURL=js_7a451c8322",
      "text/plain": [
       "<IPython.core.display.Javascript object>"
      ]
     },
     "metadata": {},
     "output_type": "display_data"
    },
    {
     "data": {
      "application/javascript": "window[\"5a057e50-cb1d-11ec-8d7a-0242ac1c0002\"] = google.colab.output.getActiveOutputArea();\n//# sourceURL=js_8f45fc30cd",
      "text/plain": [
       "<IPython.core.display.Javascript object>"
      ]
     },
     "metadata": {},
     "output_type": "display_data"
    },
    {
     "data": {
      "application/javascript": "window[\"5a05fad8-cb1d-11ec-8d7a-0242ac1c0002\"] = document.querySelector(\"#id4-0-0\");\n//# sourceURL=js_de31f4f449",
      "text/plain": [
       "<IPython.core.display.Javascript object>"
      ]
     },
     "metadata": {},
     "output_type": "display_data"
    },
    {
     "data": {
      "application/javascript": "window[\"5a0667e8-cb1d-11ec-8d7a-0242ac1c0002\"] = google.colab.output.setActiveOutputArea(window[\"5a05fad8-cb1d-11ec-8d7a-0242ac1c0002\"]);\n//# sourceURL=js_aaa46ba001",
      "text/plain": [
       "<IPython.core.display.Javascript object>"
      ]
     },
     "metadata": {},
     "output_type": "display_data"
    },
    {
     "data": {
      "application/javascript": "window[\"5a2848d6-cb1d-11ec-8d7a-0242ac1c0002\"] = google.colab.output.setActiveOutputArea(window[\"5a057e50-cb1d-11ec-8d7a-0242ac1c0002\"]);\n//# sourceURL=js_bc0c59eee3",
      "text/plain": [
       "<IPython.core.display.Javascript object>"
      ]
     },
     "metadata": {},
     "output_type": "display_data"
    },
    {
     "data": {
      "application/javascript": "window[\"5a3a32ee-cb1d-11ec-8d7a-0242ac1c0002\"] = google.colab.output.getActiveOutputArea();\n//# sourceURL=js_0376c0edd9",
      "text/plain": [
       "<IPython.core.display.Javascript object>"
      ]
     },
     "metadata": {},
     "output_type": "display_data"
    },
    {
     "data": {
      "application/javascript": "window[\"5a3a9a40-cb1d-11ec-8d7a-0242ac1c0002\"] = document.querySelector(\"#id4-0-0\");\n//# sourceURL=js_5e43cc9fcb",
      "text/plain": [
       "<IPython.core.display.Javascript object>"
      ]
     },
     "metadata": {},
     "output_type": "display_data"
    },
    {
     "data": {
      "application/javascript": "window[\"5a3b01f6-cb1d-11ec-8d7a-0242ac1c0002\"] = google.colab.output.setActiveOutputArea(window[\"5a3a9a40-cb1d-11ec-8d7a-0242ac1c0002\"]);\n//# sourceURL=js_4e59dd5cfe",
      "text/plain": [
       "<IPython.core.display.Javascript object>"
      ]
     },
     "metadata": {},
     "output_type": "display_data"
    },
    {
     "data": {
      "application/javascript": "window[\"5a5df8fa-cb1d-11ec-8d7a-0242ac1c0002\"] = google.colab.output.setActiveOutputArea(window[\"5a3a32ee-cb1d-11ec-8d7a-0242ac1c0002\"]);\n//# sourceURL=js_72e7a5b6e8",
      "text/plain": [
       "<IPython.core.display.Javascript object>"
      ]
     },
     "metadata": {},
     "output_type": "display_data"
    },
    {
     "data": {
      "application/javascript": "window[\"5a6ffd84-cb1d-11ec-8d7a-0242ac1c0002\"] = google.colab.output.getActiveOutputArea();\n//# sourceURL=js_9f3f34841c",
      "text/plain": [
       "<IPython.core.display.Javascript object>"
      ]
     },
     "metadata": {},
     "output_type": "display_data"
    },
    {
     "data": {
      "application/javascript": "window[\"5a708826-cb1d-11ec-8d7a-0242ac1c0002\"] = document.querySelector(\"#id4-0-0\");\n//# sourceURL=js_27925c9f01",
      "text/plain": [
       "<IPython.core.display.Javascript object>"
      ]
     },
     "metadata": {},
     "output_type": "display_data"
    },
    {
     "data": {
      "application/javascript": "window[\"5a712038-cb1d-11ec-8d7a-0242ac1c0002\"] = google.colab.output.setActiveOutputArea(window[\"5a708826-cb1d-11ec-8d7a-0242ac1c0002\"]);\n//# sourceURL=js_b01792da03",
      "text/plain": [
       "<IPython.core.display.Javascript object>"
      ]
     },
     "metadata": {},
     "output_type": "display_data"
    },
    {
     "data": {
      "application/javascript": "window[\"5a9e1340-cb1d-11ec-8d7a-0242ac1c0002\"] = google.colab.output.setActiveOutputArea(window[\"5a6ffd84-cb1d-11ec-8d7a-0242ac1c0002\"]);\n//# sourceURL=js_a6a9c633af",
      "text/plain": [
       "<IPython.core.display.Javascript object>"
      ]
     },
     "metadata": {},
     "output_type": "display_data"
    },
    {
     "data": {
      "application/javascript": "window[\"5aafe8e0-cb1d-11ec-8d7a-0242ac1c0002\"] = google.colab.output.getActiveOutputArea();\n//# sourceURL=js_5a6762cb84",
      "text/plain": [
       "<IPython.core.display.Javascript object>"
      ]
     },
     "metadata": {},
     "output_type": "display_data"
    },
    {
     "data": {
      "application/javascript": "window[\"5ab0591a-cb1d-11ec-8d7a-0242ac1c0002\"] = document.querySelector(\"#id4-0-0\");\n//# sourceURL=js_255c31ef6e",
      "text/plain": [
       "<IPython.core.display.Javascript object>"
      ]
     },
     "metadata": {},
     "output_type": "display_data"
    },
    {
     "data": {
      "application/javascript": "window[\"5ab11062-cb1d-11ec-8d7a-0242ac1c0002\"] = google.colab.output.setActiveOutputArea(window[\"5ab0591a-cb1d-11ec-8d7a-0242ac1c0002\"]);\n//# sourceURL=js_f98f21a06d",
      "text/plain": [
       "<IPython.core.display.Javascript object>"
      ]
     },
     "metadata": {},
     "output_type": "display_data"
    },
    {
     "data": {
      "application/javascript": "window[\"5ad3636a-cb1d-11ec-8d7a-0242ac1c0002\"] = google.colab.output.setActiveOutputArea(window[\"5aafe8e0-cb1d-11ec-8d7a-0242ac1c0002\"]);\n//# sourceURL=js_24372984d8",
      "text/plain": [
       "<IPython.core.display.Javascript object>"
      ]
     },
     "metadata": {},
     "output_type": "display_data"
    },
    {
     "name": "stdout",
     "output_type": "stream",
     "text": [
      "reach\n"
     ]
    },
    {
     "data": {
      "application/javascript": "window[\"5ae70096-cb1d-11ec-8d7a-0242ac1c0002\"] = google.colab.output.getActiveOutputArea();\n//# sourceURL=js_8c1d607d3b",
      "text/plain": [
       "<IPython.core.display.Javascript object>"
      ]
     },
     "metadata": {},
     "output_type": "display_data"
    },
    {
     "data": {
      "application/javascript": "window[\"5ae803b0-cb1d-11ec-8d7a-0242ac1c0002\"] = document.querySelector(\"#id4-0-0\");\n//# sourceURL=js_196944b0b6",
      "text/plain": [
       "<IPython.core.display.Javascript object>"
      ]
     },
     "metadata": {},
     "output_type": "display_data"
    },
    {
     "data": {
      "application/javascript": "window[\"5ae89136-cb1d-11ec-8d7a-0242ac1c0002\"] = google.colab.output.setActiveOutputArea(window[\"5ae803b0-cb1d-11ec-8d7a-0242ac1c0002\"]);\n//# sourceURL=js_70020eb6d7",
      "text/plain": [
       "<IPython.core.display.Javascript object>"
      ]
     },
     "metadata": {},
     "output_type": "display_data"
    },
    {
     "data": {
      "application/javascript": "window[\"5b0c790c-cb1d-11ec-8d7a-0242ac1c0002\"] = google.colab.output.setActiveOutputArea(window[\"5ae70096-cb1d-11ec-8d7a-0242ac1c0002\"]);\n//# sourceURL=js_7069307800",
      "text/plain": [
       "<IPython.core.display.Javascript object>"
      ]
     },
     "metadata": {},
     "output_type": "display_data"
    },
    {
     "data": {
      "application/javascript": "window[\"5b1f73ea-cb1d-11ec-8d7a-0242ac1c0002\"] = google.colab.output.getActiveOutputArea();\n//# sourceURL=js_c89e4a0463",
      "text/plain": [
       "<IPython.core.display.Javascript object>"
      ]
     },
     "metadata": {},
     "output_type": "display_data"
    },
    {
     "data": {
      "application/javascript": "window[\"5b1fbeea-cb1d-11ec-8d7a-0242ac1c0002\"] = document.querySelector(\"#id4-0-0\");\n//# sourceURL=js_21c63a4d7d",
      "text/plain": [
       "<IPython.core.display.Javascript object>"
      ]
     },
     "metadata": {},
     "output_type": "display_data"
    },
    {
     "data": {
      "application/javascript": "window[\"5b2082f8-cb1d-11ec-8d7a-0242ac1c0002\"] = google.colab.output.setActiveOutputArea(window[\"5b1fbeea-cb1d-11ec-8d7a-0242ac1c0002\"]);\n//# sourceURL=js_4e711f62dc",
      "text/plain": [
       "<IPython.core.display.Javascript object>"
      ]
     },
     "metadata": {},
     "output_type": "display_data"
    },
    {
     "data": {
      "application/javascript": "window[\"5b43e9d2-cb1d-11ec-8d7a-0242ac1c0002\"] = google.colab.output.setActiveOutputArea(window[\"5b1f73ea-cb1d-11ec-8d7a-0242ac1c0002\"]);\n//# sourceURL=js_7f133567a1",
      "text/plain": [
       "<IPython.core.display.Javascript object>"
      ]
     },
     "metadata": {},
     "output_type": "display_data"
    },
    {
     "data": {
      "application/javascript": "window[\"5b55a10e-cb1d-11ec-8d7a-0242ac1c0002\"] = google.colab.output.getActiveOutputArea();\n//# sourceURL=js_2e9b3fa0dc",
      "text/plain": [
       "<IPython.core.display.Javascript object>"
      ]
     },
     "metadata": {},
     "output_type": "display_data"
    },
    {
     "data": {
      "application/javascript": "window[\"5b56608a-cb1d-11ec-8d7a-0242ac1c0002\"] = document.querySelector(\"#id4-0-0\");\n//# sourceURL=js_0f47e2ab2f",
      "text/plain": [
       "<IPython.core.display.Javascript object>"
      ]
     },
     "metadata": {},
     "output_type": "display_data"
    },
    {
     "data": {
      "application/javascript": "window[\"5b56c854-cb1d-11ec-8d7a-0242ac1c0002\"] = google.colab.output.setActiveOutputArea(window[\"5b56608a-cb1d-11ec-8d7a-0242ac1c0002\"]);\n//# sourceURL=js_0da5ff4efb",
      "text/plain": [
       "<IPython.core.display.Javascript object>"
      ]
     },
     "metadata": {},
     "output_type": "display_data"
    },
    {
     "data": {
      "application/javascript": "window[\"5b739358-cb1d-11ec-8d7a-0242ac1c0002\"] = google.colab.output.setActiveOutputArea(window[\"5b55a10e-cb1d-11ec-8d7a-0242ac1c0002\"]);\n//# sourceURL=js_6163a7974b",
      "text/plain": [
       "<IPython.core.display.Javascript object>"
      ]
     },
     "metadata": {},
     "output_type": "display_data"
    },
    {
     "data": {
      "application/javascript": "window[\"5b86faf6-cb1d-11ec-8d7a-0242ac1c0002\"] = google.colab.output.getActiveOutputArea();\n//# sourceURL=js_a227ef3af0",
      "text/plain": [
       "<IPython.core.display.Javascript object>"
      ]
     },
     "metadata": {},
     "output_type": "display_data"
    },
    {
     "data": {
      "application/javascript": "window[\"5b875604-cb1d-11ec-8d7a-0242ac1c0002\"] = document.querySelector(\"#id4-0-0\");\n//# sourceURL=js_f2bd9d86d5",
      "text/plain": [
       "<IPython.core.display.Javascript object>"
      ]
     },
     "metadata": {},
     "output_type": "display_data"
    },
    {
     "data": {
      "application/javascript": "window[\"5b87aaf0-cb1d-11ec-8d7a-0242ac1c0002\"] = google.colab.output.setActiveOutputArea(window[\"5b875604-cb1d-11ec-8d7a-0242ac1c0002\"]);\n//# sourceURL=js_1f5d176de0",
      "text/plain": [
       "<IPython.core.display.Javascript object>"
      ]
     },
     "metadata": {},
     "output_type": "display_data"
    },
    {
     "data": {
      "application/javascript": "window[\"5ba5486c-cb1d-11ec-8d7a-0242ac1c0002\"] = google.colab.output.setActiveOutputArea(window[\"5b86faf6-cb1d-11ec-8d7a-0242ac1c0002\"]);\n//# sourceURL=js_c9524d58c0",
      "text/plain": [
       "<IPython.core.display.Javascript object>"
      ]
     },
     "metadata": {},
     "output_type": "display_data"
    },
    {
     "data": {
      "application/javascript": "window[\"5bb84606-cb1d-11ec-8d7a-0242ac1c0002\"] = google.colab.output.getActiveOutputArea();\n//# sourceURL=js_c2b9037a51",
      "text/plain": [
       "<IPython.core.display.Javascript object>"
      ]
     },
     "metadata": {},
     "output_type": "display_data"
    },
    {
     "data": {
      "application/javascript": "window[\"5bb90834-cb1d-11ec-8d7a-0242ac1c0002\"] = document.querySelector(\"#id4-0-0\");\n//# sourceURL=js_fc95a55c9c",
      "text/plain": [
       "<IPython.core.display.Javascript object>"
      ]
     },
     "metadata": {},
     "output_type": "display_data"
    },
    {
     "data": {
      "application/javascript": "window[\"5bb96e6e-cb1d-11ec-8d7a-0242ac1c0002\"] = google.colab.output.setActiveOutputArea(window[\"5bb90834-cb1d-11ec-8d7a-0242ac1c0002\"]);\n//# sourceURL=js_413a2dc737",
      "text/plain": [
       "<IPython.core.display.Javascript object>"
      ]
     },
     "metadata": {},
     "output_type": "display_data"
    },
    {
     "data": {
      "application/javascript": "window[\"5bda4c7e-cb1d-11ec-8d7a-0242ac1c0002\"] = google.colab.output.setActiveOutputArea(window[\"5bb84606-cb1d-11ec-8d7a-0242ac1c0002\"]);\n//# sourceURL=js_02d656a30f",
      "text/plain": [
       "<IPython.core.display.Javascript object>"
      ]
     },
     "metadata": {},
     "output_type": "display_data"
    },
    {
     "data": {
      "application/javascript": "window[\"5bec6a26-cb1d-11ec-8d7a-0242ac1c0002\"] = google.colab.output.getActiveOutputArea();\n//# sourceURL=js_72b44baefd",
      "text/plain": [
       "<IPython.core.display.Javascript object>"
      ]
     },
     "metadata": {},
     "output_type": "display_data"
    },
    {
     "data": {
      "application/javascript": "window[\"5bed8c58-cb1d-11ec-8d7a-0242ac1c0002\"] = document.querySelector(\"#id4-0-0\");\n//# sourceURL=js_932255800f",
      "text/plain": [
       "<IPython.core.display.Javascript object>"
      ]
     },
     "metadata": {},
     "output_type": "display_data"
    },
    {
     "data": {
      "application/javascript": "window[\"5bee4404-cb1d-11ec-8d7a-0242ac1c0002\"] = google.colab.output.setActiveOutputArea(window[\"5bed8c58-cb1d-11ec-8d7a-0242ac1c0002\"]);\n//# sourceURL=js_b6fe00bc3c",
      "text/plain": [
       "<IPython.core.display.Javascript object>"
      ]
     },
     "metadata": {},
     "output_type": "display_data"
    },
    {
     "data": {
      "application/javascript": "window[\"5c11ebb6-cb1d-11ec-8d7a-0242ac1c0002\"] = google.colab.output.setActiveOutputArea(window[\"5bec6a26-cb1d-11ec-8d7a-0242ac1c0002\"]);\n//# sourceURL=js_0da8a6e1e0",
      "text/plain": [
       "<IPython.core.display.Javascript object>"
      ]
     },
     "metadata": {},
     "output_type": "display_data"
    },
    {
     "data": {
      "application/javascript": "window[\"5c23e3fc-cb1d-11ec-8d7a-0242ac1c0002\"] = google.colab.output.getActiveOutputArea();\n//# sourceURL=js_215f1d4eb9",
      "text/plain": [
       "<IPython.core.display.Javascript object>"
      ]
     },
     "metadata": {},
     "output_type": "display_data"
    },
    {
     "data": {
      "application/javascript": "window[\"5c2503b8-cb1d-11ec-8d7a-0242ac1c0002\"] = document.querySelector(\"#id4-0-0\");\n//# sourceURL=js_bdd367b590",
      "text/plain": [
       "<IPython.core.display.Javascript object>"
      ]
     },
     "metadata": {},
     "output_type": "display_data"
    },
    {
     "data": {
      "application/javascript": "window[\"5c25886a-cb1d-11ec-8d7a-0242ac1c0002\"] = google.colab.output.setActiveOutputArea(window[\"5c2503b8-cb1d-11ec-8d7a-0242ac1c0002\"]);\n//# sourceURL=js_3e5f2a6e17",
      "text/plain": [
       "<IPython.core.display.Javascript object>"
      ]
     },
     "metadata": {},
     "output_type": "display_data"
    },
    {
     "data": {
      "application/javascript": "window[\"5c464366-cb1d-11ec-8d7a-0242ac1c0002\"] = google.colab.output.setActiveOutputArea(window[\"5c23e3fc-cb1d-11ec-8d7a-0242ac1c0002\"]);\n//# sourceURL=js_ef6e04da58",
      "text/plain": [
       "<IPython.core.display.Javascript object>"
      ]
     },
     "metadata": {},
     "output_type": "display_data"
    },
    {
     "name": "stdout",
     "output_type": "stream",
     "text": [
      "reach\n"
     ]
    },
    {
     "data": {
      "application/javascript": "window[\"5c5991be-cb1d-11ec-8d7a-0242ac1c0002\"] = google.colab.output.getActiveOutputArea();\n//# sourceURL=js_eed57123fa",
      "text/plain": [
       "<IPython.core.display.Javascript object>"
      ]
     },
     "metadata": {},
     "output_type": "display_data"
    },
    {
     "data": {
      "application/javascript": "window[\"5c5a264c-cb1d-11ec-8d7a-0242ac1c0002\"] = document.querySelector(\"#id4-0-0\");\n//# sourceURL=js_92d338680f",
      "text/plain": [
       "<IPython.core.display.Javascript object>"
      ]
     },
     "metadata": {},
     "output_type": "display_data"
    },
    {
     "data": {
      "application/javascript": "window[\"5c5aa70c-cb1d-11ec-8d7a-0242ac1c0002\"] = google.colab.output.setActiveOutputArea(window[\"5c5a264c-cb1d-11ec-8d7a-0242ac1c0002\"]);\n//# sourceURL=js_617999512b",
      "text/plain": [
       "<IPython.core.display.Javascript object>"
      ]
     },
     "metadata": {},
     "output_type": "display_data"
    },
    {
     "data": {
      "application/javascript": "window[\"5c8268dc-cb1d-11ec-8d7a-0242ac1c0002\"] = google.colab.output.setActiveOutputArea(window[\"5c5991be-cb1d-11ec-8d7a-0242ac1c0002\"]);\n//# sourceURL=js_62ff88f7d2",
      "text/plain": [
       "<IPython.core.display.Javascript object>"
      ]
     },
     "metadata": {},
     "output_type": "display_data"
    },
    {
     "data": {
      "application/javascript": "window[\"5c9604aa-cb1d-11ec-8d7a-0242ac1c0002\"] = google.colab.output.getActiveOutputArea();\n//# sourceURL=js_5e2fefb1ae",
      "text/plain": [
       "<IPython.core.display.Javascript object>"
      ]
     },
     "metadata": {},
     "output_type": "display_data"
    },
    {
     "data": {
      "application/javascript": "window[\"5c96586a-cb1d-11ec-8d7a-0242ac1c0002\"] = document.querySelector(\"#id4-0-0\");\n//# sourceURL=js_47d2c060a7",
      "text/plain": [
       "<IPython.core.display.Javascript object>"
      ]
     },
     "metadata": {},
     "output_type": "display_data"
    },
    {
     "data": {
      "application/javascript": "window[\"5c96a2fc-cb1d-11ec-8d7a-0242ac1c0002\"] = google.colab.output.setActiveOutputArea(window[\"5c96586a-cb1d-11ec-8d7a-0242ac1c0002\"]);\n//# sourceURL=js_30722d3f50",
      "text/plain": [
       "<IPython.core.display.Javascript object>"
      ]
     },
     "metadata": {},
     "output_type": "display_data"
    },
    {
     "data": {
      "application/javascript": "window[\"5cc77d32-cb1d-11ec-8d7a-0242ac1c0002\"] = google.colab.output.setActiveOutputArea(window[\"5c9604aa-cb1d-11ec-8d7a-0242ac1c0002\"]);\n//# sourceURL=js_fd53e8f46b",
      "text/plain": [
       "<IPython.core.display.Javascript object>"
      ]
     },
     "metadata": {},
     "output_type": "display_data"
    },
    {
     "data": {
      "application/javascript": "window[\"5cd8e3e2-cb1d-11ec-8d7a-0242ac1c0002\"] = google.colab.output.getActiveOutputArea();\n//# sourceURL=js_f00a15719c",
      "text/plain": [
       "<IPython.core.display.Javascript object>"
      ]
     },
     "metadata": {},
     "output_type": "display_data"
    },
    {
     "data": {
      "application/javascript": "window[\"5cd940e4-cb1d-11ec-8d7a-0242ac1c0002\"] = document.querySelector(\"#id4-0-0\");\n//# sourceURL=js_3fa90a2590",
      "text/plain": [
       "<IPython.core.display.Javascript object>"
      ]
     },
     "metadata": {},
     "output_type": "display_data"
    },
    {
     "data": {
      "application/javascript": "window[\"5cd9a4ee-cb1d-11ec-8d7a-0242ac1c0002\"] = google.colab.output.setActiveOutputArea(window[\"5cd940e4-cb1d-11ec-8d7a-0242ac1c0002\"]);\n//# sourceURL=js_de45b7e259",
      "text/plain": [
       "<IPython.core.display.Javascript object>"
      ]
     },
     "metadata": {},
     "output_type": "display_data"
    },
    {
     "data": {
      "application/javascript": "window[\"5cf9140a-cb1d-11ec-8d7a-0242ac1c0002\"] = google.colab.output.setActiveOutputArea(window[\"5cd8e3e2-cb1d-11ec-8d7a-0242ac1c0002\"]);\n//# sourceURL=js_ce3b138a36",
      "text/plain": [
       "<IPython.core.display.Javascript object>"
      ]
     },
     "metadata": {},
     "output_type": "display_data"
    },
    {
     "data": {
      "application/javascript": "window[\"5d0aa18e-cb1d-11ec-8d7a-0242ac1c0002\"] = google.colab.output.getActiveOutputArea();\n//# sourceURL=js_6c620eb09a",
      "text/plain": [
       "<IPython.core.display.Javascript object>"
      ]
     },
     "metadata": {},
     "output_type": "display_data"
    },
    {
     "data": {
      "application/javascript": "window[\"5d0b50fc-cb1d-11ec-8d7a-0242ac1c0002\"] = document.querySelector(\"#id4-0-0\");\n//# sourceURL=js_24ffc5de18",
      "text/plain": [
       "<IPython.core.display.Javascript object>"
      ]
     },
     "metadata": {},
     "output_type": "display_data"
    },
    {
     "data": {
      "application/javascript": "window[\"5d0bb16e-cb1d-11ec-8d7a-0242ac1c0002\"] = google.colab.output.setActiveOutputArea(window[\"5d0b50fc-cb1d-11ec-8d7a-0242ac1c0002\"]);\n//# sourceURL=js_cdc31547d9",
      "text/plain": [
       "<IPython.core.display.Javascript object>"
      ]
     },
     "metadata": {},
     "output_type": "display_data"
    },
    {
     "data": {
      "application/javascript": "window[\"5d2a5588-cb1d-11ec-8d7a-0242ac1c0002\"] = google.colab.output.setActiveOutputArea(window[\"5d0aa18e-cb1d-11ec-8d7a-0242ac1c0002\"]);\n//# sourceURL=js_269d6f2ec5",
      "text/plain": [
       "<IPython.core.display.Javascript object>"
      ]
     },
     "metadata": {},
     "output_type": "display_data"
    },
    {
     "data": {
      "application/javascript": "window[\"5d3bcc14-cb1d-11ec-8d7a-0242ac1c0002\"] = google.colab.output.getActiveOutputArea();\n//# sourceURL=js_eb68fb9d4f",
      "text/plain": [
       "<IPython.core.display.Javascript object>"
      ]
     },
     "metadata": {},
     "output_type": "display_data"
    },
    {
     "data": {
      "application/javascript": "window[\"5d3c2920-cb1d-11ec-8d7a-0242ac1c0002\"] = document.querySelector(\"#id4-0-0\");\n//# sourceURL=js_8b2a6bad8a",
      "text/plain": [
       "<IPython.core.display.Javascript object>"
      ]
     },
     "metadata": {},
     "output_type": "display_data"
    },
    {
     "data": {
      "application/javascript": "window[\"5d3c853c-cb1d-11ec-8d7a-0242ac1c0002\"] = google.colab.output.setActiveOutputArea(window[\"5d3c2920-cb1d-11ec-8d7a-0242ac1c0002\"]);\n//# sourceURL=js_6eb0055e7b",
      "text/plain": [
       "<IPython.core.display.Javascript object>"
      ]
     },
     "metadata": {},
     "output_type": "display_data"
    },
    {
     "data": {
      "application/javascript": "window[\"5d58870a-cb1d-11ec-8d7a-0242ac1c0002\"] = google.colab.output.setActiveOutputArea(window[\"5d3bcc14-cb1d-11ec-8d7a-0242ac1c0002\"]);\n//# sourceURL=js_2cdcb52938",
      "text/plain": [
       "<IPython.core.display.Javascript object>"
      ]
     },
     "metadata": {},
     "output_type": "display_data"
    },
    {
     "data": {
      "application/javascript": "window[\"5d6a0cdc-cb1d-11ec-8d7a-0242ac1c0002\"] = google.colab.output.getActiveOutputArea();\n//# sourceURL=js_890f90d997",
      "text/plain": [
       "<IPython.core.display.Javascript object>"
      ]
     },
     "metadata": {},
     "output_type": "display_data"
    },
    {
     "data": {
      "application/javascript": "window[\"5d6a6a1a-cb1d-11ec-8d7a-0242ac1c0002\"] = document.querySelector(\"#id4-0-0\");\n//# sourceURL=js_15191ec0ba",
      "text/plain": [
       "<IPython.core.display.Javascript object>"
      ]
     },
     "metadata": {},
     "output_type": "display_data"
    },
    {
     "data": {
      "application/javascript": "window[\"5d6b7cc0-cb1d-11ec-8d7a-0242ac1c0002\"] = google.colab.output.setActiveOutputArea(window[\"5d6a6a1a-cb1d-11ec-8d7a-0242ac1c0002\"]);\n//# sourceURL=js_44f4ace7e6",
      "text/plain": [
       "<IPython.core.display.Javascript object>"
      ]
     },
     "metadata": {},
     "output_type": "display_data"
    },
    {
     "data": {
      "application/javascript": "window[\"5d8b45aa-cb1d-11ec-8d7a-0242ac1c0002\"] = google.colab.output.setActiveOutputArea(window[\"5d6a0cdc-cb1d-11ec-8d7a-0242ac1c0002\"]);\n//# sourceURL=js_4e7d21e7d0",
      "text/plain": [
       "<IPython.core.display.Javascript object>"
      ]
     },
     "metadata": {},
     "output_type": "display_data"
    },
    {
     "data": {
      "application/javascript": "window[\"5d9deb92-cb1d-11ec-8d7a-0242ac1c0002\"] = google.colab.output.getActiveOutputArea();\n//# sourceURL=js_1a508ba871",
      "text/plain": [
       "<IPython.core.display.Javascript object>"
      ]
     },
     "metadata": {},
     "output_type": "display_data"
    },
    {
     "data": {
      "application/javascript": "window[\"5d9e65f4-cb1d-11ec-8d7a-0242ac1c0002\"] = document.querySelector(\"#id4-0-0\");\n//# sourceURL=js_3e3bb59dd7",
      "text/plain": [
       "<IPython.core.display.Javascript object>"
      ]
     },
     "metadata": {},
     "output_type": "display_data"
    },
    {
     "data": {
      "application/javascript": "window[\"5d9ef2bc-cb1d-11ec-8d7a-0242ac1c0002\"] = google.colab.output.setActiveOutputArea(window[\"5d9e65f4-cb1d-11ec-8d7a-0242ac1c0002\"]);\n//# sourceURL=js_400bad1187",
      "text/plain": [
       "<IPython.core.display.Javascript object>"
      ]
     },
     "metadata": {},
     "output_type": "display_data"
    },
    {
     "data": {
      "application/javascript": "window[\"5dc06e24-cb1d-11ec-8d7a-0242ac1c0002\"] = google.colab.output.setActiveOutputArea(window[\"5d9deb92-cb1d-11ec-8d7a-0242ac1c0002\"]);\n//# sourceURL=js_af75a288e8",
      "text/plain": [
       "<IPython.core.display.Javascript object>"
      ]
     },
     "metadata": {},
     "output_type": "display_data"
    },
    {
     "name": "stdout",
     "output_type": "stream",
     "text": [
      "reach\n"
     ]
    },
    {
     "data": {
      "application/javascript": "window[\"5dd753dc-cb1d-11ec-8d7a-0242ac1c0002\"] = google.colab.output.getActiveOutputArea();\n//# sourceURL=js_0b6ccc76b9",
      "text/plain": [
       "<IPython.core.display.Javascript object>"
      ]
     },
     "metadata": {},
     "output_type": "display_data"
    },
    {
     "data": {
      "application/javascript": "window[\"5dd7bdae-cb1d-11ec-8d7a-0242ac1c0002\"] = document.querySelector(\"#id4-0-0\");\n//# sourceURL=js_0b11c756f1",
      "text/plain": [
       "<IPython.core.display.Javascript object>"
      ]
     },
     "metadata": {},
     "output_type": "display_data"
    },
    {
     "data": {
      "application/javascript": "window[\"5dd8384c-cb1d-11ec-8d7a-0242ac1c0002\"] = google.colab.output.setActiveOutputArea(window[\"5dd7bdae-cb1d-11ec-8d7a-0242ac1c0002\"]);\n//# sourceURL=js_e8fe272f8c",
      "text/plain": [
       "<IPython.core.display.Javascript object>"
      ]
     },
     "metadata": {},
     "output_type": "display_data"
    },
    {
     "data": {
      "application/javascript": "window[\"5dfd9c18-cb1d-11ec-8d7a-0242ac1c0002\"] = google.colab.output.setActiveOutputArea(window[\"5dd753dc-cb1d-11ec-8d7a-0242ac1c0002\"]);\n//# sourceURL=js_8e15d09a99",
      "text/plain": [
       "<IPython.core.display.Javascript object>"
      ]
     },
     "metadata": {},
     "output_type": "display_data"
    },
    {
     "data": {
      "application/javascript": "window[\"5e10e412-cb1d-11ec-8d7a-0242ac1c0002\"] = google.colab.output.getActiveOutputArea();\n//# sourceURL=js_85ce0101bd",
      "text/plain": [
       "<IPython.core.display.Javascript object>"
      ]
     },
     "metadata": {},
     "output_type": "display_data"
    },
    {
     "data": {
      "application/javascript": "window[\"5e115b68-cb1d-11ec-8d7a-0242ac1c0002\"] = document.querySelector(\"#id4-0-0\");\n//# sourceURL=js_35a9e921f1",
      "text/plain": [
       "<IPython.core.display.Javascript object>"
      ]
     },
     "metadata": {},
     "output_type": "display_data"
    },
    {
     "data": {
      "application/javascript": "window[\"5e11cfd0-cb1d-11ec-8d7a-0242ac1c0002\"] = google.colab.output.setActiveOutputArea(window[\"5e115b68-cb1d-11ec-8d7a-0242ac1c0002\"]);\n//# sourceURL=js_7d9fdbcf7c",
      "text/plain": [
       "<IPython.core.display.Javascript object>"
      ]
     },
     "metadata": {},
     "output_type": "display_data"
    },
    {
     "data": {
      "application/javascript": "window[\"5e365e68-cb1d-11ec-8d7a-0242ac1c0002\"] = google.colab.output.setActiveOutputArea(window[\"5e10e412-cb1d-11ec-8d7a-0242ac1c0002\"]);\n//# sourceURL=js_8ced4245d2",
      "text/plain": [
       "<IPython.core.display.Javascript object>"
      ]
     },
     "metadata": {},
     "output_type": "display_data"
    },
    {
     "data": {
      "application/javascript": "window[\"5e490cb6-cb1d-11ec-8d7a-0242ac1c0002\"] = google.colab.output.getActiveOutputArea();\n//# sourceURL=js_6b16836ace",
      "text/plain": [
       "<IPython.core.display.Javascript object>"
      ]
     },
     "metadata": {},
     "output_type": "display_data"
    },
    {
     "data": {
      "application/javascript": "window[\"5e498f6a-cb1d-11ec-8d7a-0242ac1c0002\"] = document.querySelector(\"#id4-0-0\");\n//# sourceURL=js_5f8de0f257",
      "text/plain": [
       "<IPython.core.display.Javascript object>"
      ]
     },
     "metadata": {},
     "output_type": "display_data"
    },
    {
     "data": {
      "application/javascript": "window[\"5e4aa2ce-cb1d-11ec-8d7a-0242ac1c0002\"] = google.colab.output.setActiveOutputArea(window[\"5e498f6a-cb1d-11ec-8d7a-0242ac1c0002\"]);\n//# sourceURL=js_7fd6276119",
      "text/plain": [
       "<IPython.core.display.Javascript object>"
      ]
     },
     "metadata": {},
     "output_type": "display_data"
    },
    {
     "data": {
      "application/javascript": "window[\"5e717ce6-cb1d-11ec-8d7a-0242ac1c0002\"] = google.colab.output.setActiveOutputArea(window[\"5e490cb6-cb1d-11ec-8d7a-0242ac1c0002\"]);\n//# sourceURL=js_2c9dc86ccd",
      "text/plain": [
       "<IPython.core.display.Javascript object>"
      ]
     },
     "metadata": {},
     "output_type": "display_data"
    },
    {
     "data": {
      "application/javascript": "window[\"5e836e38-cb1d-11ec-8d7a-0242ac1c0002\"] = google.colab.output.getActiveOutputArea();\n//# sourceURL=js_88729f6d0f",
      "text/plain": [
       "<IPython.core.display.Javascript object>"
      ]
     },
     "metadata": {},
     "output_type": "display_data"
    },
    {
     "data": {
      "application/javascript": "window[\"5e83f178-cb1d-11ec-8d7a-0242ac1c0002\"] = document.querySelector(\"#id4-0-0\");\n//# sourceURL=js_61b5109f2f",
      "text/plain": [
       "<IPython.core.display.Javascript object>"
      ]
     },
     "metadata": {},
     "output_type": "display_data"
    },
    {
     "data": {
      "application/javascript": "window[\"5e846bd0-cb1d-11ec-8d7a-0242ac1c0002\"] = google.colab.output.setActiveOutputArea(window[\"5e83f178-cb1d-11ec-8d7a-0242ac1c0002\"]);\n//# sourceURL=js_e5121ea9f5",
      "text/plain": [
       "<IPython.core.display.Javascript object>"
      ]
     },
     "metadata": {},
     "output_type": "display_data"
    },
    {
     "data": {
      "application/javascript": "window[\"5ea76eaa-cb1d-11ec-8d7a-0242ac1c0002\"] = google.colab.output.setActiveOutputArea(window[\"5e836e38-cb1d-11ec-8d7a-0242ac1c0002\"]);\n//# sourceURL=js_24b9548827",
      "text/plain": [
       "<IPython.core.display.Javascript object>"
      ]
     },
     "metadata": {},
     "output_type": "display_data"
    },
    {
     "data": {
      "application/javascript": "window[\"5eb93a0e-cb1d-11ec-8d7a-0242ac1c0002\"] = google.colab.output.getActiveOutputArea();\n//# sourceURL=js_f405006588",
      "text/plain": [
       "<IPython.core.display.Javascript object>"
      ]
     },
     "metadata": {},
     "output_type": "display_data"
    },
    {
     "data": {
      "application/javascript": "window[\"5eb9b510-cb1d-11ec-8d7a-0242ac1c0002\"] = document.querySelector(\"#id4-0-0\");\n//# sourceURL=js_37d5b64c73",
      "text/plain": [
       "<IPython.core.display.Javascript object>"
      ]
     },
     "metadata": {},
     "output_type": "display_data"
    },
    {
     "data": {
      "application/javascript": "window[\"5eba266c-cb1d-11ec-8d7a-0242ac1c0002\"] = google.colab.output.setActiveOutputArea(window[\"5eb9b510-cb1d-11ec-8d7a-0242ac1c0002\"]);\n//# sourceURL=js_4e707cc0df",
      "text/plain": [
       "<IPython.core.display.Javascript object>"
      ]
     },
     "metadata": {},
     "output_type": "display_data"
    },
    {
     "data": {
      "application/javascript": "window[\"5edbec84-cb1d-11ec-8d7a-0242ac1c0002\"] = google.colab.output.setActiveOutputArea(window[\"5eb93a0e-cb1d-11ec-8d7a-0242ac1c0002\"]);\n//# sourceURL=js_ef5318be92",
      "text/plain": [
       "<IPython.core.display.Javascript object>"
      ]
     },
     "metadata": {},
     "output_type": "display_data"
    },
    {
     "data": {
      "application/javascript": "window[\"5eeec390-cb1d-11ec-8d7a-0242ac1c0002\"] = google.colab.output.getActiveOutputArea();\n//# sourceURL=js_00707d36d9",
      "text/plain": [
       "<IPython.core.display.Javascript object>"
      ]
     },
     "metadata": {},
     "output_type": "display_data"
    },
    {
     "data": {
      "application/javascript": "window[\"5eefa22e-cb1d-11ec-8d7a-0242ac1c0002\"] = document.querySelector(\"#id4-0-0\");\n//# sourceURL=js_c146198b69",
      "text/plain": [
       "<IPython.core.display.Javascript object>"
      ]
     },
     "metadata": {},
     "output_type": "display_data"
    },
    {
     "data": {
      "application/javascript": "window[\"5ef0aec6-cb1d-11ec-8d7a-0242ac1c0002\"] = google.colab.output.setActiveOutputArea(window[\"5eefa22e-cb1d-11ec-8d7a-0242ac1c0002\"]);\n//# sourceURL=js_b1cd7b2de6",
      "text/plain": [
       "<IPython.core.display.Javascript object>"
      ]
     },
     "metadata": {},
     "output_type": "display_data"
    },
    {
     "data": {
      "application/javascript": "window[\"5f0ddc80-cb1d-11ec-8d7a-0242ac1c0002\"] = google.colab.output.setActiveOutputArea(window[\"5eeec390-cb1d-11ec-8d7a-0242ac1c0002\"]);\n//# sourceURL=js_047b65b190",
      "text/plain": [
       "<IPython.core.display.Javascript object>"
      ]
     },
     "metadata": {},
     "output_type": "display_data"
    },
    {
     "data": {
      "application/javascript": "window[\"5f1f5000-cb1d-11ec-8d7a-0242ac1c0002\"] = google.colab.output.getActiveOutputArea();\n//# sourceURL=js_6be5278d7c",
      "text/plain": [
       "<IPython.core.display.Javascript object>"
      ]
     },
     "metadata": {},
     "output_type": "display_data"
    },
    {
     "data": {
      "application/javascript": "window[\"5f1fc8a0-cb1d-11ec-8d7a-0242ac1c0002\"] = document.querySelector(\"#id4-0-0\");\n//# sourceURL=js_69a23aa248",
      "text/plain": [
       "<IPython.core.display.Javascript object>"
      ]
     },
     "metadata": {},
     "output_type": "display_data"
    },
    {
     "data": {
      "application/javascript": "window[\"5f202318-cb1d-11ec-8d7a-0242ac1c0002\"] = google.colab.output.setActiveOutputArea(window[\"5f1fc8a0-cb1d-11ec-8d7a-0242ac1c0002\"]);\n//# sourceURL=js_f244a95c58",
      "text/plain": [
       "<IPython.core.display.Javascript object>"
      ]
     },
     "metadata": {},
     "output_type": "display_data"
    },
    {
     "data": {
      "application/javascript": "window[\"5f3dbfe0-cb1d-11ec-8d7a-0242ac1c0002\"] = google.colab.output.setActiveOutputArea(window[\"5f1f5000-cb1d-11ec-8d7a-0242ac1c0002\"]);\n//# sourceURL=js_c6b5bd7d04",
      "text/plain": [
       "<IPython.core.display.Javascript object>"
      ]
     },
     "metadata": {},
     "output_type": "display_data"
    },
    {
     "data": {
      "application/javascript": "window[\"5f4f70dc-cb1d-11ec-8d7a-0242ac1c0002\"] = google.colab.output.getActiveOutputArea();\n//# sourceURL=js_d1d11a7c60",
      "text/plain": [
       "<IPython.core.display.Javascript object>"
      ]
     },
     "metadata": {},
     "output_type": "display_data"
    },
    {
     "data": {
      "application/javascript": "window[\"5f4fd7f2-cb1d-11ec-8d7a-0242ac1c0002\"] = document.querySelector(\"#id4-0-0\");\n//# sourceURL=js_8ae9ca8d30",
      "text/plain": [
       "<IPython.core.display.Javascript object>"
      ]
     },
     "metadata": {},
     "output_type": "display_data"
    },
    {
     "data": {
      "application/javascript": "window[\"5f504958-cb1d-11ec-8d7a-0242ac1c0002\"] = google.colab.output.setActiveOutputArea(window[\"5f4fd7f2-cb1d-11ec-8d7a-0242ac1c0002\"]);\n//# sourceURL=js_2364df5ecf",
      "text/plain": [
       "<IPython.core.display.Javascript object>"
      ]
     },
     "metadata": {},
     "output_type": "display_data"
    },
    {
     "data": {
      "application/javascript": "window[\"5f7fd830-cb1d-11ec-8d7a-0242ac1c0002\"] = google.colab.output.setActiveOutputArea(window[\"5f4f70dc-cb1d-11ec-8d7a-0242ac1c0002\"]);\n//# sourceURL=js_0b92ce75c9",
      "text/plain": [
       "<IPython.core.display.Javascript object>"
      ]
     },
     "metadata": {},
     "output_type": "display_data"
    },
    {
     "name": "stdout",
     "output_type": "stream",
     "text": [
      "reach\n"
     ]
    },
    {
     "data": {
      "application/javascript": "window[\"5f91ffd8-cb1d-11ec-8d7a-0242ac1c0002\"] = google.colab.output.getActiveOutputArea();\n//# sourceURL=js_281ef43f49",
      "text/plain": [
       "<IPython.core.display.Javascript object>"
      ]
     },
     "metadata": {},
     "output_type": "display_data"
    },
    {
     "data": {
      "application/javascript": "window[\"5f932aac-cb1d-11ec-8d7a-0242ac1c0002\"] = document.querySelector(\"#id4-0-0\");\n//# sourceURL=js_2cc6dbd988",
      "text/plain": [
       "<IPython.core.display.Javascript object>"
      ]
     },
     "metadata": {},
     "output_type": "display_data"
    },
    {
     "data": {
      "application/javascript": "window[\"5f939af0-cb1d-11ec-8d7a-0242ac1c0002\"] = google.colab.output.setActiveOutputArea(window[\"5f932aac-cb1d-11ec-8d7a-0242ac1c0002\"]);\n//# sourceURL=js_7543834487",
      "text/plain": [
       "<IPython.core.display.Javascript object>"
      ]
     },
     "metadata": {},
     "output_type": "display_data"
    },
    {
     "data": {
      "application/javascript": "window[\"5fb72b6e-cb1d-11ec-8d7a-0242ac1c0002\"] = google.colab.output.setActiveOutputArea(window[\"5f91ffd8-cb1d-11ec-8d7a-0242ac1c0002\"]);\n//# sourceURL=js_8e0ba7e5b0",
      "text/plain": [
       "<IPython.core.display.Javascript object>"
      ]
     },
     "metadata": {},
     "output_type": "display_data"
    },
    {
     "data": {
      "application/javascript": "window[\"5fc93d7c-cb1d-11ec-8d7a-0242ac1c0002\"] = google.colab.output.getActiveOutputArea();\n//# sourceURL=js_aa17798c58",
      "text/plain": [
       "<IPython.core.display.Javascript object>"
      ]
     },
     "metadata": {},
     "output_type": "display_data"
    },
    {
     "data": {
      "application/javascript": "window[\"5fc9cd6e-cb1d-11ec-8d7a-0242ac1c0002\"] = document.querySelector(\"#id4-0-0\");\n//# sourceURL=js_a7dd9749fb",
      "text/plain": [
       "<IPython.core.display.Javascript object>"
      ]
     },
     "metadata": {},
     "output_type": "display_data"
    },
    {
     "data": {
      "application/javascript": "window[\"5fca3dee-cb1d-11ec-8d7a-0242ac1c0002\"] = google.colab.output.setActiveOutputArea(window[\"5fc9cd6e-cb1d-11ec-8d7a-0242ac1c0002\"]);\n//# sourceURL=js_5a415d4272",
      "text/plain": [
       "<IPython.core.display.Javascript object>"
      ]
     },
     "metadata": {},
     "output_type": "display_data"
    },
    {
     "data": {
      "application/javascript": "window[\"5fea5674-cb1d-11ec-8d7a-0242ac1c0002\"] = google.colab.output.setActiveOutputArea(window[\"5fc93d7c-cb1d-11ec-8d7a-0242ac1c0002\"]);\n//# sourceURL=js_1f9219664e",
      "text/plain": [
       "<IPython.core.display.Javascript object>"
      ]
     },
     "metadata": {},
     "output_type": "display_data"
    },
    {
     "data": {
      "application/javascript": "window[\"5ffd0a12-cb1d-11ec-8d7a-0242ac1c0002\"] = google.colab.output.getActiveOutputArea();\n//# sourceURL=js_7bcc98e888",
      "text/plain": [
       "<IPython.core.display.Javascript object>"
      ]
     },
     "metadata": {},
     "output_type": "display_data"
    },
    {
     "data": {
      "application/javascript": "window[\"5ffd7d12-cb1d-11ec-8d7a-0242ac1c0002\"] = document.querySelector(\"#id4-0-0\");\n//# sourceURL=js_feaddb21b6",
      "text/plain": [
       "<IPython.core.display.Javascript object>"
      ]
     },
     "metadata": {},
     "output_type": "display_data"
    },
    {
     "data": {
      "application/javascript": "window[\"5ffde2ac-cb1d-11ec-8d7a-0242ac1c0002\"] = google.colab.output.setActiveOutputArea(window[\"5ffd7d12-cb1d-11ec-8d7a-0242ac1c0002\"]);\n//# sourceURL=js_fc6f2cbba7",
      "text/plain": [
       "<IPython.core.display.Javascript object>"
      ]
     },
     "metadata": {},
     "output_type": "display_data"
    },
    {
     "data": {
      "application/javascript": "window[\"601e6d10-cb1d-11ec-8d7a-0242ac1c0002\"] = google.colab.output.setActiveOutputArea(window[\"5ffd0a12-cb1d-11ec-8d7a-0242ac1c0002\"]);\n//# sourceURL=js_4a0259f48b",
      "text/plain": [
       "<IPython.core.display.Javascript object>"
      ]
     },
     "metadata": {},
     "output_type": "display_data"
    },
    {
     "data": {
      "application/javascript": "window[\"6032a262-cb1d-11ec-8d7a-0242ac1c0002\"] = google.colab.output.getActiveOutputArea();\n//# sourceURL=js_1d4f117ff0",
      "text/plain": [
       "<IPython.core.display.Javascript object>"
      ]
     },
     "metadata": {},
     "output_type": "display_data"
    },
    {
     "data": {
      "application/javascript": "window[\"60331f44-cb1d-11ec-8d7a-0242ac1c0002\"] = document.querySelector(\"#id4-0-0\");\n//# sourceURL=js_48cd0cf006",
      "text/plain": [
       "<IPython.core.display.Javascript object>"
      ]
     },
     "metadata": {},
     "output_type": "display_data"
    },
    {
     "data": {
      "application/javascript": "window[\"60338948-cb1d-11ec-8d7a-0242ac1c0002\"] = google.colab.output.setActiveOutputArea(window[\"60331f44-cb1d-11ec-8d7a-0242ac1c0002\"]);\n//# sourceURL=js_5c0b4e207d",
      "text/plain": [
       "<IPython.core.display.Javascript object>"
      ]
     },
     "metadata": {},
     "output_type": "display_data"
    },
    {
     "data": {
      "application/javascript": "window[\"60571516-cb1d-11ec-8d7a-0242ac1c0002\"] = google.colab.output.setActiveOutputArea(window[\"6032a262-cb1d-11ec-8d7a-0242ac1c0002\"]);\n//# sourceURL=js_4c6100a5c6",
      "text/plain": [
       "<IPython.core.display.Javascript object>"
      ]
     },
     "metadata": {},
     "output_type": "display_data"
    },
    {
     "data": {
      "application/javascript": "window[\"6068d6d4-cb1d-11ec-8d7a-0242ac1c0002\"] = google.colab.output.getActiveOutputArea();\n//# sourceURL=js_8588864425",
      "text/plain": [
       "<IPython.core.display.Javascript object>"
      ]
     },
     "metadata": {},
     "output_type": "display_data"
    },
    {
     "data": {
      "application/javascript": "window[\"606988ae-cb1d-11ec-8d7a-0242ac1c0002\"] = document.querySelector(\"#id4-0-0\");\n//# sourceURL=js_68e029f141",
      "text/plain": [
       "<IPython.core.display.Javascript object>"
      ]
     },
     "metadata": {},
     "output_type": "display_data"
    },
    {
     "data": {
      "application/javascript": "window[\"606a0df6-cb1d-11ec-8d7a-0242ac1c0002\"] = google.colab.output.setActiveOutputArea(window[\"606988ae-cb1d-11ec-8d7a-0242ac1c0002\"]);\n//# sourceURL=js_842fe5c317",
      "text/plain": [
       "<IPython.core.display.Javascript object>"
      ]
     },
     "metadata": {},
     "output_type": "display_data"
    },
    {
     "data": {
      "application/javascript": "window[\"608ca60e-cb1d-11ec-8d7a-0242ac1c0002\"] = google.colab.output.setActiveOutputArea(window[\"6068d6d4-cb1d-11ec-8d7a-0242ac1c0002\"]);\n//# sourceURL=js_6d1686ac8b",
      "text/plain": [
       "<IPython.core.display.Javascript object>"
      ]
     },
     "metadata": {},
     "output_type": "display_data"
    },
    {
     "data": {
      "application/javascript": "window[\"609e6fc4-cb1d-11ec-8d7a-0242ac1c0002\"] = google.colab.output.getActiveOutputArea();\n//# sourceURL=js_2ffbe2a0e6",
      "text/plain": [
       "<IPython.core.display.Javascript object>"
      ]
     },
     "metadata": {},
     "output_type": "display_data"
    },
    {
     "data": {
      "application/javascript": "window[\"609f2e32-cb1d-11ec-8d7a-0242ac1c0002\"] = document.querySelector(\"#id4-0-0\");\n//# sourceURL=js_8008a95bae",
      "text/plain": [
       "<IPython.core.display.Javascript object>"
      ]
     },
     "metadata": {},
     "output_type": "display_data"
    },
    {
     "data": {
      "application/javascript": "window[\"609fb406-cb1d-11ec-8d7a-0242ac1c0002\"] = google.colab.output.setActiveOutputArea(window[\"609f2e32-cb1d-11ec-8d7a-0242ac1c0002\"]);\n//# sourceURL=js_dc37967714",
      "text/plain": [
       "<IPython.core.display.Javascript object>"
      ]
     },
     "metadata": {},
     "output_type": "display_data"
    },
    {
     "data": {
      "application/javascript": "window[\"60c31b4e-cb1d-11ec-8d7a-0242ac1c0002\"] = google.colab.output.setActiveOutputArea(window[\"609e6fc4-cb1d-11ec-8d7a-0242ac1c0002\"]);\n//# sourceURL=js_1249dbfe70",
      "text/plain": [
       "<IPython.core.display.Javascript object>"
      ]
     },
     "metadata": {},
     "output_type": "display_data"
    },
    {
     "data": {
      "application/javascript": "window[\"60d5d234-cb1d-11ec-8d7a-0242ac1c0002\"] = google.colab.output.getActiveOutputArea();\n//# sourceURL=js_f95ade960d",
      "text/plain": [
       "<IPython.core.display.Javascript object>"
      ]
     },
     "metadata": {},
     "output_type": "display_data"
    },
    {
     "data": {
      "application/javascript": "window[\"60d6383c-cb1d-11ec-8d7a-0242ac1c0002\"] = document.querySelector(\"#id4-0-0\");\n//# sourceURL=js_8f08585054",
      "text/plain": [
       "<IPython.core.display.Javascript object>"
      ]
     },
     "metadata": {},
     "output_type": "display_data"
    },
    {
     "data": {
      "application/javascript": "window[\"60d69d5e-cb1d-11ec-8d7a-0242ac1c0002\"] = google.colab.output.setActiveOutputArea(window[\"60d6383c-cb1d-11ec-8d7a-0242ac1c0002\"]);\n//# sourceURL=js_a67bd8dcb4",
      "text/plain": [
       "<IPython.core.display.Javascript object>"
      ]
     },
     "metadata": {},
     "output_type": "display_data"
    },
    {
     "data": {
      "application/javascript": "window[\"60f8f002-cb1d-11ec-8d7a-0242ac1c0002\"] = google.colab.output.setActiveOutputArea(window[\"60d5d234-cb1d-11ec-8d7a-0242ac1c0002\"]);\n//# sourceURL=js_9fc25e9153",
      "text/plain": [
       "<IPython.core.display.Javascript object>"
      ]
     },
     "metadata": {},
     "output_type": "display_data"
    },
    {
     "name": "stdout",
     "output_type": "stream",
     "text": [
      "reach\n"
     ]
    },
    {
     "data": {
      "application/javascript": "window[\"610b216e-cb1d-11ec-8d7a-0242ac1c0002\"] = google.colab.output.getActiveOutputArea();\n//# sourceURL=js_43d646ba01",
      "text/plain": [
       "<IPython.core.display.Javascript object>"
      ]
     },
     "metadata": {},
     "output_type": "display_data"
    },
    {
     "data": {
      "application/javascript": "window[\"610bebb2-cb1d-11ec-8d7a-0242ac1c0002\"] = document.querySelector(\"#id4-0-0\");\n//# sourceURL=js_788dd7f7c0",
      "text/plain": [
       "<IPython.core.display.Javascript object>"
      ]
     },
     "metadata": {},
     "output_type": "display_data"
    },
    {
     "data": {
      "application/javascript": "window[\"610c666e-cb1d-11ec-8d7a-0242ac1c0002\"] = google.colab.output.setActiveOutputArea(window[\"610bebb2-cb1d-11ec-8d7a-0242ac1c0002\"]);\n//# sourceURL=js_571a32c3b8",
      "text/plain": [
       "<IPython.core.display.Javascript object>"
      ]
     },
     "metadata": {},
     "output_type": "display_data"
    },
    {
     "data": {
      "application/javascript": "window[\"61365b36-cb1d-11ec-8d7a-0242ac1c0002\"] = google.colab.output.setActiveOutputArea(window[\"610b216e-cb1d-11ec-8d7a-0242ac1c0002\"]);\n//# sourceURL=js_7a2fe765f8",
      "text/plain": [
       "<IPython.core.display.Javascript object>"
      ]
     },
     "metadata": {},
     "output_type": "display_data"
    },
    {
     "data": {
      "application/javascript": "window[\"614aafc8-cb1d-11ec-8d7a-0242ac1c0002\"] = google.colab.output.getActiveOutputArea();\n//# sourceURL=js_8756a4dedc",
      "text/plain": [
       "<IPython.core.display.Javascript object>"
      ]
     },
     "metadata": {},
     "output_type": "display_data"
    },
    {
     "data": {
      "application/javascript": "window[\"614b476c-cb1d-11ec-8d7a-0242ac1c0002\"] = document.querySelector(\"#id4-0-0\");\n//# sourceURL=js_709966b7da",
      "text/plain": [
       "<IPython.core.display.Javascript object>"
      ]
     },
     "metadata": {},
     "output_type": "display_data"
    },
    {
     "data": {
      "application/javascript": "window[\"614c2934-cb1d-11ec-8d7a-0242ac1c0002\"] = google.colab.output.setActiveOutputArea(window[\"614b476c-cb1d-11ec-8d7a-0242ac1c0002\"]);\n//# sourceURL=js_db6fe66259",
      "text/plain": [
       "<IPython.core.display.Javascript object>"
      ]
     },
     "metadata": {},
     "output_type": "display_data"
    },
    {
     "data": {
      "application/javascript": "window[\"616f95c2-cb1d-11ec-8d7a-0242ac1c0002\"] = google.colab.output.setActiveOutputArea(window[\"614aafc8-cb1d-11ec-8d7a-0242ac1c0002\"]);\n//# sourceURL=js_8ac34d356f",
      "text/plain": [
       "<IPython.core.display.Javascript object>"
      ]
     },
     "metadata": {},
     "output_type": "display_data"
    },
    {
     "data": {
      "application/javascript": "window[\"6183fa9e-cb1d-11ec-8d7a-0242ac1c0002\"] = google.colab.output.getActiveOutputArea();\n//# sourceURL=js_3af1eea66d",
      "text/plain": [
       "<IPython.core.display.Javascript object>"
      ]
     },
     "metadata": {},
     "output_type": "display_data"
    },
    {
     "data": {
      "application/javascript": "window[\"6184863a-cb1d-11ec-8d7a-0242ac1c0002\"] = document.querySelector(\"#id4-0-0\");\n//# sourceURL=js_d1e8cf510a",
      "text/plain": [
       "<IPython.core.display.Javascript object>"
      ]
     },
     "metadata": {},
     "output_type": "display_data"
    },
    {
     "data": {
      "application/javascript": "window[\"61851050-cb1d-11ec-8d7a-0242ac1c0002\"] = google.colab.output.setActiveOutputArea(window[\"6184863a-cb1d-11ec-8d7a-0242ac1c0002\"]);\n//# sourceURL=js_8bc182bddf",
      "text/plain": [
       "<IPython.core.display.Javascript object>"
      ]
     },
     "metadata": {},
     "output_type": "display_data"
    },
    {
     "data": {
      "application/javascript": "window[\"61a45a00-cb1d-11ec-8d7a-0242ac1c0002\"] = google.colab.output.setActiveOutputArea(window[\"6183fa9e-cb1d-11ec-8d7a-0242ac1c0002\"]);\n//# sourceURL=js_cce8f57dac",
      "text/plain": [
       "<IPython.core.display.Javascript object>"
      ]
     },
     "metadata": {},
     "output_type": "display_data"
    },
    {
     "data": {
      "application/javascript": "window[\"61b72e1e-cb1d-11ec-8d7a-0242ac1c0002\"] = google.colab.output.getActiveOutputArea();\n//# sourceURL=js_17ffe4d9e2",
      "text/plain": [
       "<IPython.core.display.Javascript object>"
      ]
     },
     "metadata": {},
     "output_type": "display_data"
    },
    {
     "data": {
      "application/javascript": "window[\"61b79ae8-cb1d-11ec-8d7a-0242ac1c0002\"] = document.querySelector(\"#id4-0-0\");\n//# sourceURL=js_43377d15f2",
      "text/plain": [
       "<IPython.core.display.Javascript object>"
      ]
     },
     "metadata": {},
     "output_type": "display_data"
    },
    {
     "data": {
      "application/javascript": "window[\"61b809ba-cb1d-11ec-8d7a-0242ac1c0002\"] = google.colab.output.setActiveOutputArea(window[\"61b79ae8-cb1d-11ec-8d7a-0242ac1c0002\"]);\n//# sourceURL=js_53038040f2",
      "text/plain": [
       "<IPython.core.display.Javascript object>"
      ]
     },
     "metadata": {},
     "output_type": "display_data"
    },
    {
     "data": {
      "application/javascript": "window[\"61d6918c-cb1d-11ec-8d7a-0242ac1c0002\"] = google.colab.output.setActiveOutputArea(window[\"61b72e1e-cb1d-11ec-8d7a-0242ac1c0002\"]);\n//# sourceURL=js_1416aa910f",
      "text/plain": [
       "<IPython.core.display.Javascript object>"
      ]
     },
     "metadata": {},
     "output_type": "display_data"
    },
    {
     "data": {
      "application/javascript": "window[\"61e86b32-cb1d-11ec-8d7a-0242ac1c0002\"] = google.colab.output.getActiveOutputArea();\n//# sourceURL=js_7f8f8c7256",
      "text/plain": [
       "<IPython.core.display.Javascript object>"
      ]
     },
     "metadata": {},
     "output_type": "display_data"
    },
    {
     "data": {
      "application/javascript": "window[\"61e8fa7a-cb1d-11ec-8d7a-0242ac1c0002\"] = document.querySelector(\"#id4-0-0\");\n//# sourceURL=js_4f08d69000",
      "text/plain": [
       "<IPython.core.display.Javascript object>"
      ]
     },
     "metadata": {},
     "output_type": "display_data"
    },
    {
     "data": {
      "application/javascript": "window[\"61e974aa-cb1d-11ec-8d7a-0242ac1c0002\"] = google.colab.output.setActiveOutputArea(window[\"61e8fa7a-cb1d-11ec-8d7a-0242ac1c0002\"]);\n//# sourceURL=js_71ea9ec93a",
      "text/plain": [
       "<IPython.core.display.Javascript object>"
      ]
     },
     "metadata": {},
     "output_type": "display_data"
    },
    {
     "data": {
      "application/javascript": "window[\"62098ac4-cb1d-11ec-8d7a-0242ac1c0002\"] = google.colab.output.setActiveOutputArea(window[\"61e86b32-cb1d-11ec-8d7a-0242ac1c0002\"]);\n//# sourceURL=js_187c623344",
      "text/plain": [
       "<IPython.core.display.Javascript object>"
      ]
     },
     "metadata": {},
     "output_type": "display_data"
    },
    {
     "data": {
      "application/javascript": "window[\"621b0772-cb1d-11ec-8d7a-0242ac1c0002\"] = google.colab.output.getActiveOutputArea();\n//# sourceURL=js_ce7dd04f0f",
      "text/plain": [
       "<IPython.core.display.Javascript object>"
      ]
     },
     "metadata": {},
     "output_type": "display_data"
    },
    {
     "data": {
      "application/javascript": "window[\"621b6dfc-cb1d-11ec-8d7a-0242ac1c0002\"] = document.querySelector(\"#id4-0-0\");\n//# sourceURL=js_0f137be425",
      "text/plain": [
       "<IPython.core.display.Javascript object>"
      ]
     },
     "metadata": {},
     "output_type": "display_data"
    },
    {
     "data": {
      "application/javascript": "window[\"621be5ac-cb1d-11ec-8d7a-0242ac1c0002\"] = google.colab.output.setActiveOutputArea(window[\"621b6dfc-cb1d-11ec-8d7a-0242ac1c0002\"]);\n//# sourceURL=js_55362a0f10",
      "text/plain": [
       "<IPython.core.display.Javascript object>"
      ]
     },
     "metadata": {},
     "output_type": "display_data"
    },
    {
     "data": {
      "application/javascript": "window[\"624e71b6-cb1d-11ec-8d7a-0242ac1c0002\"] = google.colab.output.setActiveOutputArea(window[\"621b0772-cb1d-11ec-8d7a-0242ac1c0002\"]);\n//# sourceURL=js_c4c427a079",
      "text/plain": [
       "<IPython.core.display.Javascript object>"
      ]
     },
     "metadata": {},
     "output_type": "display_data"
    },
    {
     "data": {
      "application/javascript": "window[\"625ff602-cb1d-11ec-8d7a-0242ac1c0002\"] = google.colab.output.getActiveOutputArea();\n//# sourceURL=js_7d9e070498",
      "text/plain": [
       "<IPython.core.display.Javascript object>"
      ]
     },
     "metadata": {},
     "output_type": "display_data"
    },
    {
     "data": {
      "application/javascript": "window[\"62605d18-cb1d-11ec-8d7a-0242ac1c0002\"] = document.querySelector(\"#id4-0-0\");\n//# sourceURL=js_1483da0cd1",
      "text/plain": [
       "<IPython.core.display.Javascript object>"
      ]
     },
     "metadata": {},
     "output_type": "display_data"
    },
    {
     "data": {
      "application/javascript": "window[\"6260c352-cb1d-11ec-8d7a-0242ac1c0002\"] = google.colab.output.setActiveOutputArea(window[\"62605d18-cb1d-11ec-8d7a-0242ac1c0002\"]);\n//# sourceURL=js_e9744e342f",
      "text/plain": [
       "<IPython.core.display.Javascript object>"
      ]
     },
     "metadata": {},
     "output_type": "display_data"
    },
    {
     "data": {
      "application/javascript": "window[\"627f437c-cb1d-11ec-8d7a-0242ac1c0002\"] = google.colab.output.setActiveOutputArea(window[\"625ff602-cb1d-11ec-8d7a-0242ac1c0002\"]);\n//# sourceURL=js_a690e860c4",
      "text/plain": [
       "<IPython.core.display.Javascript object>"
      ]
     },
     "metadata": {},
     "output_type": "display_data"
    },
    {
     "data": {
      "application/javascript": "window[\"6290f842-cb1d-11ec-8d7a-0242ac1c0002\"] = google.colab.output.getActiveOutputArea();\n//# sourceURL=js_b3a9308615",
      "text/plain": [
       "<IPython.core.display.Javascript object>"
      ]
     },
     "metadata": {},
     "output_type": "display_data"
    },
    {
     "data": {
      "application/javascript": "window[\"62917236-cb1d-11ec-8d7a-0242ac1c0002\"] = document.querySelector(\"#id4-0-0\");\n//# sourceURL=js_b5b5debc5c",
      "text/plain": [
       "<IPython.core.display.Javascript object>"
      ]
     },
     "metadata": {},
     "output_type": "display_data"
    },
    {
     "data": {
      "application/javascript": "window[\"6291d6c2-cb1d-11ec-8d7a-0242ac1c0002\"] = google.colab.output.setActiveOutputArea(window[\"62917236-cb1d-11ec-8d7a-0242ac1c0002\"]);\n//# sourceURL=js_1e25d2e1bc",
      "text/plain": [
       "<IPython.core.display.Javascript object>"
      ]
     },
     "metadata": {},
     "output_type": "display_data"
    },
    {
     "data": {
      "application/javascript": "window[\"62b18ab2-cb1d-11ec-8d7a-0242ac1c0002\"] = google.colab.output.setActiveOutputArea(window[\"6290f842-cb1d-11ec-8d7a-0242ac1c0002\"]);\n//# sourceURL=js_63d5489716",
      "text/plain": [
       "<IPython.core.display.Javascript object>"
      ]
     },
     "metadata": {},
     "output_type": "display_data"
    },
    {
     "name": "stdout",
     "output_type": "stream",
     "text": [
      "reach\n"
     ]
    },
    {
     "data": {
      "application/javascript": "window[\"62c39b6c-cb1d-11ec-8d7a-0242ac1c0002\"] = google.colab.output.getActiveOutputArea();\n//# sourceURL=js_48fb9827f2",
      "text/plain": [
       "<IPython.core.display.Javascript object>"
      ]
     },
     "metadata": {},
     "output_type": "display_data"
    },
    {
     "data": {
      "application/javascript": "window[\"62c414ac-cb1d-11ec-8d7a-0242ac1c0002\"] = document.querySelector(\"#id4-0-0\");\n//# sourceURL=js_2ad1936792",
      "text/plain": [
       "<IPython.core.display.Javascript object>"
      ]
     },
     "metadata": {},
     "output_type": "display_data"
    },
    {
     "data": {
      "application/javascript": "window[\"62c496ca-cb1d-11ec-8d7a-0242ac1c0002\"] = google.colab.output.setActiveOutputArea(window[\"62c414ac-cb1d-11ec-8d7a-0242ac1c0002\"]);\n//# sourceURL=js_19bfaf1ffc",
      "text/plain": [
       "<IPython.core.display.Javascript object>"
      ]
     },
     "metadata": {},
     "output_type": "display_data"
    },
    {
     "data": {
      "image/png": "[encoded data removed]",
      "text/plain": [
       "<Figure size 432x288 with 1 Axes>"
      ]
     },
     "metadata": {
      "needs_background": "light"
     },
     "output_type": "display_data"
    },
    {
     "data": {
      "application/javascript": "window[\"62e303bc-cb1d-11ec-8d7a-0242ac1c0002\"] = google.colab.output.setActiveOutputArea(window[\"62c39b6c-cb1d-11ec-8d7a-0242ac1c0002\"]);\n//# sourceURL=js_c7bf7e9988",
      "text/plain": [
       "<IPython.core.display.Javascript object>"
      ]
     },
     "metadata": {},
     "output_type": "display_data"
    }
   ],
   "source": [
    "from google.colab import widgets\n",
    "import time\n",
    "output_grid = widgets.Grid(1,1)\n",
    "env = GridEnvironment()\n",
    "action_txt = {0:\"Down\",1:\"Up\",2:\"Right\",3:\"Left\"}\n",
    "reward_eval_q_s = [] #evaluation rewards for q learning on stochastic environment\n",
    "goals = []\n",
    "\n",
    "for episode in range(10):\n",
    "  state = env.reset()\n",
    "  with output_grid.output_to(0,0):\n",
    "    output_grid.clear_cell()\n",
    "    #plt.figure()\n",
    "    plt.title(\"*****Episode: \"+str(episode+1)+\"*****\")\n",
    "    env.render()\n",
    "  time.sleep(0.1)\n",
    "  done = False\n",
    "  reward_pe =0 \n",
    "\n",
    "  goal = 0\n",
    "  \n",
    "  while not done:\n",
    "    action_probs = actor(torch.Tensor([state]).to(device))\n",
    "    action = torch.multinomial(action_probs[0],1) # Exploit learned values\n",
    "    #print(action_probs)\n",
    "    #action = torch.argmax(action_probs[0] )\n",
    "    \n",
    "\n",
    "    next_state, reward, done, info = env.step(action) \n",
    "    \n",
    "    if info == \"Congrats you have escaped the Matrix\":\n",
    "      print(\"reach\")\n",
    "      goal+=1\n",
    "      \n",
    "    reward_pe+=reward\n",
    "    a = 'Action: '+str(action_txt[action.item()])+' Reward: '+str(reward)\n",
    "    with output_grid.output_to(0,0):\n",
    "      output_grid.clear_cell()\n",
    "      #plt.figure()\n",
    "      plt.title(a)\n",
    "      plt.xlabel(info)\n",
    "      env.render()\n",
    "    time.sleep(0.1)\n",
    "    state = next_state\n",
    "\n",
    "  reward_eval_q_s.append(reward_pe)\n",
    "  goals.append(goal)\n",
    "    \n",
    "\n"
   ]
  },
  {
   "cell_type": "code",
   "execution_count": 21,
   "metadata": {
    "colab": {
     "base_uri": "https://localhost:8080/",
     "height": 281
    },
    "id": "1ZXAI7VFfijD",
    "outputId": "2d1db6ad-21a6-4ae6-8c98-7caae5950099"
   },
   "outputs": [
    {
     "data": {
      "image/png": "[encoded data removed]",
      "text/plain": [
       "<Figure size 432x288 with 1 Axes>"
      ]
     },
     "metadata": {
      "needs_background": "light"
     },
     "output_type": "display_data"
    }
   ],
   "source": [
    "plt.plot(reward_eval_q_s, )\n",
    "plt.title(\"Actor Critic on GridWorld\")\n",
    "plt.show()"
   ]
  },
  {
   "cell_type": "code",
   "execution_count": 22,
   "metadata": {
    "colab": {
     "base_uri": "https://localhost:8080/",
     "height": 281
    },
    "id": "UAElj1Iok2Dk",
    "outputId": "3b4a1776-1b2c-4f69-966d-54c1e1b45752"
   },
   "outputs": [
    {
     "data": {
      "image/png": "[encoded data removed]",
      "text/plain": [
       "<Figure size 432x288 with 1 Axes>"
      ]
     },
     "metadata": {
      "needs_background": "light"
     },
     "output_type": "display_data"
    }
   ],
   "source": [
    "plt.plot(goals,'-')\n",
    "plt.title(\"Actor Critic on GridWorld done state\")\n",
    "plt.show()"
   ]
  },
  {
   "cell_type": "markdown",
   "metadata": {
    "id": "GlFhL-nPlX-V"
   },
   "source": [
    "**Reference:**\n",
    "\n",
    "- https://towardsdatascience.com/understanding-actor-critic-methods-931b97b6df3f"
   ]
  },
  {
   "cell_type": "markdown",
   "metadata": {},
   "source": []
  }
 ],
 "metadata": {
  "colab": {
   "name": "gridworld_actor_critic.ipynb",
   "provenance": []
  },
  "kernelspec": {
   "display_name": "Python 3 (ipykernel)",
   "language": "python",
   "name": "python3"
  },
  "language_info": {
   "codemirror_mode": {
    "name": "ipython",
    "version": 3
   },
   "file_extension": ".py",
   "mimetype": "text/x-python",
   "name": "python",
   "nbconvert_exporter": "python",
   "pygments_lexer": "ipython3",
   "version": "3.9.7"
  }
 },
 "nbformat": 4,
 "nbformat_minor": 1
}
